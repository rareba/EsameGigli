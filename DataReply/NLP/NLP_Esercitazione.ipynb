{
 "cells": [
  {
   "cell_type": "markdown",
   "metadata": {},
   "source": [
    "# NLP in the kitchen\n",
    "\n",
    "#### Fonte dati: https://www.kaggle.com/datasets"
   ]
  },
  {
   "cell_type": "code",
   "execution_count": null,
   "metadata": {
    "collapsed": true
   },
   "outputs": [],
   "source": [
    "import json\n",
    "import nltk\n",
    "from nltk.stem.porter import PorterStemmer\n",
    "stem = nltk.PorterStemmer()\n",
    "from sklearn.feature_extraction.text import TfidfVectorizer, CountVectorizer\n",
    "from sklearn.metrics.pairwise import cosine_similarity\n",
    "import numpy as np\n",
    "import pandas as pd\n",
    "from wordcloud import WordCloud\n",
    "import matplotlib.pyplot as plt\n",
    "from collections import defaultdict, Counter\n",
    "#from nltk.stem.wordnet import WordNetLemmatizer\n",
    "#lemm = WordNetLemmatizer()\n",
    "#nltk.download('wordnet')"
   ]
  },
  {
   "cell_type": "markdown",
   "metadata": {},
   "source": [
    "### Data Acquisition & Data Preprocessing\n",
    "Carico il file json (contenente 20130 ricette) all'interno di una lista di dizionari ognuno dei quali conterrà le informazioni sulla singola ricetta."
   ]
  },
  {
   "cell_type": "code",
   "execution_count": null,
   "metadata": {
    "collapsed": true
   },
   "outputs": [],
   "source": [
    "with open('full_format_recipes.json') as data_file:    \n",
    "    data = json.load(data_file)"
   ]
  },
  {
   "cell_type": "markdown",
   "metadata": {},
   "source": [
    "Visualizzo il contenuto dell'elemento 2 della lista \"data\""
   ]
  },
  {
   "cell_type": "code",
   "execution_count": null,
   "metadata": {
    "collapsed": true
   },
   "outputs": [],
   "source": [
    "#..#"
   ]
  },
  {
   "cell_type": "markdown",
   "metadata": {},
   "source": [
    "Rimuoviamo i duplicati e le ricette vuote (da aggiungere):"
   ]
  },
  {
   "cell_type": "code",
   "execution_count": null,
   "metadata": {
    "collapsed": true
   },
   "outputs": [],
   "source": [
    "data = {each['title'] : each for each in data}.values()"
   ]
  },
  {
   "cell_type": "markdown",
   "metadata": {},
   "source": [
    "La variabile \"recipes\" deve contenere la lista delle descrizioni di ogni ricetta (contenuto della chiave \"directions\" del json estraibile utilizzando la funzione GET) "
   ]
  },
  {
   "cell_type": "code",
   "execution_count": null,
   "metadata": {
    "collapsed": true
   },
   "outputs": [],
   "source": [
    "#recipes=[..]"
   ]
  },
  {
   "cell_type": "markdown",
   "metadata": {},
   "source": [
    "### Text vectorization tramite bag-of-words\n",
    "\n",
    "#### In questa sezione vogliamo individuare gli ingredienti più scelti all'interno delle ricette e rappresentarli all'interno di un wordcloud\n",
    "\n",
    "Utilizziamo la libreria nltk (http://www.nltk.org/book/ch03.html) per:\n",
    "- suddividere le ricette in singole parole (tokens)\n",
    "- associare ad ogni parola la sua categoria grammaticale (Part-of-Speech tagging) e filtro solo per i nomi singolari e plurali\n",
    "- eseguire lo stemming delle parole estratte\n",
    "- contiamo quante volte un ingrediente è presente nelle ricette (Usiamo la libreria di python Scikit-learn con la classe CountVectorizer http://scikit-learn.org/stable/modules/classes.html#text-feature-extraction-ref)"
   ]
  },
  {
   "cell_type": "code",
   "execution_count": null,
   "metadata": {
    "collapsed": true
   },
   "outputs": [],
   "source": [
    "#seleziono la ricetta di indice 3\n",
    "recipeN3=recipes[3]"
   ]
  },
  {
   "cell_type": "code",
   "execution_count": null,
   "metadata": {
    "collapsed": true
   },
   "outputs": [],
   "source": [
    "noise_list=[]\n",
    "#tokens=...\n",
    "#tagged=...\n",
    "#ingredients...\n",
    "#ingredi=..."
   ]
  },
  {
   "cell_type": "code",
   "execution_count": null,
   "metadata": {
    "collapsed": true
   },
   "outputs": [],
   "source": [
    "#bag_of_wordsVectorize=...\n",
    "#counts=...\n",
    "frequence=zip(bag_of_wordsVectorize.get_feature_names(), np.asarray(counts.sum(axis=0)).ravel())\n",
    "#dict_frequence=..."
   ]
  },
  {
   "cell_type": "code",
   "execution_count": null,
   "metadata": {
    "collapsed": true
   },
   "outputs": [],
   "source": [
    "#wordcloud_Count = ...\n",
    "#wordcloud_Count. ...\n",
    "plt.figure()\n",
    "plt.imshow(wordcloud_Count, interpolation=\"bilinear\")\n",
    "plt.axis(\"off\")\n",
    "plt.show()"
   ]
  },
  {
   "cell_type": "markdown",
   "metadata": {},
   "source": [
    "### Term frequency–inverse document frequency (TF-IDF)\n",
    "\n",
    "Vogliamo calcolare l'indice tf-idf per ogni ingrediente presente in una ricetta ed estrarre da ogni ricetta gli indici tf-idf più alti.\n",
    "\n",
    "Come prima cosa definiamo 2 funzioni:\n",
    "- funzione1: esegue la fase di preprocessing per ogni ricetta\n",
    "- funzione2: preso in input un numero di ricette desiderate, esegue e concatena il risultato della funzione precedente"
   ]
  },
  {
   "cell_type": "code",
   "execution_count": null,
   "metadata": {
    "collapsed": true
   },
   "outputs": [],
   "source": [
    "noise_list=[]\n",
    "def search_from_recipes(text):\n",
    "    #tokens=...\n",
    "    #tagged=...\n",
    "    #ingredients=...\n",
    "    #ingredi=...\n",
    "    \n",
    "    return \" \".join(ingredi)"
   ]
  },
  {
   "cell_type": "code",
   "execution_count": null,
   "metadata": {
    "collapsed": true
   },
   "outputs": [],
   "source": [
    "def set_documents(n):\n",
    "    text=[]\n",
    "    #...\n",
    "    \n",
    "    return text"
   ]
  },
  {
   "cell_type": "code",
   "execution_count": null,
   "metadata": {
    "collapsed": true
   },
   "outputs": [],
   "source": [
    "text=set_documents(#numero_ricette#)"
   ]
  },
  {
   "cell_type": "markdown",
   "metadata": {},
   "source": [
    "###### Prossimi passi:\n",
    "- Costruzione della matrice sparsa tf-idf \n",
    "- Estrazione di 5 ingredienti con indice più alto all'interno di una ricetta\n",
    "- Definizione della funzione che dato in input l'indice della ricetta (N) restituisca in output l'estrazione dei 5 ingredienti"
   ]
  },
  {
   "cell_type": "code",
   "execution_count": null,
   "metadata": {
    "collapsed": true
   },
   "outputs": [],
   "source": [
    "#vectorizer_tfidf=...\n",
    "#dictionary=...\n",
    "#tfidf_matrix=..."
   ]
  },
  {
   "cell_type": "code",
   "execution_count": null,
   "metadata": {
    "collapsed": true
   },
   "outputs": [],
   "source": [
    "# Prendiamo la ricetta di indice 1\n",
    "#list_tfidf=...\n",
    "#name_tfidf=...\n",
    "dict_tfidf=dict(zip(name_tfidf, list_tfidf))\n",
    "#order_tfidf=...\n",
    "#max_tfidf=..."
   ]
  },
  {
   "cell_type": "code",
   "execution_count": null,
   "metadata": {
    "collapsed": true
   },
   "outputs": [],
   "source": []
  },
  {
   "cell_type": "code",
   "execution_count": null,
   "metadata": {
    "collapsed": true
   },
   "outputs": [],
   "source": [
    "def take_n_ingredients(recipe_n, dictionary, tfidf_matrix):\n",
    "    #list_tfidf=...\n",
    "    #name_tfidf=...\n",
    "    dict_tfidf=dict(zip(name_tfidf, list_tfidf))\n",
    "    #order_tfidf=...\n",
    "    \n",
    "    return #..."
   ]
  },
  {
   "cell_type": "markdown",
   "metadata": {},
   "source": [
    "###### Ingredienti principali\n",
    "A questo punto possiamo creare la funzione \"principal_ingredients\" che dato un numero di ricette unisca il risultato della funzione \"take_ingredients\" all'interno di un'unica lista e restituisca il dizionario contentente il numero di volte in cui l'ingrediente è presente nella lista:"
   ]
  },
  {
   "cell_type": "code",
   "execution_count": null,
   "metadata": {
    "collapsed": true
   },
   "outputs": [],
   "source": [
    "def principal_ing_docs(nDocs, dictionary, tfidf_matrix):\n",
    "    #all_ingredients=...\n",
    "    d=dict(Counter(all_ingredients))\n",
    "    \n",
    "    return d"
   ]
  },
  {
   "cell_type": "code",
   "execution_count": null,
   "metadata": {
    "collapsed": true
   },
   "outputs": [],
   "source": [
    "dict_ingredients=principal_ing_docs(#num_ricettta#, dictionary, tfidf_matrix)"
   ]
  },
  {
   "cell_type": "code",
   "execution_count": null,
   "metadata": {
    "collapsed": true
   },
   "outputs": [],
   "source": [
    "#wordcloud_tfidf = ...\n",
    "#wordcloud_tfidf. ...\n",
    "plt.figure()\n",
    "plt.imshow(wordcloud_tfidf, interpolation=\"bilinear\")\n",
    "plt.axis(\"off\")\n",
    "plt.show()"
   ]
  },
  {
   "cell_type": "markdown",
   "metadata": {},
   "source": [
    "###### Confrontiamo i risultati del CountVectorizer e del TfidfVectorizer"
   ]
  },
  {
   "cell_type": "code",
   "execution_count": null,
   "metadata": {
    "collapsed": true
   },
   "outputs": [],
   "source": [
    "#wordcloud_tfidf =...\n",
    "#wordcloud_tfidf. ...\n",
    "plt.figure(1)\n",
    "plt.imshow(wordcloud_tfidf, interpolation=\"bilinear\")\n",
    "plt.axis(\"off\")\n",
    "\n",
    "#wordcloud_Count = ...\n",
    "#wordcloud_Count. ...\n",
    "plt.figure(2)\n",
    "plt.imshow(wordcloud_Count, interpolation=\"bilinear\")\n",
    "plt.axis(\"off\")\n",
    "plt.show()"
   ]
  },
  {
   "cell_type": "markdown",
   "metadata": {},
   "source": [
    "## Document similarity metrics"
   ]
  },
  {
   "cell_type": "markdown",
   "metadata": {},
   "source": [
    "Vogliamo definire una funzione che determini la somiglianza tra ricette. In particolare, a partire dall'indice della ricetta, vogliamo ottenere tutte le ricette più simili a quella scelta sulla base dell'inidice di similarità. (Utilizziamo la Cosine_similarity della libreria scikit-learn)"
   ]
  },
  {
   "cell_type": "code",
   "execution_count": null,
   "metadata": {
    "collapsed": true
   },
   "outputs": [],
   "source": [
    "def similar_recipes(n_rec):\n",
    "    #array_sim=...\n",
    "    list_similarity=array_sim.tolist()\n",
    "    #list_similarity=...\n",
    "    #tup= lista contenente tuple composte da (indice numerico, elemento)\n",
    "    #list_val=...\n",
    "    #list_ok=...\n",
    "    #list_title=...\n",
    "    \n",
    "    return list_title"
   ]
  },
  {
   "cell_type": "code",
   "execution_count": null,
   "metadata": {
    "collapsed": true
   },
   "outputs": [],
   "source": [
    "similar_recipes(#Indice_ricetta da confrontare#)"
   ]
  }
 ],
 "metadata": {
  "kernelspec": {
   "display_name": "Python [conda root]",
   "language": "python",
   "name": "conda-root-py"
  },
  "language_info": {
   "codemirror_mode": {
    "name": "ipython",
    "version": 2
   },
   "file_extension": ".py",
   "mimetype": "text/x-python",
   "name": "python",
   "nbconvert_exporter": "python",
   "pygments_lexer": "ipython2",
   "version": "2.7.13"
  }
 },
 "nbformat": 4,
 "nbformat_minor": 2
}
