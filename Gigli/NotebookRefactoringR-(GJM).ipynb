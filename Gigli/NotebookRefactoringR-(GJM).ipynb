{
 "cells": [
  {
   "cell_type": "markdown",
   "metadata": {},
   "source": [
    "# Refactoring a cura di Giulio, Jacopo e Mohammed\n",
    "\n"
   ]
  },
  {
   "cell_type": "markdown",
   "metadata": {
    "collapsed": true
   },
   "source": [
    "Installiamo le librerie necessarie:"
   ]
  },
  {
   "cell_type": "code",
   "execution_count": null,
   "metadata": {
    "collapsed": false,
    "scrolled": true
   },
   "outputs": [],
   "source": [
    "# Librerie da installare\n",
    "install.packages(c('httr', 'readr', 'data.table', 'psych', 'htmltab', 'stringi', 'bizdays', 'stringr', 'dplyr', 'lubridate', 'zoo', 'reshape2'))"
   ]
  },
  {
   "cell_type": "markdown",
   "metadata": {},
   "source": [
    "# Parte 1 - REST API"
   ]
  },
  {
   "cell_type": "markdown",
   "metadata": {
    "collapsed": true
   },
   "source": [
    "## Consuming APIs and JSON"
   ]
  },
  {
   "cell_type": "code",
   "execution_count": 6,
   "metadata": {
    "collapsed": false
   },
   "outputs": [
    {
     "data": {
      "text/html": [
       "<dl>\n",
       "\t<dt>$id</dt>\n",
       "\t\t<dd>'KDCA'</dd>\n",
       "\t<dt>$name</dt>\n",
       "\t\t<dd>'Washington/Reagan National Airport, DC'</dd>\n",
       "\t<dt>$elev</dt>\n",
       "\t\t<dd>'13'</dd>\n",
       "\t<dt>$latitude</dt>\n",
       "\t\t<dd>'38.85'</dd>\n",
       "\t<dt>$longitude</dt>\n",
       "\t\t<dd>'-77.03'</dd>\n",
       "\t<dt>$Date</dt>\n",
       "\t\t<dd>'22 Jun 03:52 am EDT'</dd>\n",
       "\t<dt>$Temp</dt>\n",
       "\t\t<dd>'77'</dd>\n",
       "\t<dt>$Dewp</dt>\n",
       "\t\t<dd>'71'</dd>\n",
       "\t<dt>$Relh</dt>\n",
       "\t\t<dd>'82'</dd>\n",
       "\t<dt>$Winds</dt>\n",
       "\t\t<dd>'6'</dd>\n",
       "\t<dt>$Windd</dt>\n",
       "\t\t<dd>'220'</dd>\n",
       "\t<dt>$Gust</dt>\n",
       "\t\t<dd>'0'</dd>\n",
       "\t<dt>$Weather</dt>\n",
       "\t\t<dd>'Mostly Cloudy'</dd>\n",
       "\t<dt>$Weatherimage</dt>\n",
       "\t\t<dd>'nbkn.png'</dd>\n",
       "\t<dt>$Visibility</dt>\n",
       "\t\t<dd>'10.00'</dd>\n",
       "\t<dt>$Altimeter</dt>\n",
       "\t\t<dd>'1015.1'</dd>\n",
       "\t<dt>$SLP</dt>\n",
       "\t\t<dd>'29.98'</dd>\n",
       "\t<dt>$timezone</dt>\n",
       "\t\t<dd>'EDT'</dd>\n",
       "\t<dt>$state</dt>\n",
       "\t\t<dd>'VA'</dd>\n",
       "\t<dt>$WindChill</dt>\n",
       "\t\t<dd>'NA'</dd>\n",
       "</dl>\n"
      ],
      "text/latex": [
       "\\begin{description}\n",
       "\\item[\\$id] 'KDCA'\n",
       "\\item[\\$name] 'Washington/Reagan National Airport, DC'\n",
       "\\item[\\$elev] '13'\n",
       "\\item[\\$latitude] '38.85'\n",
       "\\item[\\$longitude] '-77.03'\n",
       "\\item[\\$Date] '22 Jun 03:52 am EDT'\n",
       "\\item[\\$Temp] '77'\n",
       "\\item[\\$Dewp] '71'\n",
       "\\item[\\$Relh] '82'\n",
       "\\item[\\$Winds] '6'\n",
       "\\item[\\$Windd] '220'\n",
       "\\item[\\$Gust] '0'\n",
       "\\item[\\$Weather] 'Mostly Cloudy'\n",
       "\\item[\\$Weatherimage] 'nbkn.png'\n",
       "\\item[\\$Visibility] '10.00'\n",
       "\\item[\\$Altimeter] '1015.1'\n",
       "\\item[\\$SLP] '29.98'\n",
       "\\item[\\$timezone] 'EDT'\n",
       "\\item[\\$state] 'VA'\n",
       "\\item[\\$WindChill] 'NA'\n",
       "\\end{description}\n"
      ],
      "text/markdown": [
       "$id\n",
       ":   'KDCA'\n",
       "$name\n",
       ":   'Washington/Reagan National Airport, DC'\n",
       "$elev\n",
       ":   '13'\n",
       "$latitude\n",
       ":   '38.85'\n",
       "$longitude\n",
       ":   '-77.03'\n",
       "$Date\n",
       ":   '22 Jun 03:52 am EDT'\n",
       "$Temp\n",
       ":   '77'\n",
       "$Dewp\n",
       ":   '71'\n",
       "$Relh\n",
       ":   '82'\n",
       "$Winds\n",
       ":   '6'\n",
       "$Windd\n",
       ":   '220'\n",
       "$Gust\n",
       ":   '0'\n",
       "$Weather\n",
       ":   'Mostly Cloudy'\n",
       "$Weatherimage\n",
       ":   'nbkn.png'\n",
       "$Visibility\n",
       ":   '10.00'\n",
       "$Altimeter\n",
       ":   '1015.1'\n",
       "$SLP\n",
       ":   '29.98'\n",
       "$timezone\n",
       ":   'EDT'\n",
       "$state\n",
       ":   'VA'\n",
       "$WindChill\n",
       ":   'NA'\n",
       "\n",
       "\n"
      ],
      "text/plain": [
       "$id\n",
       "[1] \"KDCA\"\n",
       "\n",
       "$name\n",
       "[1] \"Washington/Reagan National Airport, DC\"\n",
       "\n",
       "$elev\n",
       "[1] \"13\"\n",
       "\n",
       "$latitude\n",
       "[1] \"38.85\"\n",
       "\n",
       "$longitude\n",
       "[1] \"-77.03\"\n",
       "\n",
       "$Date\n",
       "[1] \"22 Jun 03:52 am EDT\"\n",
       "\n",
       "$Temp\n",
       "[1] \"77\"\n",
       "\n",
       "$Dewp\n",
       "[1] \"71\"\n",
       "\n",
       "$Relh\n",
       "[1] \"82\"\n",
       "\n",
       "$Winds\n",
       "[1] \"6\"\n",
       "\n",
       "$Windd\n",
       "[1] \"220\"\n",
       "\n",
       "$Gust\n",
       "[1] \"0\"\n",
       "\n",
       "$Weather\n",
       "[1] \"Mostly Cloudy\"\n",
       "\n",
       "$Weatherimage\n",
       "[1] \"nbkn.png\"\n",
       "\n",
       "$Visibility\n",
       "[1] \"10.00\"\n",
       "\n",
       "$Altimeter\n",
       "[1] \"1015.1\"\n",
       "\n",
       "$SLP\n",
       "[1] \"29.98\"\n",
       "\n",
       "$timezone\n",
       "[1] \"EDT\"\n",
       "\n",
       "$state\n",
       "[1] \"VA\"\n",
       "\n",
       "$WindChill\n",
       "[1] \"NA\"\n"
      ]
     },
     "metadata": {},
     "output_type": "display_data"
    }
   ],
   "source": [
    "library(httr)\n",
    "\n",
    "WScall <- function(endpoint, parameters) {\n",
    "    result <- GET(endpoint, query = parameters)\n",
    "    return(result)\n",
    "}\n",
    "\n",
    "ad <- \"1600 Pennsylvania Avenue, Washington, DC\"\n",
    "urla <- \"http://nominatim.openstreetmap.org/search\"\n",
    "paramA <- list(q = ad, addressdetails = 1, format = \"json\")\n",
    "\n",
    "resA <- WScall(urla, paramA)\n",
    "\n",
    "if (resA$status_code == 200) {\n",
    "    adrjson <- content(resA, as = \"parsed\")\n",
    "    lat = adrjson[[1]]$lat\n",
    "    lon = adrjson[[1]]$lon\n",
    "}\n",
    "\n",
    "urlw <- \"http://forecast.weather.gov/MapClick.php\"\n",
    "paramW <- list(lat = lat, lon = lon, FcstType = \"json\")\n",
    "\n",
    "resW <- WScall(urlw, paramW)\n",
    "\n",
    "if (resW$status_code == 200) {\n",
    "    weajson <- content(resW, as = \"parsed\")\n",
    "    weajson$currentobservation\n",
    "}"
   ]
  },
  {
   "cell_type": "markdown",
   "metadata": {},
   "source": [
    "# Parte 2 - Libreria PANDAS"
   ]
  },
  {
   "cell_type": "markdown",
   "metadata": {},
   "source": [
    "## Nouns (objects) in Pandas\n",
    "### Data Frames\n",
    "Con due vettori creo il dataframe"
   ]
  },
  {
   "cell_type": "code",
   "execution_count": 7,
   "metadata": {
    "collapsed": false
   },
   "outputs": [
    {
     "data": {
      "text/html": [
       "<table>\n",
       "<thead><tr><th scope=col>number</th><th scope=col>animal</th></tr></thead>\n",
       "<tbody>\n",
       "\t<tr><td>1    </td><td>cat  </td></tr>\n",
       "\t<tr><td>2    </td><td>dog  </td></tr>\n",
       "\t<tr><td>3    </td><td>mouse</td></tr>\n",
       "</tbody>\n",
       "</table>\n"
      ],
      "text/latex": [
       "\\begin{tabular}{r|ll}\n",
       " number & animal\\\\\n",
       "\\hline\n",
       "\t 1     & cat  \\\\\n",
       "\t 2     & dog  \\\\\n",
       "\t 3     & mouse\\\\\n",
       "\\end{tabular}\n"
      ],
      "text/plain": [
       "  number animal\n",
       "1 1      cat   \n",
       "2 2      dog   \n",
       "3 3      mouse "
      ]
     },
     "metadata": {},
     "output_type": "display_data"
    },
    {
     "data": {
      "text/html": [
       "<ol class=list-inline>\n",
       "\t<li>cat</li>\n",
       "\t<li>dog</li>\n",
       "\t<li>mouse</li>\n",
       "</ol>\n"
      ],
      "text/latex": [
       "\\begin{enumerate*}\n",
       "\\item cat\n",
       "\\item dog\n",
       "\\item mouse\n",
       "\\end{enumerate*}\n"
      ],
      "text/markdown": [
       "1. cat\n",
       "2. dog\n",
       "3. mouse\n",
       "\n",
       "\n"
      ],
      "text/plain": [
       "[1] cat   dog   mouse\n",
       "Levels: cat dog mouse"
      ]
     },
     "metadata": {},
     "output_type": "display_data"
    }
   ],
   "source": [
    "number = c(1, 2, 3)\n",
    "animal = c('cat', 'dog', 'mouse')\n",
    "df1 = data.frame(number, animal)\n",
    "df1\n",
    "\n",
    "df1$animal"
   ]
  },
  {
   "cell_type": "markdown",
   "metadata": {
    "collapsed": true
   },
   "source": [
    "1)Richiamo la colonna \"animal\" del data frame.\n",
    "\n",
    "2)Estraggo gli elementi della colonna \"animal\" come una lista.\n",
    "\n",
    "3)Per creare un data frame possiamo anche operare in altri modi.\n",
    "\n",
    "4)Con la libreria compare posso confrontare i due data frame."
   ]
  },
  {
   "cell_type": "code",
   "execution_count": 8,
   "metadata": {
    "collapsed": false
   },
   "outputs": [
    {
     "data": {
      "text/html": [
       "<table>\n",
       "<thead><tr><th scope=col>animal</th></tr></thead>\n",
       "<tbody>\n",
       "\t<tr><td>cat  </td></tr>\n",
       "\t<tr><td>dog  </td></tr>\n",
       "\t<tr><td>mouse</td></tr>\n",
       "</tbody>\n",
       "</table>\n"
      ],
      "text/latex": [
       "\\begin{tabular}{r|l}\n",
       " animal\\\\\n",
       "\\hline\n",
       "\t cat  \\\\\n",
       "\t dog  \\\\\n",
       "\t mouse\\\\\n",
       "\\end{tabular}\n"
      ],
      "text/plain": [
       "  animal\n",
       "1 cat   \n",
       "2 dog   \n",
       "3 mouse "
      ]
     },
     "metadata": {},
     "output_type": "display_data"
    },
    {
     "data": {
      "text/html": [
       "<ol>\n",
       "\t<li>cat</li>\n",
       "\t<li>dog</li>\n",
       "\t<li>mouse</li>\n",
       "</ol>\n"
      ],
      "text/latex": [
       "\\begin{enumerate}\n",
       "\\item cat\n",
       "\\item dog\n",
       "\\item mouse\n",
       "\\end{enumerate}\n"
      ],
      "text/markdown": [
       "1. cat\n",
       "2. dog\n",
       "3. mouse\n",
       "\n",
       "\n"
      ],
      "text/plain": [
       "[[1]]\n",
       "[1] cat\n",
       "Levels: cat dog mouse\n",
       "\n",
       "[[2]]\n",
       "[1] dog\n",
       "Levels: cat dog mouse\n",
       "\n",
       "[[3]]\n",
       "[1] mouse\n",
       "Levels: cat dog mouse\n"
      ]
     },
     "metadata": {},
     "output_type": "display_data"
    },
    {
     "data": {
      "text/html": [
       "<table>\n",
       "<thead><tr><th scope=col>animal</th><th scope=col>number</th></tr></thead>\n",
       "<tbody>\n",
       "\t<tr><td>cat  </td><td>1    </td></tr>\n",
       "\t<tr><td>dog  </td><td>2    </td></tr>\n",
       "\t<tr><td>mouse</td><td>3    </td></tr>\n",
       "</tbody>\n",
       "</table>\n"
      ],
      "text/latex": [
       "\\begin{tabular}{r|ll}\n",
       " animal & number\\\\\n",
       "\\hline\n",
       "\t cat   & 1    \\\\\n",
       "\t dog   & 2    \\\\\n",
       "\t mouse & 3    \\\\\n",
       "\\end{tabular}\n"
      ],
      "text/plain": [
       "  animal number\n",
       "1 cat    1     \n",
       "2 dog    2     \n",
       "3 mouse  3     "
      ]
     },
     "metadata": {},
     "output_type": "display_data"
    },
    {
     "data": {
      "text/html": [
       "<table>\n",
       "<thead><tr><th scope=col>animal</th><th scope=col>number</th></tr></thead>\n",
       "<tbody>\n",
       "\t<tr><td>cat  </td><td>1    </td></tr>\n",
       "\t<tr><td>dog  </td><td>2    </td></tr>\n",
       "\t<tr><td>mouse</td><td>3    </td></tr>\n",
       "</tbody>\n",
       "</table>\n"
      ],
      "text/latex": [
       "\\begin{tabular}{r|ll}\n",
       " animal & number\\\\\n",
       "\\hline\n",
       "\t cat   & 1    \\\\\n",
       "\t dog   & 2    \\\\\n",
       "\t mouse & 3    \\\\\n",
       "\\end{tabular}\n"
      ],
      "text/plain": [
       "  animal number\n",
       "1 cat    1     \n",
       "2 dog    2     \n",
       "3 mouse  3     "
      ]
     },
     "metadata": {},
     "output_type": "display_data"
    },
    {
     "ename": "ERROR",
     "evalue": "Error in library(compare): there is no package called 'compare'\n",
     "output_type": "error",
     "traceback": [
      "Error in library(compare): there is no package called 'compare'\nTraceback:\n",
      "1. library(compare)",
      "2. stop(txt, domain = NA)"
     ]
    }
   ],
   "source": [
    "df1[\"animal\"] #1\n",
    "\n",
    "as.list(df1$animal) #2\n",
    "\n",
    "df2 <- data.frame(animal=animal, number= number) #3\n",
    "df2\n",
    "df2 <- as.data.frame(cbind(animal,number)) #3\n",
    "df2\n",
    "\n",
    "library(compare)   #4\n",
    "compare(df1,df2,allowAll=TRUE)"
   ]
  },
  {
   "cell_type": "markdown",
   "metadata": {
    "collapsed": true
   },
   "source": [
    "# Verbs (operations) in Pandas\n",
    "## Loading data (and basic statistics / visualization)"
   ]
  },
  {
   "cell_type": "code",
   "execution_count": 9,
   "metadata": {
    "collapsed": false
   },
   "outputs": [
    {
     "name": "stderr",
     "output_type": "stream",
     "text": [
      "Parsed with column specification:\n",
      "cols(\n",
      "  State_Code = col_character(),\n",
      "  County_Code = col_character(),\n",
      "  Census_Tract_Number = col_character(),\n",
      "  NUM_ALL = col_integer(),\n",
      "  NUM_FHA = col_integer(),\n",
      "  PCT_NUM_FHA = col_integer(),\n",
      "  AMT_ALL = col_integer(),\n",
      "  AMT_FHA = col_integer(),\n",
      "  PCT_AMT_FHA = col_integer()\n",
      ")\n",
      "Warning message:\n",
      "\"115232 parsing failures.\n",
      " row         col               expected actual\n",
      "1217 PCT_NUM_FHA no trailing characters  .9091\n",
      "1217 PCT_AMT_FHA no trailing characters  .7336\n",
      "1218 PCT_NUM_FHA no trailing characters  .3333\n",
      "1218 PCT_AMT_FHA no trailing characters  .6689\n",
      "1219 PCT_NUM_FHA no trailing characters  .9091\n",
      ".... ........... ...................... ......\n",
      "See problems(...) for more details.\n",
      "\""
     ]
    },
    {
     "data": {
      "text/html": [
       "<table>\n",
       "<thead><tr><th scope=col>State_Code</th><th scope=col>County_Code</th><th scope=col>Census_Tract_Number</th><th scope=col>NUM_ALL</th><th scope=col>NUM_FHA</th><th scope=col>PCT_NUM_FHA</th><th scope=col>AMT_ALL</th><th scope=col>AMT_FHA</th><th scope=col>PCT_AMT_FHA</th></tr></thead>\n",
       "<tbody>\n",
       "\t<tr><td>08     </td><td>075    </td><td>NA     </td><td>1      </td><td>1      </td><td>100    </td><td>258    </td><td>258    </td><td>100    </td></tr>\n",
       "\t<tr><td>28     </td><td>049    </td><td>0103.01</td><td>1      </td><td>1      </td><td>100    </td><td> 71    </td><td> 71    </td><td>100    </td></tr>\n",
       "\t<tr><td>40     </td><td>003    </td><td>NA     </td><td>1      </td><td>1      </td><td>100    </td><td>215    </td><td>215    </td><td>100    </td></tr>\n",
       "\t<tr><td>39     </td><td>113    </td><td>0603.00</td><td>3      </td><td>3      </td><td>100    </td><td>206    </td><td>206    </td><td>100    </td></tr>\n",
       "\t<tr><td>12     </td><td>105    </td><td>0124.04</td><td>2      </td><td>2      </td><td>100    </td><td>303    </td><td>303    </td><td>100    </td></tr>\n",
       "\t<tr><td>12     </td><td>086    </td><td>9808.00</td><td>1      </td><td>1      </td><td>100    </td><td>188    </td><td>188    </td><td>100    </td></tr>\n",
       "</tbody>\n",
       "</table>\n"
      ],
      "text/latex": [
       "\\begin{tabular}{r|lllllllll}\n",
       " State\\_Code & County\\_Code & Census\\_Tract\\_Number & NUM\\_ALL & NUM\\_FHA & PCT\\_NUM\\_FHA & AMT\\_ALL & AMT\\_FHA & PCT\\_AMT\\_FHA\\\\\n",
       "\\hline\n",
       "\t 08      & 075     & NA      & 1       & 1       & 100     & 258     & 258     & 100    \\\\\n",
       "\t 28      & 049     & 0103.01 & 1       & 1       & 100     &  71     &  71     & 100    \\\\\n",
       "\t 40      & 003     & NA      & 1       & 1       & 100     & 215     & 215     & 100    \\\\\n",
       "\t 39      & 113     & 0603.00 & 3       & 3       & 100     & 206     & 206     & 100    \\\\\n",
       "\t 12      & 105     & 0124.04 & 2       & 2       & 100     & 303     & 303     & 100    \\\\\n",
       "\t 12      & 086     & 9808.00 & 1       & 1       & 100     & 188     & 188     & 100    \\\\\n",
       "\\end{tabular}\n"
      ],
      "text/plain": [
       "  State_Code County_Code Census_Tract_Number NUM_ALL NUM_FHA PCT_NUM_FHA\n",
       "1 08         075         NA                  1       1       100        \n",
       "2 28         049         0103.01             1       1       100        \n",
       "3 40         003         NA                  1       1       100        \n",
       "4 39         113         0603.00             3       3       100        \n",
       "5 12         105         0124.04             2       2       100        \n",
       "6 12         086         9808.00             1       1       100        \n",
       "  AMT_ALL AMT_FHA PCT_AMT_FHA\n",
       "1 258     258     100        \n",
       "2  71      71     100        \n",
       "3 215     215     100        \n",
       "4 206     206     100        \n",
       "5 303     303     100        \n",
       "6 188     188     100        "
      ]
     },
     "metadata": {},
     "output_type": "display_data"
    },
    {
     "data": {
      "text/html": [
       "<table>\n",
       "<thead><tr><th scope=col>State_Code</th><th scope=col>County_Code</th><th scope=col>Census_Tract_Number</th><th scope=col>NUM_ALL</th><th scope=col>NUM_FHA</th><th scope=col>PCT_NUM_FHA</th><th scope=col>AMT_ALL</th><th scope=col>AMT_FHA</th><th scope=col>PCT_AMT_FHA</th><th scope=col>GEOID</th></tr></thead>\n",
       "<tbody>\n",
       "\t<tr><td>08         </td><td>075        </td><td>NA         </td><td>1          </td><td>1          </td><td>100        </td><td>258        </td><td>258        </td><td>100        </td><td>NA         </td></tr>\n",
       "\t<tr><td>28         </td><td>049        </td><td>0103.01    </td><td>1          </td><td>1          </td><td>100        </td><td> 71        </td><td> 71        </td><td>100        </td><td>28049010301</td></tr>\n",
       "\t<tr><td>40         </td><td>003        </td><td>NA         </td><td>1          </td><td>1          </td><td>100        </td><td>215        </td><td>215        </td><td>100        </td><td>NA         </td></tr>\n",
       "\t<tr><td>39         </td><td>113        </td><td>0603.00    </td><td>3          </td><td>3          </td><td>100        </td><td>206        </td><td>206        </td><td>100        </td><td>39113060300</td></tr>\n",
       "\t<tr><td>12         </td><td>105        </td><td>0124.04    </td><td>2          </td><td>2          </td><td>100        </td><td>303        </td><td>303        </td><td>100        </td><td>12105012404</td></tr>\n",
       "\t<tr><td>12         </td><td>086        </td><td>9808.00    </td><td>1          </td><td>1          </td><td>100        </td><td>188        </td><td>188        </td><td>100        </td><td>12086980800</td></tr>\n",
       "</tbody>\n",
       "</table>\n"
      ],
      "text/latex": [
       "\\begin{tabular}{r|llllllllll}\n",
       " State\\_Code & County\\_Code & Census\\_Tract\\_Number & NUM\\_ALL & NUM\\_FHA & PCT\\_NUM\\_FHA & AMT\\_ALL & AMT\\_FHA & PCT\\_AMT\\_FHA & GEOID\\\\\n",
       "\\hline\n",
       "\t 08          & 075         & NA          & 1           & 1           & 100         & 258         & 258         & 100         & NA         \\\\\n",
       "\t 28          & 049         & 0103.01     & 1           & 1           & 100         &  71         &  71         & 100         & 28049010301\\\\\n",
       "\t 40          & 003         & NA          & 1           & 1           & 100         & 215         & 215         & 100         & NA         \\\\\n",
       "\t 39          & 113         & 0603.00     & 3           & 3           & 100         & 206         & 206         & 100         & 39113060300\\\\\n",
       "\t 12          & 105         & 0124.04     & 2           & 2           & 100         & 303         & 303         & 100         & 12105012404\\\\\n",
       "\t 12          & 086         & 9808.00     & 1           & 1           & 100         & 188         & 188         & 100         & 12086980800\\\\\n",
       "\\end{tabular}\n"
      ],
      "text/plain": [
       "  State_Code County_Code Census_Tract_Number NUM_ALL NUM_FHA PCT_NUM_FHA\n",
       "1 08         075         NA                  1       1       100        \n",
       "2 28         049         0103.01             1       1       100        \n",
       "3 40         003         NA                  1       1       100        \n",
       "4 39         113         0603.00             3       3       100        \n",
       "5 12         105         0124.04             2       2       100        \n",
       "6 12         086         9808.00             1       1       100        \n",
       "  AMT_ALL AMT_FHA PCT_AMT_FHA GEOID      \n",
       "1 258     258     100         NA         \n",
       "2  71      71     100         28049010301\n",
       "3 215     215     100         NA         \n",
       "4 206     206     100         39113060300\n",
       "5 303     303     100         12105012404\n",
       "6 188     188     100         12086980800"
      ]
     },
     "metadata": {},
     "output_type": "display_data"
    },
    {
     "ename": "ERROR",
     "evalue": "Error in df$GEOID = NULL: object of type 'closure' is not subsettable\n",
     "output_type": "error",
     "traceback": [
      "Error in df$GEOID = NULL: object of type 'closure' is not subsettable\nTraceback:\n"
     ]
    }
   ],
   "source": [
    "library(readr)\n",
    "library(data.table)\n",
    "names = c(\"State_Code\", \"County_Code\", \"Census_Tract_Number\", \"NUM_ALL\", \"NUM_FHA\", \"PCT_NUM_FHA\", \"AMT_ALL\", \"AMT_FHA\", \"PCT_AMT_FHA\")\n",
    "dt = as.data.table(read_csv(\"C:/Users/GiulioVannini/Documents/Visual Studio 2017/Projects/MABIDA2017/Gigli/Management science/Data/fha_by_tract.csv\", col_names = names))\n",
    "head(dt)\n",
    "\n",
    "#inseriamo una nuova colonna GEOID nel dataframe\n",
    "\n",
    "dt$GEOID = as.character(with(dt, as.numeric(Census_Tract_Number) * 100 + 10 ^ 6 * as.numeric(County_Code) + 10 ^ 9 * as.numeric(State_Code)  ))\n",
    "head(dt)\n",
    "\n",
    "df$GEOID = NULL # per escludere la colonna... ma perche' dovremmo dropparla?\n",
    "\n",
    "df = dt[-1,]\n",
    "\n",
    "# Indici su data frame\n",
    "setkey(dt, State_Code, County_Code)\n",
    "head(dt)\n",
    "data.frame(unclass(summary(dt)))\n",
    "\n",
    "str(dt)\n",
    "\n",
    "library(psych)\n",
    "describeBy(dt, dt$PCT_AMT_FHA)\n",
    "describeBy(dt)\n",
    "hist(dt$PCT_AMT_FHA, col = rgb(1, 0, 0, 0.5))\n",
    "\n",
    "#Creo una nuova colonna applicando il logaritmo ai valori di AMT_ALL del data frame\n",
    "\n",
    "dt$LOG_AMT_ALL = log1p(df$AMT_ALL)\n",
    "hist(dt$LOG_AMT_ALL, col = rgb(1, 0, 0, 0.5))"
   ]
  },
  {
   "cell_type": "markdown",
   "metadata": {
    "collapsed": true
   },
   "source": [
    "# Indexing data frames"
   ]
  },
  {
   "cell_type": "code",
   "execution_count": 10,
   "metadata": {
    "collapsed": false
   },
   "outputs": [
    {
     "data": {
      "text/html": [
       "<ol class=list-inline>\n",
       "\t<li>'08'</li>\n",
       "\t<li>'28'</li>\n",
       "\t<li>'40'</li>\n",
       "\t<li>'39'</li>\n",
       "\t<li>'12'</li>\n",
       "\t<li>'12'</li>\n",
       "</ol>\n"
      ],
      "text/latex": [
       "\\begin{enumerate*}\n",
       "\\item '08'\n",
       "\\item '28'\n",
       "\\item '40'\n",
       "\\item '39'\n",
       "\\item '12'\n",
       "\\item '12'\n",
       "\\end{enumerate*}\n"
      ],
      "text/markdown": [
       "1. '08'\n",
       "2. '28'\n",
       "3. '40'\n",
       "4. '39'\n",
       "5. '12'\n",
       "6. '12'\n",
       "\n",
       "\n"
      ],
      "text/plain": [
       "[1] \"08\" \"28\" \"40\" \"39\" \"12\" \"12\""
      ]
     },
     "metadata": {},
     "output_type": "display_data"
    },
    {
     "data": {
      "text/html": [
       "<ol class=list-inline>\n",
       "\t<li>'08'</li>\n",
       "\t<li>'28'</li>\n",
       "\t<li>'40'</li>\n",
       "\t<li>'39'</li>\n",
       "\t<li>'12'</li>\n",
       "\t<li>'12'</li>\n",
       "</ol>\n"
      ],
      "text/latex": [
       "\\begin{enumerate*}\n",
       "\\item '08'\n",
       "\\item '28'\n",
       "\\item '40'\n",
       "\\item '39'\n",
       "\\item '12'\n",
       "\\item '12'\n",
       "\\end{enumerate*}\n"
      ],
      "text/markdown": [
       "1. '08'\n",
       "2. '28'\n",
       "3. '40'\n",
       "4. '39'\n",
       "5. '12'\n",
       "6. '12'\n",
       "\n",
       "\n"
      ],
      "text/plain": [
       "[1] \"08\" \"28\" \"40\" \"39\" \"12\" \"12\""
      ]
     },
     "metadata": {},
     "output_type": "display_data"
    },
    {
     "data": {
      "text/html": [
       "<table>\n",
       "<thead><tr><th scope=col>State_Code</th><th scope=col>County_Code</th></tr></thead>\n",
       "<tbody>\n",
       "\t<tr><td>NA </td><td>NA </td></tr>\n",
       "\t<tr><td>01 </td><td>091</td></tr>\n",
       "\t<tr><td>01 </td><td>091</td></tr>\n",
       "\t<tr><td>01 </td><td>063</td></tr>\n",
       "\t<tr><td>01 </td><td>097</td></tr>\n",
       "\t<tr><td>01 </td><td>073</td></tr>\n",
       "</tbody>\n",
       "</table>\n"
      ],
      "text/latex": [
       "\\begin{tabular}{r|ll}\n",
       " State\\_Code & County\\_Code\\\\\n",
       "\\hline\n",
       "\t NA  & NA \\\\\n",
       "\t 01  & 091\\\\\n",
       "\t 01  & 091\\\\\n",
       "\t 01  & 063\\\\\n",
       "\t 01  & 097\\\\\n",
       "\t 01  & 073\\\\\n",
       "\\end{tabular}\n"
      ],
      "text/plain": [
       "  State_Code County_Code\n",
       "1 NA         NA         \n",
       "2 01         091        \n",
       "3 01         091        \n",
       "4 01         063        \n",
       "5 01         097        \n",
       "6 01         073        "
      ]
     },
     "metadata": {},
     "output_type": "display_data"
    },
    {
     "ename": "ERROR",
     "evalue": "Error in df$State_Code: object of type 'closure' is not subsettable\n",
     "output_type": "error",
     "traceback": [
      "Error in df$State_Code: object of type 'closure' is not subsettable\nTraceback:\n",
      "1. str(df$State_Code)"
     ]
    }
   ],
   "source": [
    "head(dt$State_Code) #ottengo i valori della colonna\n",
    "\n",
    "head(dt[,c(State_Code, County_Code)])  #opero su sottoinsieme del dataframe\n",
    "head(dt[, County_Code, keyby = State_Code])\n",
    "str(df$State_Code)\n",
    "\n",
    "dt[12550,]\n",
    "\n",
    "dt[12550, 'State_Code'] #riferimenti misti\n",
    "\n",
    "dt[12545:12550, County_Code, keyby = State_Code]\n",
    "\n",
    "dt[3, 5]\n",
    "\n",
    "dt[3:5, 2:4]"
   ]
  },
  {
   "cell_type": "markdown",
   "metadata": {
    "collapsed": true
   },
   "source": [
    "# Filtering data"
   ]
  },
  {
   "cell_type": "code",
   "execution_count": 11,
   "metadata": {
    "collapsed": false
   },
   "outputs": [
    {
     "data": {
      "text/html": [
       "<table>\n",
       "<thead><tr><th scope=col>State_Code</th><th scope=col>County_Code</th><th scope=col>Census_Tract_Number</th><th scope=col>NUM_ALL</th><th scope=col>NUM_FHA</th><th scope=col>PCT_NUM_FHA</th><th scope=col>AMT_ALL</th><th scope=col>AMT_FHA</th><th scope=col>PCT_AMT_FHA</th><th scope=col>GEOID</th></tr></thead>\n",
       "<tbody>\n",
       "\t<tr><td>33         </td><td>011        </td><td>0013.00    </td><td>13         </td><td> 9         </td><td>NA         </td><td> 1700      </td><td>1310       </td><td>NA         </td><td>33011001300</td></tr>\n",
       "\t<tr><td>33         </td><td>011        </td><td>0106.00    </td><td>32         </td><td>20         </td><td>NA         </td><td> 5031      </td><td>3510       </td><td>NA         </td><td>33011010600</td></tr>\n",
       "\t<tr><td>33         </td><td>011        </td><td>0024.00    </td><td>72         </td><td>45         </td><td>NA         </td><td>10435      </td><td>7040       </td><td>NA         </td><td>33011002400</td></tr>\n",
       "\t<tr><td>33         </td><td>013        </td><td>0440.00    </td><td>24         </td><td>14         </td><td>NA         </td><td> 3479      </td><td>2234       </td><td>NA         </td><td>33013044000</td></tr>\n",
       "\t<tr><td>33         </td><td>011        </td><td>0002.02    </td><td>10         </td><td> 6         </td><td>60         </td><td> 1574      </td><td> 993       </td><td>NA         </td><td>33011000202</td></tr>\n",
       "\t<tr><td>33         </td><td>011        </td><td>0018.00    </td><td>35         </td><td>21         </td><td>60         </td><td> 5222      </td><td>3293       </td><td>NA         </td><td>33011001800</td></tr>\n",
       "</tbody>\n",
       "</table>\n"
      ],
      "text/latex": [
       "\\begin{tabular}{r|llllllllll}\n",
       " State\\_Code & County\\_Code & Census\\_Tract\\_Number & NUM\\_ALL & NUM\\_FHA & PCT\\_NUM\\_FHA & AMT\\_ALL & AMT\\_FHA & PCT\\_AMT\\_FHA & GEOID\\\\\n",
       "\\hline\n",
       "\t 33          & 011         & 0013.00     & 13          &  9          & NA          &  1700       & 1310        & NA          & 33011001300\\\\\n",
       "\t 33          & 011         & 0106.00     & 32          & 20          & NA          &  5031       & 3510        & NA          & 33011010600\\\\\n",
       "\t 33          & 011         & 0024.00     & 72          & 45          & NA          & 10435       & 7040        & NA          & 33011002400\\\\\n",
       "\t 33          & 013         & 0440.00     & 24          & 14          & NA          &  3479       & 2234        & NA          & 33013044000\\\\\n",
       "\t 33          & 011         & 0002.02     & 10          &  6          & 60          &  1574       &  993        & NA          & 33011000202\\\\\n",
       "\t 33          & 011         & 0018.00     & 35          & 21          & 60          &  5222       & 3293        & NA          & 33011001800\\\\\n",
       "\\end{tabular}\n"
      ],
      "text/plain": [
       "  State_Code County_Code Census_Tract_Number NUM_ALL NUM_FHA PCT_NUM_FHA\n",
       "1 33         011         0013.00             13       9      NA         \n",
       "2 33         011         0106.00             32      20      NA         \n",
       "3 33         011         0024.00             72      45      NA         \n",
       "4 33         013         0440.00             24      14      NA         \n",
       "5 33         011         0002.02             10       6      60         \n",
       "6 33         011         0018.00             35      21      60         \n",
       "  AMT_ALL AMT_FHA PCT_AMT_FHA GEOID      \n",
       "1  1700   1310    NA          33011001300\n",
       "2  5031   3510    NA          33011010600\n",
       "3 10435   7040    NA          33011002400\n",
       "4  3479   2234    NA          33013044000\n",
       "5  1574    993    NA          33011000202\n",
       "6  5222   3293    NA          33011001800"
      ]
     },
     "metadata": {},
     "output_type": "display_data"
    },
    {
     "data": {
      "text/html": [
       "<table>\n",
       "<thead><tr><th scope=col>State_Code</th><th scope=col>County_Code</th><th scope=col>Census_Tract_Number</th><th scope=col>NUM_ALL</th><th scope=col>NUM_FHA</th><th scope=col>PCT_NUM_FHA</th><th scope=col>AMT_ALL</th><th scope=col>AMT_FHA</th><th scope=col>PCT_AMT_FHA</th><th scope=col>GEOID</th></tr></thead>\n",
       "<tbody>\n",
       "\t<tr><td>33         </td><td>011        </td><td>0013.00    </td><td>13         </td><td> 9         </td><td>NA         </td><td> 1700      </td><td>1310       </td><td>NA         </td><td>33011001300</td></tr>\n",
       "\t<tr><td>33         </td><td>011        </td><td>0106.00    </td><td>32         </td><td>20         </td><td>NA         </td><td> 5031      </td><td>3510       </td><td>NA         </td><td>33011010600</td></tr>\n",
       "\t<tr><td>33         </td><td>011        </td><td>0024.00    </td><td>72         </td><td>45         </td><td>NA         </td><td>10435      </td><td>7040       </td><td>NA         </td><td>33011002400</td></tr>\n",
       "\t<tr><td>33         </td><td>013        </td><td>0440.00    </td><td>24         </td><td>14         </td><td>NA         </td><td> 3479      </td><td>2234       </td><td>NA         </td><td>33013044000</td></tr>\n",
       "\t<tr><td>33         </td><td>011        </td><td>0002.02    </td><td>10         </td><td> 6         </td><td>60         </td><td> 1574      </td><td> 993       </td><td>NA         </td><td>33011000202</td></tr>\n",
       "\t<tr><td>33         </td><td>011        </td><td>0018.00    </td><td>35         </td><td>21         </td><td>60         </td><td> 5222      </td><td>3293       </td><td>NA         </td><td>33011001800</td></tr>\n",
       "</tbody>\n",
       "</table>\n"
      ],
      "text/latex": [
       "\\begin{tabular}{r|llllllllll}\n",
       " State\\_Code & County\\_Code & Census\\_Tract\\_Number & NUM\\_ALL & NUM\\_FHA & PCT\\_NUM\\_FHA & AMT\\_ALL & AMT\\_FHA & PCT\\_AMT\\_FHA & GEOID\\\\\n",
       "\\hline\n",
       "\t 33          & 011         & 0013.00     & 13          &  9          & NA          &  1700       & 1310        & NA          & 33011001300\\\\\n",
       "\t 33          & 011         & 0106.00     & 32          & 20          & NA          &  5031       & 3510        & NA          & 33011010600\\\\\n",
       "\t 33          & 011         & 0024.00     & 72          & 45          & NA          & 10435       & 7040        & NA          & 33011002400\\\\\n",
       "\t 33          & 013         & 0440.00     & 24          & 14          & NA          &  3479       & 2234        & NA          & 33013044000\\\\\n",
       "\t 33          & 011         & 0002.02     & 10          &  6          & 60          &  1574       &  993        & NA          & 33011000202\\\\\n",
       "\t 33          & 011         & 0018.00     & 35          & 21          & 60          &  5222       & 3293        & NA          & 33011001800\\\\\n",
       "\\end{tabular}\n"
      ],
      "text/plain": [
       "  State_Code County_Code Census_Tract_Number NUM_ALL NUM_FHA PCT_NUM_FHA\n",
       "1 33         011         0013.00             13       9      NA         \n",
       "2 33         011         0106.00             32      20      NA         \n",
       "3 33         011         0024.00             72      45      NA         \n",
       "4 33         013         0440.00             24      14      NA         \n",
       "5 33         011         0002.02             10       6      60         \n",
       "6 33         011         0018.00             35      21      60         \n",
       "  AMT_ALL AMT_FHA PCT_AMT_FHA GEOID      \n",
       "1  1700   1310    NA          33011001300\n",
       "2  5031   3510    NA          33011010600\n",
       "3 10435   7040    NA          33011002400\n",
       "4  3479   2234    NA          33013044000\n",
       "5  1574    993    NA          33011000202\n",
       "6  5222   3293    NA          33011001800"
      ]
     },
     "metadata": {},
     "output_type": "display_data"
    },
    {
     "data": {
      "text/html": [
       "<table>\n",
       "<thead><tr><th scope=col>State_Code</th><th scope=col>County_Code</th><th scope=col>Census_Tract_Number</th><th scope=col>NUM_ALL</th><th scope=col>NUM_FHA</th><th scope=col>PCT_NUM_FHA</th><th scope=col>AMT_ALL</th><th scope=col>AMT_FHA</th><th scope=col>PCT_AMT_FHA</th><th scope=col>GEOID</th></tr></thead>\n",
       "<tbody>\n",
       "\t<tr><td>33         </td><td>011        </td><td>0013.00    </td><td>13         </td><td> 9         </td><td>NA         </td><td> 1700      </td><td>1310       </td><td>NA         </td><td>33011001300</td></tr>\n",
       "\t<tr><td>33         </td><td>011        </td><td>0106.00    </td><td>32         </td><td>20         </td><td>NA         </td><td> 5031      </td><td>3510       </td><td>NA         </td><td>33011010600</td></tr>\n",
       "\t<tr><td>33         </td><td>011        </td><td>0024.00    </td><td>72         </td><td>45         </td><td>NA         </td><td>10435      </td><td>7040       </td><td>NA         </td><td>33011002400</td></tr>\n",
       "\t<tr><td>33         </td><td>013        </td><td>0440.00    </td><td>24         </td><td>14         </td><td>NA         </td><td> 3479      </td><td>2234       </td><td>NA         </td><td>33013044000</td></tr>\n",
       "\t<tr><td>33         </td><td>011        </td><td>0002.02    </td><td>10         </td><td> 6         </td><td>60         </td><td> 1574      </td><td> 993       </td><td>NA         </td><td>33011000202</td></tr>\n",
       "\t<tr><td>33         </td><td>011        </td><td>0018.00    </td><td>35         </td><td>21         </td><td>60         </td><td> 5222      </td><td>3293       </td><td>NA         </td><td>33011001800</td></tr>\n",
       "\t<tr><td>33         </td><td>011        </td><td>0007.00    </td><td>37         </td><td>21         </td><td>NA         </td><td> 6821      </td><td>4205       </td><td>NA         </td><td>33011000700</td></tr>\n",
       "\t<tr><td>33         </td><td>015        </td><td>0035.00    </td><td>35         </td><td>20         </td><td>NA         </td><td> 5132      </td><td>3101       </td><td>NA         </td><td>33015003500</td></tr>\n",
       "\t<tr><td>33         </td><td>013        </td><td>0443.00    </td><td>29         </td><td>16         </td><td>NA         </td><td> 4385      </td><td>2571       </td><td>NA         </td><td>33013044300</td></tr>\n",
       "\t<tr><td>33         </td><td>013        </td><td>0322.00    </td><td>13         </td><td> 7         </td><td>NA         </td><td> 1706      </td><td> 991       </td><td>NA         </td><td>33013032200</td></tr>\n",
       "\t<tr><td>33         </td><td>013        </td><td>0030.06    </td><td>26         </td><td>13         </td><td>50         </td><td> 4356      </td><td>2508       </td><td>NA         </td><td>33013003006</td></tr>\n",
       "\t<tr><td>33         </td><td>019        </td><td>9759.01    </td><td> 8         </td><td> 4         </td><td>50         </td><td>  784      </td><td> 434       </td><td>NA         </td><td>33019975901</td></tr>\n",
       "\t<tr><td>33         </td><td>011        </td><td>0023.00    </td><td>32         </td><td>16         </td><td>50         </td><td> 4522      </td><td>2483       </td><td>NA         </td><td>33011002300</td></tr>\n",
       "\t<tr><td>33         </td><td>011        </td><td>0122.00    </td><td>60         </td><td>28         </td><td>NA         </td><td> 9592      </td><td>5256       </td><td>NA         </td><td>33011012200</td></tr>\n",
       "\t<tr><td>33         </td><td>019        </td><td>9757.00    </td><td>14         </td><td> 7         </td><td>50         </td><td> 1977      </td><td>1072       </td><td>NA         </td><td>33019975700</td></tr>\n",
       "\t<tr><td>33         </td><td>011        </td><td>0109.00    </td><td>51         </td><td>27         </td><td>NA         </td><td> 8444      </td><td>4546       </td><td>NA         </td><td>33011010900</td></tr>\n",
       "\t<tr><td>33         </td><td>011        </td><td>0015.00    </td><td> 8         </td><td> 4         </td><td>50         </td><td> 1156      </td><td> 619       </td><td>NA         </td><td>33011001500</td></tr>\n",
       "\t<tr><td>33         </td><td>011        </td><td>0010.00    </td><td>62         </td><td>31         </td><td>50         </td><td>10827      </td><td>5782       </td><td>NA         </td><td>33011001000</td></tr>\n",
       "\t<tr><td>33         </td><td>011        </td><td>0016.00    </td><td>18         </td><td> 9         </td><td>50         </td><td> 2503      </td><td>1329       </td><td>NA         </td><td>33011001600</td></tr>\n",
       "\t<tr><td>33         </td><td>015        </td><td>1074.00    </td><td>17         </td><td> 7         </td><td>NA         </td><td> 3846      </td><td>2042       </td><td>NA         </td><td>33015107400</td></tr>\n",
       "\t<tr><td>33         </td><td>011        </td><td>0113.00    </td><td>32         </td><td>17         </td><td>NA         </td><td> 6391      </td><td>3387       </td><td>NA         </td><td>33011011300</td></tr>\n",
       "\t<tr><td>33         </td><td>011        </td><td>0017.00    </td><td>14         </td><td> 7         </td><td>50         </td><td> 1899      </td><td>1003       </td><td>NA         </td><td>33011001700</td></tr>\n",
       "\t<tr><td>33         </td><td>011        </td><td>0012.00    </td><td>14         </td><td> 7         </td><td>50         </td><td> 2050      </td><td>1081       </td><td>NA         </td><td>33011001200</td></tr>\n",
       "\t<tr><td>33         </td><td>013        </td><td>0327.01    </td><td>25         </td><td>16         </td><td>64         </td><td> 3377      </td><td>1773       </td><td>NA         </td><td>33013032701</td></tr>\n",
       "\t<tr><td>33         </td><td>015        </td><td>0033.02    </td><td>35         </td><td>18         </td><td>NA         </td><td> 6629      </td><td>3470       </td><td>NA         </td><td>33015003302</td></tr>\n",
       "\t<tr><td>33         </td><td>011        </td><td>0022.00    </td><td>35         </td><td>16         </td><td>NA         </td><td> 5943      </td><td>2959       </td><td>NA         </td><td>33011002200</td></tr>\n",
       "\t<tr><td>33         </td><td>011        </td><td>0195.01    </td><td>15         </td><td> 8         </td><td>NA         </td><td> 2970      </td><td>1472       </td><td>NA         </td><td>33011019501</td></tr>\n",
       "\t<tr><td>33         </td><td>017        </td><td>0844.00    </td><td>23         </td><td> 9         </td><td>NA         </td><td> 2481      </td><td>1200       </td><td>NA         </td><td>33017084400</td></tr>\n",
       "\t<tr><td>33         </td><td>011        </td><td>0107.00    </td><td> 5         </td><td> 2         </td><td>40         </td><td>  669      </td><td> 319       </td><td>NA         </td><td>33011010700</td></tr>\n",
       "\t<tr><td>33         </td><td>011        </td><td>0008.00    </td><td>12         </td><td> 6         </td><td>50         </td><td> 2117      </td><td>1006       </td><td>NA         </td><td>33011000800</td></tr>\n",
       "\t<tr><td>...</td><td>...</td><td>...</td><td>...</td><td>...</td><td>...</td><td>...</td><td>...</td><td>...</td><td>...</td></tr>\n",
       "\t<tr><td>33         </td><td>009        </td><td>9604.00    </td><td>80         </td><td>3          </td><td>NA         </td><td>13224      </td><td>453        </td><td>NA         </td><td>33009960400</td></tr>\n",
       "\t<tr><td>33         </td><td>001        </td><td>9652.00    </td><td>23         </td><td>1          </td><td>NA         </td><td> 6419      </td><td>206        </td><td>NA         </td><td>33001965200</td></tr>\n",
       "\t<tr><td>33         </td><td>009        </td><td>9617.00    </td><td>44         </td><td>1          </td><td>NA         </td><td> 7005      </td><td>214        </td><td>NA         </td><td>33009961700</td></tr>\n",
       "\t<tr><td>33         </td><td>015        </td><td>0710.00    </td><td>67         </td><td>3          </td><td>NA         </td><td>30242      </td><td>910        </td><td>NA         </td><td>33015071000</td></tr>\n",
       "\t<tr><td>33         </td><td>015        </td><td>0650.08    </td><td>38         </td><td>1          </td><td>NA         </td><td> 8272      </td><td>246        </td><td>NA         </td><td>33015065008</td></tr>\n",
       "\t<tr><td>33         </td><td>015        </td><td>0692.00    </td><td>49         </td><td>1          </td><td>NA         </td><td>14648      </td><td>341        </td><td>NA         </td><td>33015069200</td></tr>\n",
       "\t<tr><td>33         </td><td>003        </td><td>9558.00    </td><td>30         </td><td>1          </td><td>NA         </td><td> 5680      </td><td>124        </td><td>NA         </td><td>33003955800</td></tr>\n",
       "\t<tr><td>33         </td><td>015        </td><td>0697.00    </td><td>36         </td><td>1          </td><td>NA         </td><td>18668      </td><td>268        </td><td>NA         </td><td>33015069700</td></tr>\n",
       "\t<tr><td>33         </td><td>019        </td><td>9753.00    </td><td>41         </td><td>1          </td><td>NA         </td><td>15214      </td><td>143        </td><td>NA         </td><td>33019975300</td></tr>\n",
       "\t<tr><td>33         </td><td>015        </td><td>NA         </td><td> 1         </td><td>0          </td><td> 0         </td><td>  305      </td><td>  0        </td><td> 0         </td><td>NA         </td></tr>\n",
       "\t<tr><td>33         </td><td>001        </td><td>NA         </td><td> 1         </td><td>0          </td><td> 0         </td><td>  275      </td><td>  0        </td><td> 0         </td><td>NA         </td></tr>\n",
       "\t<tr><td>33         </td><td>019        </td><td>NA         </td><td> 1         </td><td>0          </td><td> 0         </td><td>  180      </td><td>  0        </td><td> 0         </td><td>NA         </td></tr>\n",
       "\t<tr><td>33         </td><td>009        </td><td>9616.02    </td><td>37         </td><td>0          </td><td> 0         </td><td>14828      </td><td>  0        </td><td> 0         </td><td>33009961602</td></tr>\n",
       "\t<tr><td>33         </td><td>011        </td><td>0111.01    </td><td> 9         </td><td>0          </td><td> 0         </td><td>  701      </td><td>  0        </td><td> 0         </td><td>33011011101</td></tr>\n",
       "\t<tr><td>33         </td><td>001        </td><td>9664.01    </td><td>21         </td><td>0          </td><td> 0         </td><td> 6817      </td><td>  0        </td><td> 0         </td><td>33001966401</td></tr>\n",
       "\t<tr><td>33         </td><td>009        </td><td>9607.00    </td><td> 9         </td><td>0          </td><td> 0         </td><td> 1700      </td><td>  0        </td><td> 0         </td><td>33009960700</td></tr>\n",
       "\t<tr><td>33         </td><td>017        </td><td>0802.04    </td><td> 6         </td><td>0          </td><td> 0         </td><td> 1203      </td><td>  0        </td><td> 0         </td><td>33017080204</td></tr>\n",
       "\t<tr><td>33         </td><td>007        </td><td>9502.00    </td><td>13         </td><td>0          </td><td> 0         </td><td> 1135      </td><td>  0        </td><td> 0         </td><td>33007950200</td></tr>\n",
       "\t<tr><td>33         </td><td>007        </td><td>9510.00    </td><td>29         </td><td>0          </td><td> 0         </td><td> 6183      </td><td>  0        </td><td> 0         </td><td>33007951000</td></tr>\n",
       "\t<tr><td>33         </td><td>003        </td><td>NA         </td><td> 2         </td><td>0          </td><td> 0         </td><td>  297      </td><td>  0        </td><td> 0         </td><td>NA         </td></tr>\n",
       "\t<tr><td>33         </td><td>009        </td><td>9616.01    </td><td>17         </td><td>0          </td><td> 0         </td><td> 5533      </td><td>  0        </td><td> 0         </td><td>33009961601</td></tr>\n",
       "\t<tr><td>33         </td><td>005        </td><td>NA         </td><td> 1         </td><td>0          </td><td> 0         </td><td>   53      </td><td>  0        </td><td> 0         </td><td>NA         </td></tr>\n",
       "\t<tr><td>33         </td><td>011        </td><td>2004.00    </td><td> 3         </td><td>0          </td><td> 0         </td><td>  500      </td><td>  0        </td><td> 0         </td><td>33011200400</td></tr>\n",
       "\t<tr><td>33         </td><td>007        </td><td>9501.00    </td><td>16         </td><td>0          </td><td> 0         </td><td> 1885      </td><td>  0        </td><td> 0         </td><td>33007950100</td></tr>\n",
       "\t<tr><td>33         </td><td>007        </td><td>9511.00    </td><td>15         </td><td>0          </td><td> 0         </td><td> 1875      </td><td>  0        </td><td> 0         </td><td>33007951100</td></tr>\n",
       "\t<tr><td>33         </td><td>011        </td><td>0220.00    </td><td>11         </td><td>0          </td><td> 0         </td><td> 2098      </td><td>  0        </td><td> 0         </td><td>33011022000</td></tr>\n",
       "\t<tr><td>33         </td><td>019        </td><td>9751.00    </td><td>16         </td><td>0          </td><td> 0         </td><td> 3546      </td><td>  0        </td><td> 0         </td><td>33019975100</td></tr>\n",
       "\t<tr><td>33         </td><td>007        </td><td>9506.00    </td><td> 6         </td><td>0          </td><td> 0         </td><td>  702      </td><td>  0        </td><td> 0         </td><td>33007950600</td></tr>\n",
       "\t<tr><td>33         </td><td>017        </td><td>NA         </td><td> 2         </td><td>0          </td><td> 0         </td><td>  553      </td><td>  0        </td><td> 0         </td><td>NA         </td></tr>\n",
       "\t<tr><td>33         </td><td>007        </td><td>9503.00    </td><td>10         </td><td>0          </td><td> 0         </td><td> 1170      </td><td>  0        </td><td> 0         </td><td>33007950300</td></tr>\n",
       "</tbody>\n",
       "</table>\n"
      ],
      "text/latex": [
       "\\begin{tabular}{r|llllllllll}\n",
       " State\\_Code & County\\_Code & Census\\_Tract\\_Number & NUM\\_ALL & NUM\\_FHA & PCT\\_NUM\\_FHA & AMT\\_ALL & AMT\\_FHA & PCT\\_AMT\\_FHA & GEOID\\\\\n",
       "\\hline\n",
       "\t 33          & 011         & 0013.00     & 13          &  9          & NA          &  1700       & 1310        & NA          & 33011001300\\\\\n",
       "\t 33          & 011         & 0106.00     & 32          & 20          & NA          &  5031       & 3510        & NA          & 33011010600\\\\\n",
       "\t 33          & 011         & 0024.00     & 72          & 45          & NA          & 10435       & 7040        & NA          & 33011002400\\\\\n",
       "\t 33          & 013         & 0440.00     & 24          & 14          & NA          &  3479       & 2234        & NA          & 33013044000\\\\\n",
       "\t 33          & 011         & 0002.02     & 10          &  6          & 60          &  1574       &  993        & NA          & 33011000202\\\\\n",
       "\t 33          & 011         & 0018.00     & 35          & 21          & 60          &  5222       & 3293        & NA          & 33011001800\\\\\n",
       "\t 33          & 011         & 0007.00     & 37          & 21          & NA          &  6821       & 4205        & NA          & 33011000700\\\\\n",
       "\t 33          & 015         & 0035.00     & 35          & 20          & NA          &  5132       & 3101        & NA          & 33015003500\\\\\n",
       "\t 33          & 013         & 0443.00     & 29          & 16          & NA          &  4385       & 2571        & NA          & 33013044300\\\\\n",
       "\t 33          & 013         & 0322.00     & 13          &  7          & NA          &  1706       &  991        & NA          & 33013032200\\\\\n",
       "\t 33          & 013         & 0030.06     & 26          & 13          & 50          &  4356       & 2508        & NA          & 33013003006\\\\\n",
       "\t 33          & 019         & 9759.01     &  8          &  4          & 50          &   784       &  434        & NA          & 33019975901\\\\\n",
       "\t 33          & 011         & 0023.00     & 32          & 16          & 50          &  4522       & 2483        & NA          & 33011002300\\\\\n",
       "\t 33          & 011         & 0122.00     & 60          & 28          & NA          &  9592       & 5256        & NA          & 33011012200\\\\\n",
       "\t 33          & 019         & 9757.00     & 14          &  7          & 50          &  1977       & 1072        & NA          & 33019975700\\\\\n",
       "\t 33          & 011         & 0109.00     & 51          & 27          & NA          &  8444       & 4546        & NA          & 33011010900\\\\\n",
       "\t 33          & 011         & 0015.00     &  8          &  4          & 50          &  1156       &  619        & NA          & 33011001500\\\\\n",
       "\t 33          & 011         & 0010.00     & 62          & 31          & 50          & 10827       & 5782        & NA          & 33011001000\\\\\n",
       "\t 33          & 011         & 0016.00     & 18          &  9          & 50          &  2503       & 1329        & NA          & 33011001600\\\\\n",
       "\t 33          & 015         & 1074.00     & 17          &  7          & NA          &  3846       & 2042        & NA          & 33015107400\\\\\n",
       "\t 33          & 011         & 0113.00     & 32          & 17          & NA          &  6391       & 3387        & NA          & 33011011300\\\\\n",
       "\t 33          & 011         & 0017.00     & 14          &  7          & 50          &  1899       & 1003        & NA          & 33011001700\\\\\n",
       "\t 33          & 011         & 0012.00     & 14          &  7          & 50          &  2050       & 1081        & NA          & 33011001200\\\\\n",
       "\t 33          & 013         & 0327.01     & 25          & 16          & 64          &  3377       & 1773        & NA          & 33013032701\\\\\n",
       "\t 33          & 015         & 0033.02     & 35          & 18          & NA          &  6629       & 3470        & NA          & 33015003302\\\\\n",
       "\t 33          & 011         & 0022.00     & 35          & 16          & NA          &  5943       & 2959        & NA          & 33011002200\\\\\n",
       "\t 33          & 011         & 0195.01     & 15          &  8          & NA          &  2970       & 1472        & NA          & 33011019501\\\\\n",
       "\t 33          & 017         & 0844.00     & 23          &  9          & NA          &  2481       & 1200        & NA          & 33017084400\\\\\n",
       "\t 33          & 011         & 0107.00     &  5          &  2          & 40          &   669       &  319        & NA          & 33011010700\\\\\n",
       "\t 33          & 011         & 0008.00     & 12          &  6          & 50          &  2117       & 1006        & NA          & 33011000800\\\\\n",
       "\t ... & ... & ... & ... & ... & ... & ... & ... & ... & ...\\\\\n",
       "\t 33          & 009         & 9604.00     & 80          & 3           & NA          & 13224       & 453         & NA          & 33009960400\\\\\n",
       "\t 33          & 001         & 9652.00     & 23          & 1           & NA          &  6419       & 206         & NA          & 33001965200\\\\\n",
       "\t 33          & 009         & 9617.00     & 44          & 1           & NA          &  7005       & 214         & NA          & 33009961700\\\\\n",
       "\t 33          & 015         & 0710.00     & 67          & 3           & NA          & 30242       & 910         & NA          & 33015071000\\\\\n",
       "\t 33          & 015         & 0650.08     & 38          & 1           & NA          &  8272       & 246         & NA          & 33015065008\\\\\n",
       "\t 33          & 015         & 0692.00     & 49          & 1           & NA          & 14648       & 341         & NA          & 33015069200\\\\\n",
       "\t 33          & 003         & 9558.00     & 30          & 1           & NA          &  5680       & 124         & NA          & 33003955800\\\\\n",
       "\t 33          & 015         & 0697.00     & 36          & 1           & NA          & 18668       & 268         & NA          & 33015069700\\\\\n",
       "\t 33          & 019         & 9753.00     & 41          & 1           & NA          & 15214       & 143         & NA          & 33019975300\\\\\n",
       "\t 33          & 015         & NA          &  1          & 0           &  0          &   305       &   0         &  0          & NA         \\\\\n",
       "\t 33          & 001         & NA          &  1          & 0           &  0          &   275       &   0         &  0          & NA         \\\\\n",
       "\t 33          & 019         & NA          &  1          & 0           &  0          &   180       &   0         &  0          & NA         \\\\\n",
       "\t 33          & 009         & 9616.02     & 37          & 0           &  0          & 14828       &   0         &  0          & 33009961602\\\\\n",
       "\t 33          & 011         & 0111.01     &  9          & 0           &  0          &   701       &   0         &  0          & 33011011101\\\\\n",
       "\t 33          & 001         & 9664.01     & 21          & 0           &  0          &  6817       &   0         &  0          & 33001966401\\\\\n",
       "\t 33          & 009         & 9607.00     &  9          & 0           &  0          &  1700       &   0         &  0          & 33009960700\\\\\n",
       "\t 33          & 017         & 0802.04     &  6          & 0           &  0          &  1203       &   0         &  0          & 33017080204\\\\\n",
       "\t 33          & 007         & 9502.00     & 13          & 0           &  0          &  1135       &   0         &  0          & 33007950200\\\\\n",
       "\t 33          & 007         & 9510.00     & 29          & 0           &  0          &  6183       &   0         &  0          & 33007951000\\\\\n",
       "\t 33          & 003         & NA          &  2          & 0           &  0          &   297       &   0         &  0          & NA         \\\\\n",
       "\t 33          & 009         & 9616.01     & 17          & 0           &  0          &  5533       &   0         &  0          & 33009961601\\\\\n",
       "\t 33          & 005         & NA          &  1          & 0           &  0          &    53       &   0         &  0          & NA         \\\\\n",
       "\t 33          & 011         & 2004.00     &  3          & 0           &  0          &   500       &   0         &  0          & 33011200400\\\\\n",
       "\t 33          & 007         & 9501.00     & 16          & 0           &  0          &  1885       &   0         &  0          & 33007950100\\\\\n",
       "\t 33          & 007         & 9511.00     & 15          & 0           &  0          &  1875       &   0         &  0          & 33007951100\\\\\n",
       "\t 33          & 011         & 0220.00     & 11          & 0           &  0          &  2098       &   0         &  0          & 33011022000\\\\\n",
       "\t 33          & 019         & 9751.00     & 16          & 0           &  0          &  3546       &   0         &  0          & 33019975100\\\\\n",
       "\t 33          & 007         & 9506.00     &  6          & 0           &  0          &   702       &   0         &  0          & 33007950600\\\\\n",
       "\t 33          & 017         & NA          &  2          & 0           &  0          &   553       &   0         &  0          & NA         \\\\\n",
       "\t 33          & 007         & 9503.00     & 10          & 0           &  0          &  1170       &   0         &  0          & 33007950300\\\\\n",
       "\\end{tabular}\n"
      ],
      "text/plain": [
       "    State_Code County_Code Census_Tract_Number NUM_ALL NUM_FHA PCT_NUM_FHA\n",
       "1   33         011         0013.00             13       9      NA         \n",
       "2   33         011         0106.00             32      20      NA         \n",
       "3   33         011         0024.00             72      45      NA         \n",
       "4   33         013         0440.00             24      14      NA         \n",
       "5   33         011         0002.02             10       6      60         \n",
       "6   33         011         0018.00             35      21      60         \n",
       "7   33         011         0007.00             37      21      NA         \n",
       "8   33         015         0035.00             35      20      NA         \n",
       "9   33         013         0443.00             29      16      NA         \n",
       "10  33         013         0322.00             13       7      NA         \n",
       "11  33         013         0030.06             26      13      50         \n",
       "12  33         019         9759.01              8       4      50         \n",
       "13  33         011         0023.00             32      16      50         \n",
       "14  33         011         0122.00             60      28      NA         \n",
       "15  33         019         9757.00             14       7      50         \n",
       "16  33         011         0109.00             51      27      NA         \n",
       "17  33         011         0015.00              8       4      50         \n",
       "18  33         011         0010.00             62      31      50         \n",
       "19  33         011         0016.00             18       9      50         \n",
       "20  33         015         1074.00             17       7      NA         \n",
       "21  33         011         0113.00             32      17      NA         \n",
       "22  33         011         0017.00             14       7      50         \n",
       "23  33         011         0012.00             14       7      50         \n",
       "24  33         013         0327.01             25      16      64         \n",
       "25  33         015         0033.02             35      18      NA         \n",
       "26  33         011         0022.00             35      16      NA         \n",
       "27  33         011         0195.01             15       8      NA         \n",
       "28  33         017         0844.00             23       9      NA         \n",
       "29  33         011         0107.00              5       2      40         \n",
       "30  33         011         0008.00             12       6      50         \n",
       "... ...        ...         ...                 ...     ...     ...        \n",
       "269 33         009         9604.00             80      3       NA         \n",
       "270 33         001         9652.00             23      1       NA         \n",
       "271 33         009         9617.00             44      1       NA         \n",
       "272 33         015         0710.00             67      3       NA         \n",
       "273 33         015         0650.08             38      1       NA         \n",
       "274 33         015         0692.00             49      1       NA         \n",
       "275 33         003         9558.00             30      1       NA         \n",
       "276 33         015         0697.00             36      1       NA         \n",
       "277 33         019         9753.00             41      1       NA         \n",
       "278 33         015         NA                   1      0        0         \n",
       "279 33         001         NA                   1      0        0         \n",
       "280 33         019         NA                   1      0        0         \n",
       "281 33         009         9616.02             37      0        0         \n",
       "282 33         011         0111.01              9      0        0         \n",
       "283 33         001         9664.01             21      0        0         \n",
       "284 33         009         9607.00              9      0        0         \n",
       "285 33         017         0802.04              6      0        0         \n",
       "286 33         007         9502.00             13      0        0         \n",
       "287 33         007         9510.00             29      0        0         \n",
       "288 33         003         NA                   2      0        0         \n",
       "289 33         009         9616.01             17      0        0         \n",
       "290 33         005         NA                   1      0        0         \n",
       "291 33         011         2004.00              3      0        0         \n",
       "292 33         007         9501.00             16      0        0         \n",
       "293 33         007         9511.00             15      0        0         \n",
       "294 33         011         0220.00             11      0        0         \n",
       "295 33         019         9751.00             16      0        0         \n",
       "296 33         007         9506.00              6      0        0         \n",
       "297 33         017         NA                   2      0        0         \n",
       "298 33         007         9503.00             10      0        0         \n",
       "    AMT_ALL AMT_FHA PCT_AMT_FHA GEOID      \n",
       "1    1700   1310    NA          33011001300\n",
       "2    5031   3510    NA          33011010600\n",
       "3   10435   7040    NA          33011002400\n",
       "4    3479   2234    NA          33013044000\n",
       "5    1574    993    NA          33011000202\n",
       "6    5222   3293    NA          33011001800\n",
       "7    6821   4205    NA          33011000700\n",
       "8    5132   3101    NA          33015003500\n",
       "9    4385   2571    NA          33013044300\n",
       "10   1706    991    NA          33013032200\n",
       "11   4356   2508    NA          33013003006\n",
       "12    784    434    NA          33019975901\n",
       "13   4522   2483    NA          33011002300\n",
       "14   9592   5256    NA          33011012200\n",
       "15   1977   1072    NA          33019975700\n",
       "16   8444   4546    NA          33011010900\n",
       "17   1156    619    NA          33011001500\n",
       "18  10827   5782    NA          33011001000\n",
       "19   2503   1329    NA          33011001600\n",
       "20   3846   2042    NA          33015107400\n",
       "21   6391   3387    NA          33011011300\n",
       "22   1899   1003    NA          33011001700\n",
       "23   2050   1081    NA          33011001200\n",
       "24   3377   1773    NA          33013032701\n",
       "25   6629   3470    NA          33015003302\n",
       "26   5943   2959    NA          33011002200\n",
       "27   2970   1472    NA          33011019501\n",
       "28   2481   1200    NA          33017084400\n",
       "29    669    319    NA          33011010700\n",
       "30   2117   1006    NA          33011000800\n",
       "... ...     ...     ...         ...        \n",
       "269 13224   453     NA          33009960400\n",
       "270  6419   206     NA          33001965200\n",
       "271  7005   214     NA          33009961700\n",
       "272 30242   910     NA          33015071000\n",
       "273  8272   246     NA          33015065008\n",
       "274 14648   341     NA          33015069200\n",
       "275  5680   124     NA          33003955800\n",
       "276 18668   268     NA          33015069700\n",
       "277 15214   143     NA          33019975300\n",
       "278   305     0      0          NA         \n",
       "279   275     0      0          NA         \n",
       "280   180     0      0          NA         \n",
       "281 14828     0      0          33009961602\n",
       "282   701     0      0          33011011101\n",
       "283  6817     0      0          33001966401\n",
       "284  1700     0      0          33009960700\n",
       "285  1203     0      0          33017080204\n",
       "286  1135     0      0          33007950200\n",
       "287  6183     0      0          33007951000\n",
       "288   297     0      0          NA         \n",
       "289  5533     0      0          33009961601\n",
       "290    53     0      0          NA         \n",
       "291   500     0      0          33011200400\n",
       "292  1885     0      0          33007950100\n",
       "293  1875     0      0          33007951100\n",
       "294  2098     0      0          33011022000\n",
       "295  3546     0      0          33019975100\n",
       "296   702     0      0          33007950600\n",
       "297   553     0      0          NA         \n",
       "298  1170     0      0          33007950300"
      ]
     },
     "metadata": {},
     "output_type": "display_data"
    }
   ],
   "source": [
    "head(subset(dt, State_Code == 33)) #Creo un sottoindieme del data frame per valori di State_Code corrispondenti a 33.\n",
    "head(subset(dt, (State_Code == 33) | (Census_Tract_Number == 9613))) #Sottoinsieme con State_Code=33 | Census_Tract_Number=9613\n",
    "dt[State_Code == 33]"
   ]
  },
  {
   "cell_type": "markdown",
   "metadata": {
    "collapsed": true
   },
   "source": [
    "# Joining data"
   ]
  },
  {
   "cell_type": "code",
   "execution_count": 12,
   "metadata": {
    "collapsed": false
   },
   "outputs": [
    {
     "name": "stderr",
     "output_type": "stream",
     "text": [
      "Parsed with column specification:\n",
      "cols(\n",
      "  USPS = col_character(),\n",
      "  GEOID = col_character(),\n",
      "  ALAND = col_integer(),\n",
      "  AWATER = col_integer(),\n",
      "  ALAND_SQMI = col_double(),\n",
      "  AWATER_SQMI = col_double(),\n",
      "  INTPTLAT = col_double(),\n",
      "  INTPTLONG = col_double()\n",
      ")\n",
      "Warning message:\n",
      "\"698 parsing failures.\n",
      " row    col   expected      actual\n",
      "1182 ALAND  an integer 18082854844\n",
      "1182 AWATER an integer 20793145269\n",
      "1183 ALAND  an integer 8547315155 \n",
      "1183 AWATER an integer 22088655933\n",
      "1184 ALAND  an integer 2823181227 \n",
      ".... ...... .......... ...........\n",
      "See problems(...) for more details.\n",
      "\""
     ]
    },
    {
     "data": {
      "text/html": [
       "<table>\n",
       "<thead><tr><th scope=col>USPS</th><th scope=col>GEOID</th><th scope=col>ALAND</th><th scope=col>AWATER</th><th scope=col>ALAND_SQMI</th><th scope=col>AWATER_SQMI</th><th scope=col>INTPTLAT</th><th scope=col>INTPTLONG</th></tr></thead>\n",
       "<tbody>\n",
       "\t<tr><td>AL         </td><td>01001020100</td><td> 9809939   </td><td>36312      </td><td>3.788      </td><td>0.014      </td><td>32.48179   </td><td>-86.49025  </td></tr>\n",
       "\t<tr><td>AL         </td><td>01001020200</td><td> 3340498   </td><td> 5846      </td><td>1.290      </td><td>0.002      </td><td>32.47576   </td><td>-86.47247  </td></tr>\n",
       "\t<tr><td>AL         </td><td>01001020300</td><td> 5349274   </td><td> 9054      </td><td>2.065      </td><td>0.003      </td><td>32.47402   </td><td>-86.45970  </td></tr>\n",
       "\t<tr><td>AL         </td><td>01001020400</td><td> 6382705   </td><td>16244      </td><td>2.464      </td><td>0.006      </td><td>32.47103   </td><td>-86.44484  </td></tr>\n",
       "\t<tr><td>AL         </td><td>01001020500</td><td>11397734   </td><td>48412      </td><td>4.401      </td><td>0.019      </td><td>32.45892   </td><td>-86.42182  </td></tr>\n",
       "\t<tr><td>AL         </td><td>01001020600</td><td> 8020363   </td><td>60048      </td><td>3.097      </td><td>0.023      </td><td>32.44737   </td><td>-86.47683  </td></tr>\n",
       "</tbody>\n",
       "</table>\n"
      ],
      "text/latex": [
       "\\begin{tabular}{r|llllllll}\n",
       " USPS & GEOID & ALAND & AWATER & ALAND\\_SQMI & AWATER\\_SQMI & INTPTLAT & INTPTLONG\\\\\n",
       "\\hline\n",
       "\t AL          & 01001020100 &  9809939    & 36312       & 3.788       & 0.014       & 32.48179    & -86.49025  \\\\\n",
       "\t AL          & 01001020200 &  3340498    &  5846       & 1.290       & 0.002       & 32.47576    & -86.47247  \\\\\n",
       "\t AL          & 01001020300 &  5349274    &  9054       & 2.065       & 0.003       & 32.47402    & -86.45970  \\\\\n",
       "\t AL          & 01001020400 &  6382705    & 16244       & 2.464       & 0.006       & 32.47103    & -86.44484  \\\\\n",
       "\t AL          & 01001020500 & 11397734    & 48412       & 4.401       & 0.019       & 32.45892    & -86.42182  \\\\\n",
       "\t AL          & 01001020600 &  8020363    & 60048       & 3.097       & 0.023       & 32.44737    & -86.47683  \\\\\n",
       "\\end{tabular}\n"
      ],
      "text/plain": [
       "  USPS GEOID       ALAND    AWATER ALAND_SQMI AWATER_SQMI INTPTLAT INTPTLONG\n",
       "1 AL   01001020100  9809939 36312  3.788      0.014       32.48179 -86.49025\n",
       "2 AL   01001020200  3340498  5846  1.290      0.002       32.47576 -86.47247\n",
       "3 AL   01001020300  5349274  9054  2.065      0.003       32.47402 -86.45970\n",
       "4 AL   01001020400  6382705 16244  2.464      0.006       32.47103 -86.44484\n",
       "5 AL   01001020500 11397734 48412  4.401      0.019       32.45892 -86.42182\n",
       "6 AL   01001020600  8020363 60048  3.097      0.023       32.44737 -86.47683"
      ]
     },
     "metadata": {},
     "output_type": "display_data"
    },
    {
     "data": {
      "text/html": [
       "<table>\n",
       "<thead><tr><th scope=col>State_Code</th><th scope=col>County_Code</th><th scope=col>Census_Tract_Number</th><th scope=col>NUM_ALL</th><th scope=col>NUM_FHA</th><th scope=col>PCT_NUM_FHA</th><th scope=col>AMT_ALL</th><th scope=col>AMT_FHA</th><th scope=col>PCT_AMT_FHA</th><th scope=col>GEOID</th><th scope=col>USPS</th><th scope=col>ALAND</th><th scope=col>AWATER</th><th scope=col>ALAND_SQMI</th><th scope=col>AWATER_SQMI</th><th scope=col>INTPTLAT</th><th scope=col>INTPTLONG</th></tr></thead>\n",
       "<tbody>\n",
       "\t<tr><td>NA         </td><td>NA         </td><td>NA         </td><td>NA         </td><td>NA         </td><td>NA         </td><td>NA         </td><td>NA         </td><td>NA         </td><td>01001020100</td><td>AL         </td><td> 9809939   </td><td>36312      </td><td>3.788      </td><td>0.014      </td><td>32.48179   </td><td>-86.49025  </td></tr>\n",
       "\t<tr><td>NA         </td><td>NA         </td><td>NA         </td><td>NA         </td><td>NA         </td><td>NA         </td><td>NA         </td><td>NA         </td><td>NA         </td><td>01001020200</td><td>AL         </td><td> 3340498   </td><td> 5846      </td><td>1.290      </td><td>0.002      </td><td>32.47576   </td><td>-86.47247  </td></tr>\n",
       "\t<tr><td>NA         </td><td>NA         </td><td>NA         </td><td>NA         </td><td>NA         </td><td>NA         </td><td>NA         </td><td>NA         </td><td>NA         </td><td>01001020300</td><td>AL         </td><td> 5349274   </td><td> 9054      </td><td>2.065      </td><td>0.003      </td><td>32.47402   </td><td>-86.45970  </td></tr>\n",
       "\t<tr><td>NA         </td><td>NA         </td><td>NA         </td><td>NA         </td><td>NA         </td><td>NA         </td><td>NA         </td><td>NA         </td><td>NA         </td><td>01001020400</td><td>AL         </td><td> 6382705   </td><td>16244      </td><td>2.464      </td><td>0.006      </td><td>32.47103   </td><td>-86.44484  </td></tr>\n",
       "\t<tr><td>NA         </td><td>NA         </td><td>NA         </td><td>NA         </td><td>NA         </td><td>NA         </td><td>NA         </td><td>NA         </td><td>NA         </td><td>01001020500</td><td>AL         </td><td>11397734   </td><td>48412      </td><td>4.401      </td><td>0.019      </td><td>32.45892   </td><td>-86.42182  </td></tr>\n",
       "\t<tr><td>NA         </td><td>NA         </td><td>NA         </td><td>NA         </td><td>NA         </td><td>NA         </td><td>NA         </td><td>NA         </td><td>NA         </td><td>01001020600</td><td>AL         </td><td> 8020363   </td><td>60048      </td><td>3.097      </td><td>0.023      </td><td>32.44737   </td><td>-86.47683  </td></tr>\n",
       "</tbody>\n",
       "</table>\n"
      ],
      "text/latex": [
       "\\begin{tabular}{r|lllllllllllllllll}\n",
       " State\\_Code & County\\_Code & Census\\_Tract\\_Number & NUM\\_ALL & NUM\\_FHA & PCT\\_NUM\\_FHA & AMT\\_ALL & AMT\\_FHA & PCT\\_AMT\\_FHA & GEOID & USPS & ALAND & AWATER & ALAND\\_SQMI & AWATER\\_SQMI & INTPTLAT & INTPTLONG\\\\\n",
       "\\hline\n",
       "\t NA          & NA          & NA          & NA          & NA          & NA          & NA          & NA          & NA          & 01001020100 & AL          &  9809939    & 36312       & 3.788       & 0.014       & 32.48179    & -86.49025  \\\\\n",
       "\t NA          & NA          & NA          & NA          & NA          & NA          & NA          & NA          & NA          & 01001020200 & AL          &  3340498    &  5846       & 1.290       & 0.002       & 32.47576    & -86.47247  \\\\\n",
       "\t NA          & NA          & NA          & NA          & NA          & NA          & NA          & NA          & NA          & 01001020300 & AL          &  5349274    &  9054       & 2.065       & 0.003       & 32.47402    & -86.45970  \\\\\n",
       "\t NA          & NA          & NA          & NA          & NA          & NA          & NA          & NA          & NA          & 01001020400 & AL          &  6382705    & 16244       & 2.464       & 0.006       & 32.47103    & -86.44484  \\\\\n",
       "\t NA          & NA          & NA          & NA          & NA          & NA          & NA          & NA          & NA          & 01001020500 & AL          & 11397734    & 48412       & 4.401       & 0.019       & 32.45892    & -86.42182  \\\\\n",
       "\t NA          & NA          & NA          & NA          & NA          & NA          & NA          & NA          & NA          & 01001020600 & AL          &  8020363    & 60048       & 3.097       & 0.023       & 32.44737    & -86.47683  \\\\\n",
       "\\end{tabular}\n"
      ],
      "text/plain": [
       "  State_Code County_Code Census_Tract_Number NUM_ALL NUM_FHA PCT_NUM_FHA\n",
       "1 NA         NA          NA                  NA      NA      NA         \n",
       "2 NA         NA          NA                  NA      NA      NA         \n",
       "3 NA         NA          NA                  NA      NA      NA         \n",
       "4 NA         NA          NA                  NA      NA      NA         \n",
       "5 NA         NA          NA                  NA      NA      NA         \n",
       "6 NA         NA          NA                  NA      NA      NA         \n",
       "  AMT_ALL AMT_FHA PCT_AMT_FHA GEOID       USPS ALAND    AWATER ALAND_SQMI\n",
       "1 NA      NA      NA          01001020100 AL    9809939 36312  3.788     \n",
       "2 NA      NA      NA          01001020200 AL    3340498  5846  1.290     \n",
       "3 NA      NA      NA          01001020300 AL    5349274  9054  2.065     \n",
       "4 NA      NA      NA          01001020400 AL    6382705 16244  2.464     \n",
       "5 NA      NA      NA          01001020500 AL   11397734 48412  4.401     \n",
       "6 NA      NA      NA          01001020600 AL    8020363 60048  3.097     \n",
       "  AWATER_SQMI INTPTLAT INTPTLONG\n",
       "1 0.014       32.48179 -86.49025\n",
       "2 0.002       32.47576 -86.47247\n",
       "3 0.003       32.47402 -86.45970\n",
       "4 0.006       32.47103 -86.44484\n",
       "5 0.019       32.45892 -86.42182\n",
       "6 0.023       32.44737 -86.47683"
      ]
     },
     "metadata": {},
     "output_type": "display_data"
    }
   ],
   "source": [
    "dt2 = as.data.table(read_tsv(\"C:/Users/GiulioVannini/Documents/Visual Studio 2017/Projects/MABIDA2017/Gigli/Management science/Data/2013_Gaz_tracts_national.tsv\", col_names = T))\n",
    "head(dt2)\n",
    "dt$GEOID = as.character(with(dt, as.numeric(Census_Tract_Number) * 100 + 10 ^ 6 * as.numeric(County_Code) + 10 ^ 9 * as.numeric(State_Code)))\n",
    "dt_joined = dt[dt2, on = \"GEOID\"]\n",
    "head(dt_joined)"
   ]
  },
  {
   "cell_type": "markdown",
   "metadata": {
    "collapsed": true
   },
   "source": [
    "# Aggregating data"
   ]
  },
  {
   "cell_type": "code",
   "execution_count": 13,
   "metadata": {
    "collapsed": false
   },
   "outputs": [
    {
     "ename": "ERROR",
     "evalue": "Error in eval(expr, envir, enclos): non trovo la funzione \"group_by\"\n",
     "output_type": "error",
     "traceback": [
      "Error in eval(expr, envir, enclos): non trovo la funzione \"group_by\"\nTraceback:\n"
     ]
    }
   ],
   "source": [
    "usps_groups = group_by(dt_joined, USPS)\n",
    "usps_groups\n",
    "group_AK_5 <- filter(usps_groups, USPS == 'AK')[5,] #filtro\n",
    "\n",
    "df_by_state <- summarise(usps_groups, count = n(), AMT_FHA = sum(AMT_FHA), AMT_ALL = sum(AMT_ALL), NUM_FHA = sum(NUM_FHA), NUM_ALL = sum(NUM_ALL))\n",
    "head(df_by_state)\n",
    "\n",
    "df_by_state$PCT_AMT_FHA <- 100.0 * df_by_state$AMT_FHA / df_by_state$AMT_ALL\n",
    "\n",
    "hist(df_by_state$PCT_AMT_FHA, breaks = 20)\n",
    "\n",
    "df_by_state2 <- summarise(usps_groups, count = n(), sum_NUM_FHA = sum(NUM_FHA), mean_NUM_ALL = mean(NUM_ALL))\n",
    "head(df_by_state2)\n",
    "dplyr::arrange(usps_groups, desc(INTPTLAT))[1,]\n",
    "names(usps_groups)\n",
    "\n",
    "#Funzione per cui, per ogni valore di USPS ottengo il massimo di INTPTLAT               \n",
    "farthest_north <- function(state_df) {\n",
    "    result <- dplyr::arrange(state_df, desc(INTPTLAT))[1,]\n",
    "    return(result)\n",
    "}\n",
    "\n",
    "#Creo un dataframe che mi restituisce il valore massimo trovato nella colonna INTPTLAT per valore univoco di USPS \n",
    "northest <- summarise(usps_groups, farthest_north = max(INTPTLAT))\n",
    "northest"
   ]
  },
  {
   "cell_type": "markdown",
   "metadata": {
    "collapsed": true
   },
   "source": [
    "# Sorting by indices and columns"
   ]
  },
  {
   "cell_type": "code",
   "execution_count": 14,
   "metadata": {
    "collapsed": false
   },
   "outputs": [
    {
     "data": {
      "text/html": [
       "<table>\n",
       "<thead><tr><th scope=col>State_Code</th><th scope=col>County_Code</th><th scope=col>Census_Tract_Number</th><th scope=col>NUM_ALL</th><th scope=col>NUM_FHA</th><th scope=col>PCT_NUM_FHA</th><th scope=col>AMT_ALL</th><th scope=col>AMT_FHA</th><th scope=col>PCT_AMT_FHA</th><th scope=col>GEOID</th></tr></thead>\n",
       "<tbody>\n",
       "\t<tr><td>01        </td><td>091       </td><td>9733.00   </td><td> 1        </td><td>1         </td><td>100       </td><td>214       </td><td>214       </td><td>100       </td><td>1091973300</td></tr>\n",
       "\t<tr><td>01        </td><td>091       </td><td>9732.00   </td><td> 2        </td><td>2         </td><td>100       </td><td>168       </td><td>168       </td><td>100       </td><td>1091973200</td></tr>\n",
       "\t<tr><td>01        </td><td>063       </td><td>0600.00   </td><td> 1        </td><td>1         </td><td>100       </td><td>141       </td><td>141       </td><td>100       </td><td>1063060000</td></tr>\n",
       "\t<tr><td>01        </td><td>097       </td><td>0040.00   </td><td> 1        </td><td>1         </td><td>100       </td><td> 25       </td><td> 25       </td><td>100       </td><td>1097004000</td></tr>\n",
       "\t<tr><td>01        </td><td>073       </td><td>0008.00   </td><td> 1        </td><td>1         </td><td>100       </td><td> 58       </td><td> 58       </td><td>100       </td><td>1073000800</td></tr>\n",
       "\t<tr><td>01        </td><td>097       </td><td>0027.00   </td><td> 1        </td><td>1         </td><td>100       </td><td> 60       </td><td> 60       </td><td>100       </td><td>1097002700</td></tr>\n",
       "\t<tr><td>01        </td><td>097       </td><td>0049.00   </td><td> 1        </td><td>1         </td><td>100       </td><td> 70       </td><td> 70       </td><td>100       </td><td>1097004900</td></tr>\n",
       "\t<tr><td>01        </td><td>025       </td><td>9575.00   </td><td> 2        </td><td>2         </td><td>100       </td><td>206       </td><td>206       </td><td>100       </td><td>1025957500</td></tr>\n",
       "\t<tr><td>01        </td><td>097       </td><td>0032.04   </td><td> 3        </td><td>3         </td><td>100       </td><td>201       </td><td>201       </td><td>100       </td><td>1097003204</td></tr>\n",
       "\t<tr><td>01        </td><td>099       </td><td>0762.00   </td><td> 2        </td><td>2         </td><td>100       </td><td>193       </td><td>193       </td><td>100       </td><td>1099076200</td></tr>\n",
       "\t<tr><td>01        </td><td>073       </td><td>0035.00   </td><td> 1        </td><td>1         </td><td>100       </td><td>117       </td><td>117       </td><td>100       </td><td>1073003500</td></tr>\n",
       "\t<tr><td>01        </td><td>097       </td><td>0004.01   </td><td> 2        </td><td>2         </td><td>100       </td><td>133       </td><td>133       </td><td>100       </td><td>1097000401</td></tr>\n",
       "\t<tr><td>01        </td><td>101       </td><td>0012.00   </td><td> 1        </td><td>1         </td><td>100       </td><td> 92       </td><td> 92       </td><td>100       </td><td>1101001200</td></tr>\n",
       "\t<tr><td>01        </td><td>087       </td><td>2319.00   </td><td> 1        </td><td>1         </td><td>100       </td><td> 28       </td><td> 28       </td><td>100       </td><td>1087231900</td></tr>\n",
       "\t<tr><td>01        </td><td>025       </td><td>9580.01   </td><td> 3        </td><td>3         </td><td>100       </td><td>459       </td><td>459       </td><td>100       </td><td>1025958001</td></tr>\n",
       "\t<tr><td>01        </td><td>097       </td><td>0013.02   </td><td> 1        </td><td>1         </td><td>100       </td><td> 29       </td><td> 29       </td><td>100       </td><td>1097001302</td></tr>\n",
       "\t<tr><td>01        </td><td>101       </td><td>0056.03   </td><td> 2        </td><td>2         </td><td>100       </td><td>126       </td><td>126       </td><td>100       </td><td>1101005603</td></tr>\n",
       "\t<tr><td>01        </td><td>073       </td><td>0051.04   </td><td> 3        </td><td>3         </td><td>100       </td><td>361       </td><td>361       </td><td>100       </td><td>1073005104</td></tr>\n",
       "\t<tr><td>01        </td><td>101       </td><td>0051.02   </td><td> 1        </td><td>1         </td><td>100       </td><td> 51       </td><td> 51       </td><td>100       </td><td>1101005102</td></tr>\n",
       "\t<tr><td>01        </td><td>033       </td><td>0203.00   </td><td> 1        </td><td>1         </td><td>100       </td><td>142       </td><td>142       </td><td>100       </td><td>1033020300</td></tr>\n",
       "\t<tr><td>01        </td><td>073       </td><td>0105.00   </td><td> 1        </td><td>1         </td><td>100       </td><td> 46       </td><td> 46       </td><td>100       </td><td>1073010500</td></tr>\n",
       "\t<tr><td>01        </td><td>027       </td><td>9592.00   </td><td> 2        </td><td>2         </td><td>100       </td><td>152       </td><td>152       </td><td>100       </td><td>1027959200</td></tr>\n",
       "\t<tr><td>01        </td><td>073       </td><td>0038.03   </td><td> 1        </td><td>1         </td><td>100       </td><td> 59       </td><td> 59       </td><td>100       </td><td>1073003803</td></tr>\n",
       "\t<tr><td>01        </td><td>073       </td><td>0132.00   </td><td> 1        </td><td>1         </td><td>100       </td><td> 87       </td><td> 87       </td><td>100       </td><td>1073013200</td></tr>\n",
       "\t<tr><td>01        </td><td>097       </td><td>0051.00   </td><td> 1        </td><td>1         </td><td>100       </td><td> 36       </td><td> 36       </td><td>100       </td><td>1097005100</td></tr>\n",
       "\t<tr><td>01        </td><td>101       </td><td>0002.00   </td><td> 1        </td><td>1         </td><td>100       </td><td>206       </td><td>206       </td><td>100       </td><td>1101000200</td></tr>\n",
       "\t<tr><td>01        </td><td>097       </td><td>0050.00   </td><td> 2        </td><td>2         </td><td>100       </td><td>128       </td><td>128       </td><td>100       </td><td>1097005000</td></tr>\n",
       "\t<tr><td>01        </td><td>089       </td><td>0012.00   </td><td> 7        </td><td>5         </td><td> NA       </td><td>311       </td><td>307       </td><td> NA       </td><td>1089001200</td></tr>\n",
       "\t<tr><td>01        </td><td>073       </td><td>0051.01   </td><td> 6        </td><td>4         </td><td> NA       </td><td>276       </td><td>272       </td><td> NA       </td><td>1073005101</td></tr>\n",
       "\t<tr><td>01        </td><td>073       </td><td>0109.00   </td><td>12        </td><td>9         </td><td> 75       </td><td>710       </td><td>691       </td><td> NA       </td><td>1073010900</td></tr>\n",
       "\t<tr><td>...</td><td>...</td><td>...</td><td>...</td><td>...</td><td>...</td><td>...</td><td>...</td><td>...</td><td>...</td></tr>\n",
       "\t<tr><td>72         </td><td>107        </td><td>9548.02    </td><td>   1       </td><td>   0       </td><td> 0         </td><td>     10    </td><td>     0     </td><td> 0         </td><td>72107954802</td></tr>\n",
       "\t<tr><td>72         </td><td>113        </td><td>0723.00    </td><td>   2       </td><td>   0       </td><td> 0         </td><td>    267    </td><td>     0     </td><td> 0         </td><td>72113072300</td></tr>\n",
       "\t<tr><td>72         </td><td>011        </td><td>8101.00    </td><td>   1       </td><td>   0       </td><td> 0         </td><td>    146    </td><td>     0     </td><td> 0         </td><td>72011810100</td></tr>\n",
       "\t<tr><td>72         </td><td>127        </td><td>0059.00    </td><td>   2       </td><td>   0       </td><td> 0         </td><td>    133    </td><td>     0     </td><td> 0         </td><td>72127005900</td></tr>\n",
       "\t<tr><td>72         </td><td>093        </td><td>9601.00    </td><td>   2       </td><td>   0       </td><td> 0         </td><td>    166    </td><td>     0     </td><td> 0         </td><td>72093960100</td></tr>\n",
       "\t<tr><td>72         </td><td>127        </td><td>0061.02    </td><td>   3       </td><td>   0       </td><td> 0         </td><td>    482    </td><td>     0     </td><td> 0         </td><td>72127006102</td></tr>\n",
       "\t<tr><td>72         </td><td>003        </td><td>4305.02    </td><td>   5       </td><td>   0       </td><td> 0         </td><td>    415    </td><td>     0     </td><td> 0         </td><td>72003430502</td></tr>\n",
       "\t<tr><td>72         </td><td>127        </td><td>0035.01    </td><td>   1       </td><td>   0       </td><td> 0         </td><td>    188    </td><td>     0     </td><td> 0         </td><td>72127003501</td></tr>\n",
       "\t<tr><td>72         </td><td>099        </td><td>4203.01    </td><td>   6       </td><td>   0       </td><td> 0         </td><td>    860    </td><td>     0     </td><td> 0         </td><td>72099420301</td></tr>\n",
       "\t<tr><td>72         </td><td>099        </td><td>4204.02    </td><td>   4       </td><td>   0       </td><td> 0         </td><td>    554    </td><td>     0     </td><td> 0         </td><td>72099420402</td></tr>\n",
       "\t<tr><td>72         </td><td>087        </td><td>1101.02    </td><td>   5       </td><td>   0       </td><td> 0         </td><td>    537    </td><td>     0     </td><td> 0         </td><td>72087110102</td></tr>\n",
       "\t<tr><td>72         </td><td>127        </td><td>9801.03    </td><td>   1       </td><td>   0       </td><td> 0         </td><td>     74    </td><td>     0     </td><td> 0         </td><td>72127980103</td></tr>\n",
       "\t<tr><td>72         </td><td>127        </td><td>0014.00    </td><td>   1       </td><td>   0       </td><td> 0         </td><td>     80    </td><td>     0     </td><td> 0         </td><td>72127001400</td></tr>\n",
       "\t<tr><td>72         </td><td>071        </td><td>4107.01    </td><td>   9       </td><td>   0       </td><td> 0         </td><td>    875    </td><td>     0     </td><td> 0         </td><td>72071410701</td></tr>\n",
       "\t<tr><td>72         </td><td>071        </td><td>4102.00    </td><td>  48       </td><td>   0       </td><td> 0         </td><td>   7463    </td><td>     0     </td><td> 0         </td><td>72071410200</td></tr>\n",
       "\t<tr><td>72         </td><td>121        </td><td>9605.00    </td><td>   4       </td><td>   0       </td><td> 0         </td><td>    438    </td><td>     0     </td><td> 0         </td><td>72121960500</td></tr>\n",
       "\t<tr><td>72         </td><td>031        </td><td>0501.06    </td><td>  25       </td><td>   0       </td><td> 0         </td><td>   5999    </td><td>     0     </td><td> 0         </td><td>72031050106</td></tr>\n",
       "\t<tr><td>72         </td><td>061        </td><td>0410.00    </td><td>   1       </td><td>   0       </td><td> 0         </td><td>    105    </td><td>     0     </td><td> 0         </td><td>72061041000</td></tr>\n",
       "\t<tr><td>72         </td><td>027        </td><td>3206.00    </td><td>   1       </td><td>   0       </td><td> 0         </td><td>     92    </td><td>     0     </td><td> 0         </td><td>72027320600</td></tr>\n",
       "\t<tr><td>72         </td><td>099        </td><td>4201.00    </td><td>  11       </td><td>   0       </td><td> 0         </td><td>   1216    </td><td>     0     </td><td> 0         </td><td>72099420100</td></tr>\n",
       "\t<tr><td>72         </td><td>039        </td><td>9557.00    </td><td>   2       </td><td>   0       </td><td> 0         </td><td>    140    </td><td>     0     </td><td> 0         </td><td>72039955700</td></tr>\n",
       "\t<tr><td>72         </td><td>087        </td><td>1101.01    </td><td>   2       </td><td>   0       </td><td> 0         </td><td>    304    </td><td>     0     </td><td> 0         </td><td>72087110101</td></tr>\n",
       "\t<tr><td>72         </td><td>111        </td><td>7308.00    </td><td>   8       </td><td>   0       </td><td> 0         </td><td>   2404    </td><td>     0     </td><td> 0         </td><td>72111730800</td></tr>\n",
       "\t<tr><td>72         </td><td>001        </td><td>9568.00    </td><td>   2       </td><td>   0       </td><td> 0         </td><td>    327    </td><td>     0     </td><td> 0         </td><td>72001956800</td></tr>\n",
       "\t<tr><td>72         </td><td>001        </td><td>9563.00    </td><td>   1       </td><td>   0       </td><td> 0         </td><td>     68    </td><td>     0     </td><td> 0         </td><td>72001956300</td></tr>\n",
       "\t<tr><td>72         </td><td>081        </td><td>9584.00    </td><td>   1       </td><td>   0       </td><td> 0         </td><td>     46    </td><td>     0     </td><td> 0         </td><td>72081958400</td></tr>\n",
       "\t<tr><td>72         </td><td>031        </td><td>0501.07    </td><td>  23       </td><td>   0       </td><td> 0         </td><td>   4506    </td><td>     0     </td><td> 0         </td><td>72031050107</td></tr>\n",
       "\t<tr><td>72         </td><td>003        </td><td>4304.02    </td><td>   3       </td><td>   0       </td><td> 0         </td><td>    259    </td><td>     0     </td><td> 0         </td><td>72003430402</td></tr>\n",
       "\t<tr><td>72         </td><td>141        </td><td>NA         </td><td>   1       </td><td>   0       </td><td> 0         </td><td>    115    </td><td>     0     </td><td> 0         </td><td>NA         </td></tr>\n",
       "\t<tr><td>NA         </td><td>NA         </td><td>NA         </td><td>9477       </td><td>1932       </td><td>NA         </td><td>1575871    </td><td>331515     </td><td>NA         </td><td>NA         </td></tr>\n",
       "</tbody>\n",
       "</table>\n"
      ],
      "text/latex": [
       "\\begin{tabular}{r|llllllllll}\n",
       " State\\_Code & County\\_Code & Census\\_Tract\\_Number & NUM\\_ALL & NUM\\_FHA & PCT\\_NUM\\_FHA & AMT\\_ALL & AMT\\_FHA & PCT\\_AMT\\_FHA & GEOID\\\\\n",
       "\\hline\n",
       "\t 01         & 091        & 9733.00    &  1         & 1          & 100        & 214        & 214        & 100        & 1091973300\\\\\n",
       "\t 01         & 091        & 9732.00    &  2         & 2          & 100        & 168        & 168        & 100        & 1091973200\\\\\n",
       "\t 01         & 063        & 0600.00    &  1         & 1          & 100        & 141        & 141        & 100        & 1063060000\\\\\n",
       "\t 01         & 097        & 0040.00    &  1         & 1          & 100        &  25        &  25        & 100        & 1097004000\\\\\n",
       "\t 01         & 073        & 0008.00    &  1         & 1          & 100        &  58        &  58        & 100        & 1073000800\\\\\n",
       "\t 01         & 097        & 0027.00    &  1         & 1          & 100        &  60        &  60        & 100        & 1097002700\\\\\n",
       "\t 01         & 097        & 0049.00    &  1         & 1          & 100        &  70        &  70        & 100        & 1097004900\\\\\n",
       "\t 01         & 025        & 9575.00    &  2         & 2          & 100        & 206        & 206        & 100        & 1025957500\\\\\n",
       "\t 01         & 097        & 0032.04    &  3         & 3          & 100        & 201        & 201        & 100        & 1097003204\\\\\n",
       "\t 01         & 099        & 0762.00    &  2         & 2          & 100        & 193        & 193        & 100        & 1099076200\\\\\n",
       "\t 01         & 073        & 0035.00    &  1         & 1          & 100        & 117        & 117        & 100        & 1073003500\\\\\n",
       "\t 01         & 097        & 0004.01    &  2         & 2          & 100        & 133        & 133        & 100        & 1097000401\\\\\n",
       "\t 01         & 101        & 0012.00    &  1         & 1          & 100        &  92        &  92        & 100        & 1101001200\\\\\n",
       "\t 01         & 087        & 2319.00    &  1         & 1          & 100        &  28        &  28        & 100        & 1087231900\\\\\n",
       "\t 01         & 025        & 9580.01    &  3         & 3          & 100        & 459        & 459        & 100        & 1025958001\\\\\n",
       "\t 01         & 097        & 0013.02    &  1         & 1          & 100        &  29        &  29        & 100        & 1097001302\\\\\n",
       "\t 01         & 101        & 0056.03    &  2         & 2          & 100        & 126        & 126        & 100        & 1101005603\\\\\n",
       "\t 01         & 073        & 0051.04    &  3         & 3          & 100        & 361        & 361        & 100        & 1073005104\\\\\n",
       "\t 01         & 101        & 0051.02    &  1         & 1          & 100        &  51        &  51        & 100        & 1101005102\\\\\n",
       "\t 01         & 033        & 0203.00    &  1         & 1          & 100        & 142        & 142        & 100        & 1033020300\\\\\n",
       "\t 01         & 073        & 0105.00    &  1         & 1          & 100        &  46        &  46        & 100        & 1073010500\\\\\n",
       "\t 01         & 027        & 9592.00    &  2         & 2          & 100        & 152        & 152        & 100        & 1027959200\\\\\n",
       "\t 01         & 073        & 0038.03    &  1         & 1          & 100        &  59        &  59        & 100        & 1073003803\\\\\n",
       "\t 01         & 073        & 0132.00    &  1         & 1          & 100        &  87        &  87        & 100        & 1073013200\\\\\n",
       "\t 01         & 097        & 0051.00    &  1         & 1          & 100        &  36        &  36        & 100        & 1097005100\\\\\n",
       "\t 01         & 101        & 0002.00    &  1         & 1          & 100        & 206        & 206        & 100        & 1101000200\\\\\n",
       "\t 01         & 097        & 0050.00    &  2         & 2          & 100        & 128        & 128        & 100        & 1097005000\\\\\n",
       "\t 01         & 089        & 0012.00    &  7         & 5          &  NA        & 311        & 307        &  NA        & 1089001200\\\\\n",
       "\t 01         & 073        & 0051.01    &  6         & 4          &  NA        & 276        & 272        &  NA        & 1073005101\\\\\n",
       "\t 01         & 073        & 0109.00    & 12         & 9          &  75        & 710        & 691        &  NA        & 1073010900\\\\\n",
       "\t ... & ... & ... & ... & ... & ... & ... & ... & ... & ...\\\\\n",
       "\t 72          & 107         & 9548.02     &    1        &    0        &  0          &      10     &      0      &  0          & 72107954802\\\\\n",
       "\t 72          & 113         & 0723.00     &    2        &    0        &  0          &     267     &      0      &  0          & 72113072300\\\\\n",
       "\t 72          & 011         & 8101.00     &    1        &    0        &  0          &     146     &      0      &  0          & 72011810100\\\\\n",
       "\t 72          & 127         & 0059.00     &    2        &    0        &  0          &     133     &      0      &  0          & 72127005900\\\\\n",
       "\t 72          & 093         & 9601.00     &    2        &    0        &  0          &     166     &      0      &  0          & 72093960100\\\\\n",
       "\t 72          & 127         & 0061.02     &    3        &    0        &  0          &     482     &      0      &  0          & 72127006102\\\\\n",
       "\t 72          & 003         & 4305.02     &    5        &    0        &  0          &     415     &      0      &  0          & 72003430502\\\\\n",
       "\t 72          & 127         & 0035.01     &    1        &    0        &  0          &     188     &      0      &  0          & 72127003501\\\\\n",
       "\t 72          & 099         & 4203.01     &    6        &    0        &  0          &     860     &      0      &  0          & 72099420301\\\\\n",
       "\t 72          & 099         & 4204.02     &    4        &    0        &  0          &     554     &      0      &  0          & 72099420402\\\\\n",
       "\t 72          & 087         & 1101.02     &    5        &    0        &  0          &     537     &      0      &  0          & 72087110102\\\\\n",
       "\t 72          & 127         & 9801.03     &    1        &    0        &  0          &      74     &      0      &  0          & 72127980103\\\\\n",
       "\t 72          & 127         & 0014.00     &    1        &    0        &  0          &      80     &      0      &  0          & 72127001400\\\\\n",
       "\t 72          & 071         & 4107.01     &    9        &    0        &  0          &     875     &      0      &  0          & 72071410701\\\\\n",
       "\t 72          & 071         & 4102.00     &   48        &    0        &  0          &    7463     &      0      &  0          & 72071410200\\\\\n",
       "\t 72          & 121         & 9605.00     &    4        &    0        &  0          &     438     &      0      &  0          & 72121960500\\\\\n",
       "\t 72          & 031         & 0501.06     &   25        &    0        &  0          &    5999     &      0      &  0          & 72031050106\\\\\n",
       "\t 72          & 061         & 0410.00     &    1        &    0        &  0          &     105     &      0      &  0          & 72061041000\\\\\n",
       "\t 72          & 027         & 3206.00     &    1        &    0        &  0          &      92     &      0      &  0          & 72027320600\\\\\n",
       "\t 72          & 099         & 4201.00     &   11        &    0        &  0          &    1216     &      0      &  0          & 72099420100\\\\\n",
       "\t 72          & 039         & 9557.00     &    2        &    0        &  0          &     140     &      0      &  0          & 72039955700\\\\\n",
       "\t 72          & 087         & 1101.01     &    2        &    0        &  0          &     304     &      0      &  0          & 72087110101\\\\\n",
       "\t 72          & 111         & 7308.00     &    8        &    0        &  0          &    2404     &      0      &  0          & 72111730800\\\\\n",
       "\t 72          & 001         & 9568.00     &    2        &    0        &  0          &     327     &      0      &  0          & 72001956800\\\\\n",
       "\t 72          & 001         & 9563.00     &    1        &    0        &  0          &      68     &      0      &  0          & 72001956300\\\\\n",
       "\t 72          & 081         & 9584.00     &    1        &    0        &  0          &      46     &      0      &  0          & 72081958400\\\\\n",
       "\t 72          & 031         & 0501.07     &   23        &    0        &  0          &    4506     &      0      &  0          & 72031050107\\\\\n",
       "\t 72          & 003         & 4304.02     &    3        &    0        &  0          &     259     &      0      &  0          & 72003430402\\\\\n",
       "\t 72          & 141         & NA          &    1        &    0        &  0          &     115     &      0      &  0          & NA         \\\\\n",
       "\t NA          & NA          & NA          & 9477        & 1932        & NA          & 1575871     & 331515      & NA          & NA         \\\\\n",
       "\\end{tabular}\n"
      ],
      "text/plain": [
       "      State_Code County_Code Census_Tract_Number NUM_ALL NUM_FHA PCT_NUM_FHA\n",
       "1     01         091         9733.00              1      1       100        \n",
       "2     01         091         9732.00              2      2       100        \n",
       "3     01         063         0600.00              1      1       100        \n",
       "4     01         097         0040.00              1      1       100        \n",
       "5     01         073         0008.00              1      1       100        \n",
       "6     01         097         0027.00              1      1       100        \n",
       "7     01         097         0049.00              1      1       100        \n",
       "8     01         025         9575.00              2      2       100        \n",
       "9     01         097         0032.04              3      3       100        \n",
       "10    01         099         0762.00              2      2       100        \n",
       "11    01         073         0035.00              1      1       100        \n",
       "12    01         097         0004.01              2      2       100        \n",
       "13    01         101         0012.00              1      1       100        \n",
       "14    01         087         2319.00              1      1       100        \n",
       "15    01         025         9580.01              3      3       100        \n",
       "16    01         097         0013.02              1      1       100        \n",
       "17    01         101         0056.03              2      2       100        \n",
       "18    01         073         0051.04              3      3       100        \n",
       "19    01         101         0051.02              1      1       100        \n",
       "20    01         033         0203.00              1      1       100        \n",
       "21    01         073         0105.00              1      1       100        \n",
       "22    01         027         9592.00              2      2       100        \n",
       "23    01         073         0038.03              1      1       100        \n",
       "24    01         073         0132.00              1      1       100        \n",
       "25    01         097         0051.00              1      1       100        \n",
       "26    01         101         0002.00              1      1       100        \n",
       "27    01         097         0050.00              2      2       100        \n",
       "28    01         089         0012.00              7      5        NA        \n",
       "29    01         073         0051.01              6      4        NA        \n",
       "30    01         073         0109.00             12      9        75        \n",
       "...   ...        ...         ...                 ...     ...     ...        \n",
       "72006 72         107         9548.02                1       0     0         \n",
       "72007 72         113         0723.00                2       0     0         \n",
       "72008 72         011         8101.00                1       0     0         \n",
       "72009 72         127         0059.00                2       0     0         \n",
       "72010 72         093         9601.00                2       0     0         \n",
       "72011 72         127         0061.02                3       0     0         \n",
       "72012 72         003         4305.02                5       0     0         \n",
       "72013 72         127         0035.01                1       0     0         \n",
       "72014 72         099         4203.01                6       0     0         \n",
       "72015 72         099         4204.02                4       0     0         \n",
       "72016 72         087         1101.02                5       0     0         \n",
       "72017 72         127         9801.03                1       0     0         \n",
       "72018 72         127         0014.00                1       0     0         \n",
       "72019 72         071         4107.01                9       0     0         \n",
       "72020 72         071         4102.00               48       0     0         \n",
       "72021 72         121         9605.00                4       0     0         \n",
       "72022 72         031         0501.06               25       0     0         \n",
       "72023 72         061         0410.00                1       0     0         \n",
       "72024 72         027         3206.00                1       0     0         \n",
       "72025 72         099         4201.00               11       0     0         \n",
       "72026 72         039         9557.00                2       0     0         \n",
       "72027 72         087         1101.01                2       0     0         \n",
       "72028 72         111         7308.00                8       0     0         \n",
       "72029 72         001         9568.00                2       0     0         \n",
       "72030 72         001         9563.00                1       0     0         \n",
       "72031 72         081         9584.00                1       0     0         \n",
       "72032 72         031         0501.07               23       0     0         \n",
       "72033 72         003         4304.02                3       0     0         \n",
       "72034 72         141         NA                     1       0     0         \n",
       "72035 NA         NA          NA                  9477    1932    NA         \n",
       "      AMT_ALL AMT_FHA PCT_AMT_FHA GEOID      \n",
       "1     214     214     100         1091973300 \n",
       "2     168     168     100         1091973200 \n",
       "3     141     141     100         1063060000 \n",
       "4      25      25     100         1097004000 \n",
       "5      58      58     100         1073000800 \n",
       "6      60      60     100         1097002700 \n",
       "7      70      70     100         1097004900 \n",
       "8     206     206     100         1025957500 \n",
       "9     201     201     100         1097003204 \n",
       "10    193     193     100         1099076200 \n",
       "11    117     117     100         1073003500 \n",
       "12    133     133     100         1097000401 \n",
       "13     92      92     100         1101001200 \n",
       "14     28      28     100         1087231900 \n",
       "15    459     459     100         1025958001 \n",
       "16     29      29     100         1097001302 \n",
       "17    126     126     100         1101005603 \n",
       "18    361     361     100         1073005104 \n",
       "19     51      51     100         1101005102 \n",
       "20    142     142     100         1033020300 \n",
       "21     46      46     100         1073010500 \n",
       "22    152     152     100         1027959200 \n",
       "23     59      59     100         1073003803 \n",
       "24     87      87     100         1073013200 \n",
       "25     36      36     100         1097005100 \n",
       "26    206     206     100         1101000200 \n",
       "27    128     128     100         1097005000 \n",
       "28    311     307      NA         1089001200 \n",
       "29    276     272      NA         1073005101 \n",
       "30    710     691      NA         1073010900 \n",
       "...   ...     ...     ...         ...        \n",
       "72006      10      0   0          72107954802\n",
       "72007     267      0   0          72113072300\n",
       "72008     146      0   0          72011810100\n",
       "72009     133      0   0          72127005900\n",
       "72010     166      0   0          72093960100\n",
       "72011     482      0   0          72127006102\n",
       "72012     415      0   0          72003430502\n",
       "72013     188      0   0          72127003501\n",
       "72014     860      0   0          72099420301\n",
       "72015     554      0   0          72099420402\n",
       "72016     537      0   0          72087110102\n",
       "72017      74      0   0          72127980103\n",
       "72018      80      0   0          72127001400\n",
       "72019     875      0   0          72071410701\n",
       "72020    7463      0   0          72071410200\n",
       "72021     438      0   0          72121960500\n",
       "72022    5999      0   0          72031050106\n",
       "72023     105      0   0          72061041000\n",
       "72024      92      0   0          72027320600\n",
       "72025    1216      0   0          72099420100\n",
       "72026     140      0   0          72039955700\n",
       "72027     304      0   0          72087110101\n",
       "72028    2404      0   0          72111730800\n",
       "72029     327      0   0          72001956800\n",
       "72030      68      0   0          72001956300\n",
       "72031      46      0   0          72081958400\n",
       "72032    4506      0   0          72031050107\n",
       "72033     259      0   0          72003430402\n",
       "72034     115      0   0          NA         \n",
       "72035 1575871 331515  NA          NA         "
      ]
     },
     "metadata": {},
     "output_type": "display_data"
    },
    {
     "data": {
      "text/html": [
       "<table>\n",
       "<thead><tr><th scope=col>State_Code</th><th scope=col>County_Code</th><th scope=col>Census_Tract_Number</th><th scope=col>NUM_ALL</th><th scope=col>NUM_FHA</th><th scope=col>PCT_NUM_FHA</th><th scope=col>AMT_ALL</th><th scope=col>AMT_FHA</th><th scope=col>PCT_AMT_FHA</th><th scope=col>GEOID</th></tr></thead>\n",
       "<tbody>\n",
       "\t<tr><td>21         </td><td>175        </td><td>9502.00    </td><td> 2         </td><td>0          </td><td>0          </td><td>  271      </td><td>0          </td><td>0          </td><td>21175950200</td></tr>\n",
       "\t<tr><td>32         </td><td>003        </td><td>0024.04    </td><td> 1         </td><td>0          </td><td>0          </td><td>   79      </td><td>0          </td><td>0          </td><td>32003002404</td></tr>\n",
       "\t<tr><td>36         </td><td>061        </td><td>0183.00    </td><td>51         </td><td>0          </td><td>0          </td><td>33258      </td><td>0          </td><td>0          </td><td>36061018300</td></tr>\n",
       "\t<tr><td>51         </td><td>710        </td><td>0040.01    </td><td>16         </td><td>0          </td><td>0          </td><td> 4663      </td><td>0          </td><td>0          </td><td>51710004001</td></tr>\n",
       "\t<tr><td>42         </td><td>131        </td><td>NA         </td><td> 1         </td><td>0          </td><td>0          </td><td>  127      </td><td>0          </td><td>0          </td><td>NA         </td></tr>\n",
       "\t<tr><td>22         </td><td>093        </td><td>0405.00    </td><td> 1         </td><td>0          </td><td>0          </td><td>   30      </td><td>0          </td><td>0          </td><td>22093040500</td></tr>\n",
       "\t<tr><td>37         </td><td>063        </td><td>0015.01    </td><td> 1         </td><td>0          </td><td>0          </td><td>  160      </td><td>0          </td><td>0          </td><td>37063001501</td></tr>\n",
       "\t<tr><td>72         </td><td>071        </td><td>4103.00    </td><td> 4         </td><td>0          </td><td>0          </td><td>  521      </td><td>0          </td><td>0          </td><td>72071410300</td></tr>\n",
       "\t<tr><td>37         </td><td>115        </td><td>NA         </td><td> 3         </td><td>0          </td><td>0          </td><td>  452      </td><td>0          </td><td>0          </td><td>NA         </td></tr>\n",
       "\t<tr><td>22         </td><td>033        </td><td>0052.00    </td><td> 5         </td><td>0          </td><td>0          </td><td>  704      </td><td>0          </td><td>0          </td><td>22033005200</td></tr>\n",
       "\t<tr><td>41         </td><td>051        </td><td>0049.00    </td><td>29         </td><td>0          </td><td>0          </td><td> 6545      </td><td>0          </td><td>0          </td><td>41051004900</td></tr>\n",
       "\t<tr><td>12         </td><td>009        </td><td>0651.24    </td><td> 1         </td><td>0          </td><td>0          </td><td> 4920      </td><td>0          </td><td>0          </td><td>12009065124</td></tr>\n",
       "\t<tr><td>16         </td><td>031        </td><td>9502.00    </td><td>10         </td><td>0          </td><td>0          </td><td> 1710      </td><td>0          </td><td>0          </td><td>16031950200</td></tr>\n",
       "\t<tr><td>36         </td><td>047        </td><td>0582.00    </td><td> 8         </td><td>0          </td><td>0          </td><td> 4792      </td><td>0          </td><td>0          </td><td>36047058200</td></tr>\n",
       "\t<tr><td>21         </td><td>067        </td><td>0018.00    </td><td> 6         </td><td>0          </td><td>0          </td><td>  664      </td><td>0          </td><td>0          </td><td>21067001800</td></tr>\n",
       "\t<tr><td>37         </td><td>157        </td><td>0412.00    </td><td>13         </td><td>0          </td><td>0          </td><td> 1062      </td><td>0          </td><td>0          </td><td>37157041200</td></tr>\n",
       "\t<tr><td>18         </td><td>135        </td><td>NA         </td><td> 1         </td><td>0          </td><td>0          </td><td>   74      </td><td>0          </td><td>0          </td><td>NA         </td></tr>\n",
       "\t<tr><td>21         </td><td>051        </td><td>9502.00    </td><td> 5         </td><td>0          </td><td>0          </td><td>  409      </td><td>0          </td><td>0          </td><td>21051950200</td></tr>\n",
       "\t<tr><td>20         </td><td>035        </td><td>4940.00    </td><td> 6         </td><td>0          </td><td>0          </td><td>  191      </td><td>0          </td><td>0          </td><td>20035494000</td></tr>\n",
       "\t<tr><td>25         </td><td>017        </td><td>3538.00    </td><td>34         </td><td>0          </td><td>0          </td><td>11703      </td><td>0          </td><td>0          </td><td>25017353800</td></tr>\n",
       "\t<tr><td>50         </td><td>019        </td><td>9520.00    </td><td>12         </td><td>0          </td><td>0          </td><td> 1917      </td><td>0          </td><td>0          </td><td>50019952000</td></tr>\n",
       "\t<tr><td>40         </td><td>101        </td><td>0003.00    </td><td> 8         </td><td>0          </td><td>0          </td><td>  709      </td><td>0          </td><td>0          </td><td>40101000300</td></tr>\n",
       "\t<tr><td>48         </td><td>113        </td><td>0188.02    </td><td> 1         </td><td>0          </td><td>0          </td><td>   68      </td><td>0          </td><td>0          </td><td>48113018802</td></tr>\n",
       "\t<tr><td>39         </td><td>067        </td><td>NA         </td><td> 1         </td><td>0          </td><td>0          </td><td>   67      </td><td>0          </td><td>0          </td><td>NA         </td></tr>\n",
       "\t<tr><td>06         </td><td>075        </td><td>0104.00    </td><td>33         </td><td>0          </td><td>0          </td><td>20299      </td><td>0          </td><td>0          </td><td>6075010400 </td></tr>\n",
       "\t<tr><td>48         </td><td>027        </td><td>0216.02    </td><td> 2         </td><td>0          </td><td>0          </td><td>  515      </td><td>0          </td><td>0          </td><td>48027021602</td></tr>\n",
       "\t<tr><td>20         </td><td>163        </td><td>9746.00    </td><td> 5         </td><td>0          </td><td>0          </td><td>  289      </td><td>0          </td><td>0          </td><td>20163974600</td></tr>\n",
       "\t<tr><td>15         </td><td>003        </td><td>0027.01    </td><td> 4         </td><td>0          </td><td>0          </td><td> 1749      </td><td>0          </td><td>0          </td><td>15003002701</td></tr>\n",
       "\t<tr><td>05         </td><td>119        </td><td>0042.02    </td><td>32         </td><td>0          </td><td>0          </td><td> 7643      </td><td>0          </td><td>0          </td><td>5119004202 </td></tr>\n",
       "\t<tr><td>05         </td><td>043        </td><td>4902.00    </td><td> 5         </td><td>0          </td><td>0          </td><td>  915      </td><td>0          </td><td>0          </td><td>5043490200 </td></tr>\n",
       "\t<tr><td>...</td><td>...</td><td>...</td><td>...</td><td>...</td><td>...</td><td>...</td><td>...</td><td>...</td><td>...</td></tr>\n",
       "\t<tr><td>48         </td><td>439        </td><td>1139.27    </td><td> 462       </td><td> 213       </td><td>NA         </td><td>  74745    </td><td> 34669     </td><td>NA         </td><td>48439113927</td></tr>\n",
       "\t<tr><td>49         </td><td>035        </td><td>1130.20    </td><td> 449       </td><td> 148       </td><td>NA         </td><td> 105582    </td><td> 34733     </td><td>NA         </td><td>49035113020</td></tr>\n",
       "\t<tr><td>06         </td><td>067        </td><td>0087.05    </td><td> 330       </td><td> 141       </td><td>NA         </td><td>  71190    </td><td> 34776     </td><td>NA         </td><td>6067008705 </td></tr>\n",
       "\t<tr><td>51         </td><td>107        </td><td>6118.06    </td><td> 403       </td><td>  94       </td><td>NA         </td><td> 157102    </td><td> 35316     </td><td>NA         </td><td>51107611806</td></tr>\n",
       "\t<tr><td>48         </td><td>157        </td><td>6734.00    </td><td> 607       </td><td> 192       </td><td>NA         </td><td> 131611    </td><td> 35588     </td><td>NA         </td><td>48157673400</td></tr>\n",
       "\t<tr><td>06         </td><td>077        </td><td>0035.00    </td><td> 322       </td><td> 179       </td><td>NA         </td><td>  60680    </td><td> 36321     </td><td>NA         </td><td>6077003500 </td></tr>\n",
       "\t<tr><td>51         </td><td>107        </td><td>6118.02    </td><td> 419       </td><td>  98       </td><td>NA         </td><td> 159542    </td><td> 38069     </td><td>NA         </td><td>51107611802</td></tr>\n",
       "\t<tr><td>06         </td><td>107        </td><td>0010.03    </td><td> 415       </td><td> 197       </td><td>NA         </td><td>  83999    </td><td> 38551     </td><td>NA         </td><td>6107001003 </td></tr>\n",
       "\t<tr><td>38         </td><td>017        </td><td>0405.00    </td><td>1009       </td><td> 237       </td><td>NA         </td><td> 200789    </td><td> 38844     </td><td>NA         </td><td>38017040500</td></tr>\n",
       "\t<tr><td>06         </td><td>073        </td><td>0133.10    </td><td> 439       </td><td> 116       </td><td>NA         </td><td> 140477    </td><td> 39155     </td><td>NA         </td><td>6073013310 </td></tr>\n",
       "\t<tr><td>06         </td><td>029        </td><td>0032.06    </td><td> 317       </td><td> 213       </td><td>NA         </td><td>  56491    </td><td> 40690     </td><td>NA         </td><td>6029003206 </td></tr>\n",
       "\t<tr><td>48         </td><td>339        </td><td>6920.01    </td><td> 645       </td><td> 258       </td><td>40         </td><td> 107070    </td><td> 40786     </td><td>NA         </td><td>48339692001</td></tr>\n",
       "\t<tr><td>48         </td><td>121        </td><td>0201.08    </td><td> 671       </td><td> 216       </td><td>NA         </td><td> 121125    </td><td> 41205     </td><td>NA         </td><td>48121020108</td></tr>\n",
       "\t<tr><td>49         </td><td>035        </td><td>1131.07    </td><td> 465       </td><td> 184       </td><td>NA         </td><td> 103593    </td><td> 42146     </td><td>NA         </td><td>49035113107</td></tr>\n",
       "\t<tr><td>04         </td><td>013        </td><td>4226.46    </td><td> 480       </td><td> 212       </td><td>NA         </td><td>  95027    </td><td> 43508     </td><td>NA         </td><td>4013422646 </td></tr>\n",
       "\t<tr><td>06         </td><td>071        </td><td>0023.04    </td><td> 293       </td><td> 155       </td><td>NA         </td><td>  76278    </td><td> 43897     </td><td>NA         </td><td>6071002304 </td></tr>\n",
       "\t<tr><td>47         </td><td>187        </td><td>0512.02    </td><td> 534       </td><td> 225       </td><td>NA         </td><td> 109581    </td><td> 44938     </td><td>NA         </td><td>47187051202</td></tr>\n",
       "\t<tr><td>06         </td><td>073        </td><td>0133.13    </td><td> 487       </td><td> 147       </td><td>NA         </td><td> 155114    </td><td> 45844     </td><td>NA         </td><td>6073013313 </td></tr>\n",
       "\t<tr><td>06         </td><td>067        </td><td>0096.38    </td><td> 387       </td><td> 151       </td><td>NA         </td><td> 110901    </td><td> 47696     </td><td>NA         </td><td>6067009638 </td></tr>\n",
       "\t<tr><td>48         </td><td>439        </td><td>1141.03    </td><td> 729       </td><td> 334       </td><td>NA         </td><td> 118654    </td><td> 50038     </td><td>NA         </td><td>48439114103</td></tr>\n",
       "\t<tr><td>06         </td><td>061        </td><td>0213.22    </td><td> 499       </td><td> 149       </td><td>NA         </td><td> 148030    </td><td> 50178     </td><td>NA         </td><td>6061021322 </td></tr>\n",
       "\t<tr><td>48         </td><td>039        </td><td>6606.02    </td><td> 729       </td><td> 268       </td><td>NA         </td><td> 142061    </td><td> 50868     </td><td>NA         </td><td>48039660602</td></tr>\n",
       "\t<tr><td>32         </td><td>003        </td><td>0058.32    </td><td> 516       </td><td> 298       </td><td>NA         </td><td>  85463    </td><td> 54029     </td><td>NA         </td><td>32003005832</td></tr>\n",
       "\t<tr><td>06         </td><td>065        </td><td>0406.09    </td><td> 417       </td><td> 157       </td><td>NA         </td><td> 139963    </td><td> 57956     </td><td>NA         </td><td>6065040609 </td></tr>\n",
       "\t<tr><td>06         </td><td>077        </td><td>0052.06    </td><td> 531       </td><td> 194       </td><td>NA         </td><td> 146652    </td><td> 60792     </td><td>NA         </td><td>6077005206 </td></tr>\n",
       "\t<tr><td>04         </td><td>013        </td><td>8160.00    </td><td> 764       </td><td> 259       </td><td>NA         </td><td> 193726    </td><td> 63581     </td><td>NA         </td><td>4013816000 </td></tr>\n",
       "\t<tr><td>48         </td><td>157        </td><td>6731.01    </td><td>2329       </td><td> 363       </td><td>NA         </td><td> 578838    </td><td> 76312     </td><td>NA         </td><td>48157673101</td></tr>\n",
       "\t<tr><td>48         </td><td>157        </td><td>6729.00    </td><td>1145       </td><td> 504       </td><td>NA         </td><td> 203086    </td><td> 86009     </td><td>NA         </td><td>48157672900</td></tr>\n",
       "\t<tr><td>48         </td><td>141        </td><td>0103.41    </td><td>1159       </td><td> 591       </td><td>NA         </td><td> 180263    </td><td> 87190     </td><td>NA         </td><td>48141010341</td></tr>\n",
       "\t<tr><td>NA         </td><td>NA         </td><td>NA         </td><td>9477       </td><td>1932       </td><td>NA         </td><td>1575871    </td><td>331515     </td><td>NA         </td><td>NA         </td></tr>\n",
       "</tbody>\n",
       "</table>\n"
      ],
      "text/latex": [
       "\\begin{tabular}{r|llllllllll}\n",
       " State\\_Code & County\\_Code & Census\\_Tract\\_Number & NUM\\_ALL & NUM\\_FHA & PCT\\_NUM\\_FHA & AMT\\_ALL & AMT\\_FHA & PCT\\_AMT\\_FHA & GEOID\\\\\n",
       "\\hline\n",
       "\t 21          & 175         & 9502.00     &  2          & 0           & 0           &   271       & 0           & 0           & 21175950200\\\\\n",
       "\t 32          & 003         & 0024.04     &  1          & 0           & 0           &    79       & 0           & 0           & 32003002404\\\\\n",
       "\t 36          & 061         & 0183.00     & 51          & 0           & 0           & 33258       & 0           & 0           & 36061018300\\\\\n",
       "\t 51          & 710         & 0040.01     & 16          & 0           & 0           &  4663       & 0           & 0           & 51710004001\\\\\n",
       "\t 42          & 131         & NA          &  1          & 0           & 0           &   127       & 0           & 0           & NA         \\\\\n",
       "\t 22          & 093         & 0405.00     &  1          & 0           & 0           &    30       & 0           & 0           & 22093040500\\\\\n",
       "\t 37          & 063         & 0015.01     &  1          & 0           & 0           &   160       & 0           & 0           & 37063001501\\\\\n",
       "\t 72          & 071         & 4103.00     &  4          & 0           & 0           &   521       & 0           & 0           & 72071410300\\\\\n",
       "\t 37          & 115         & NA          &  3          & 0           & 0           &   452       & 0           & 0           & NA         \\\\\n",
       "\t 22          & 033         & 0052.00     &  5          & 0           & 0           &   704       & 0           & 0           & 22033005200\\\\\n",
       "\t 41          & 051         & 0049.00     & 29          & 0           & 0           &  6545       & 0           & 0           & 41051004900\\\\\n",
       "\t 12          & 009         & 0651.24     &  1          & 0           & 0           &  4920       & 0           & 0           & 12009065124\\\\\n",
       "\t 16          & 031         & 9502.00     & 10          & 0           & 0           &  1710       & 0           & 0           & 16031950200\\\\\n",
       "\t 36          & 047         & 0582.00     &  8          & 0           & 0           &  4792       & 0           & 0           & 36047058200\\\\\n",
       "\t 21          & 067         & 0018.00     &  6          & 0           & 0           &   664       & 0           & 0           & 21067001800\\\\\n",
       "\t 37          & 157         & 0412.00     & 13          & 0           & 0           &  1062       & 0           & 0           & 37157041200\\\\\n",
       "\t 18          & 135         & NA          &  1          & 0           & 0           &    74       & 0           & 0           & NA         \\\\\n",
       "\t 21          & 051         & 9502.00     &  5          & 0           & 0           &   409       & 0           & 0           & 21051950200\\\\\n",
       "\t 20          & 035         & 4940.00     &  6          & 0           & 0           &   191       & 0           & 0           & 20035494000\\\\\n",
       "\t 25          & 017         & 3538.00     & 34          & 0           & 0           & 11703       & 0           & 0           & 25017353800\\\\\n",
       "\t 50          & 019         & 9520.00     & 12          & 0           & 0           &  1917       & 0           & 0           & 50019952000\\\\\n",
       "\t 40          & 101         & 0003.00     &  8          & 0           & 0           &   709       & 0           & 0           & 40101000300\\\\\n",
       "\t 48          & 113         & 0188.02     &  1          & 0           & 0           &    68       & 0           & 0           & 48113018802\\\\\n",
       "\t 39          & 067         & NA          &  1          & 0           & 0           &    67       & 0           & 0           & NA         \\\\\n",
       "\t 06          & 075         & 0104.00     & 33          & 0           & 0           & 20299       & 0           & 0           & 6075010400 \\\\\n",
       "\t 48          & 027         & 0216.02     &  2          & 0           & 0           &   515       & 0           & 0           & 48027021602\\\\\n",
       "\t 20          & 163         & 9746.00     &  5          & 0           & 0           &   289       & 0           & 0           & 20163974600\\\\\n",
       "\t 15          & 003         & 0027.01     &  4          & 0           & 0           &  1749       & 0           & 0           & 15003002701\\\\\n",
       "\t 05          & 119         & 0042.02     & 32          & 0           & 0           &  7643       & 0           & 0           & 5119004202 \\\\\n",
       "\t 05          & 043         & 4902.00     &  5          & 0           & 0           &   915       & 0           & 0           & 5043490200 \\\\\n",
       "\t ... & ... & ... & ... & ... & ... & ... & ... & ... & ...\\\\\n",
       "\t 48          & 439         & 1139.27     &  462        &  213        & NA          &   74745     &  34669      & NA          & 48439113927\\\\\n",
       "\t 49          & 035         & 1130.20     &  449        &  148        & NA          &  105582     &  34733      & NA          & 49035113020\\\\\n",
       "\t 06          & 067         & 0087.05     &  330        &  141        & NA          &   71190     &  34776      & NA          & 6067008705 \\\\\n",
       "\t 51          & 107         & 6118.06     &  403        &   94        & NA          &  157102     &  35316      & NA          & 51107611806\\\\\n",
       "\t 48          & 157         & 6734.00     &  607        &  192        & NA          &  131611     &  35588      & NA          & 48157673400\\\\\n",
       "\t 06          & 077         & 0035.00     &  322        &  179        & NA          &   60680     &  36321      & NA          & 6077003500 \\\\\n",
       "\t 51          & 107         & 6118.02     &  419        &   98        & NA          &  159542     &  38069      & NA          & 51107611802\\\\\n",
       "\t 06          & 107         & 0010.03     &  415        &  197        & NA          &   83999     &  38551      & NA          & 6107001003 \\\\\n",
       "\t 38          & 017         & 0405.00     & 1009        &  237        & NA          &  200789     &  38844      & NA          & 38017040500\\\\\n",
       "\t 06          & 073         & 0133.10     &  439        &  116        & NA          &  140477     &  39155      & NA          & 6073013310 \\\\\n",
       "\t 06          & 029         & 0032.06     &  317        &  213        & NA          &   56491     &  40690      & NA          & 6029003206 \\\\\n",
       "\t 48          & 339         & 6920.01     &  645        &  258        & 40          &  107070     &  40786      & NA          & 48339692001\\\\\n",
       "\t 48          & 121         & 0201.08     &  671        &  216        & NA          &  121125     &  41205      & NA          & 48121020108\\\\\n",
       "\t 49          & 035         & 1131.07     &  465        &  184        & NA          &  103593     &  42146      & NA          & 49035113107\\\\\n",
       "\t 04          & 013         & 4226.46     &  480        &  212        & NA          &   95027     &  43508      & NA          & 4013422646 \\\\\n",
       "\t 06          & 071         & 0023.04     &  293        &  155        & NA          &   76278     &  43897      & NA          & 6071002304 \\\\\n",
       "\t 47          & 187         & 0512.02     &  534        &  225        & NA          &  109581     &  44938      & NA          & 47187051202\\\\\n",
       "\t 06          & 073         & 0133.13     &  487        &  147        & NA          &  155114     &  45844      & NA          & 6073013313 \\\\\n",
       "\t 06          & 067         & 0096.38     &  387        &  151        & NA          &  110901     &  47696      & NA          & 6067009638 \\\\\n",
       "\t 48          & 439         & 1141.03     &  729        &  334        & NA          &  118654     &  50038      & NA          & 48439114103\\\\\n",
       "\t 06          & 061         & 0213.22     &  499        &  149        & NA          &  148030     &  50178      & NA          & 6061021322 \\\\\n",
       "\t 48          & 039         & 6606.02     &  729        &  268        & NA          &  142061     &  50868      & NA          & 48039660602\\\\\n",
       "\t 32          & 003         & 0058.32     &  516        &  298        & NA          &   85463     &  54029      & NA          & 32003005832\\\\\n",
       "\t 06          & 065         & 0406.09     &  417        &  157        & NA          &  139963     &  57956      & NA          & 6065040609 \\\\\n",
       "\t 06          & 077         & 0052.06     &  531        &  194        & NA          &  146652     &  60792      & NA          & 6077005206 \\\\\n",
       "\t 04          & 013         & 8160.00     &  764        &  259        & NA          &  193726     &  63581      & NA          & 4013816000 \\\\\n",
       "\t 48          & 157         & 6731.01     & 2329        &  363        & NA          &  578838     &  76312      & NA          & 48157673101\\\\\n",
       "\t 48          & 157         & 6729.00     & 1145        &  504        & NA          &  203086     &  86009      & NA          & 48157672900\\\\\n",
       "\t 48          & 141         & 0103.41     & 1159        &  591        & NA          &  180263     &  87190      & NA          & 48141010341\\\\\n",
       "\t NA          & NA          & NA          & 9477        & 1932        & NA          & 1575871     & 331515      & NA          & NA         \\\\\n",
       "\\end{tabular}\n"
      ],
      "text/plain": [
       "      State_Code County_Code Census_Tract_Number NUM_ALL NUM_FHA PCT_NUM_FHA\n",
       "1     21         175         9502.00              2      0       0          \n",
       "2     32         003         0024.04              1      0       0          \n",
       "3     36         061         0183.00             51      0       0          \n",
       "4     51         710         0040.01             16      0       0          \n",
       "5     42         131         NA                   1      0       0          \n",
       "6     22         093         0405.00              1      0       0          \n",
       "7     37         063         0015.01              1      0       0          \n",
       "8     72         071         4103.00              4      0       0          \n",
       "9     37         115         NA                   3      0       0          \n",
       "10    22         033         0052.00              5      0       0          \n",
       "11    41         051         0049.00             29      0       0          \n",
       "12    12         009         0651.24              1      0       0          \n",
       "13    16         031         9502.00             10      0       0          \n",
       "14    36         047         0582.00              8      0       0          \n",
       "15    21         067         0018.00              6      0       0          \n",
       "16    37         157         0412.00             13      0       0          \n",
       "17    18         135         NA                   1      0       0          \n",
       "18    21         051         9502.00              5      0       0          \n",
       "19    20         035         4940.00              6      0       0          \n",
       "20    25         017         3538.00             34      0       0          \n",
       "21    50         019         9520.00             12      0       0          \n",
       "22    40         101         0003.00              8      0       0          \n",
       "23    48         113         0188.02              1      0       0          \n",
       "24    39         067         NA                   1      0       0          \n",
       "25    06         075         0104.00             33      0       0          \n",
       "26    48         027         0216.02              2      0       0          \n",
       "27    20         163         9746.00              5      0       0          \n",
       "28    15         003         0027.01              4      0       0          \n",
       "29    05         119         0042.02             32      0       0          \n",
       "30    05         043         4902.00              5      0       0          \n",
       "...   ...        ...         ...                 ...     ...     ...        \n",
       "72006 48         439         1139.27              462     213    NA         \n",
       "72007 49         035         1130.20              449     148    NA         \n",
       "72008 06         067         0087.05              330     141    NA         \n",
       "72009 51         107         6118.06              403      94    NA         \n",
       "72010 48         157         6734.00              607     192    NA         \n",
       "72011 06         077         0035.00              322     179    NA         \n",
       "72012 51         107         6118.02              419      98    NA         \n",
       "72013 06         107         0010.03              415     197    NA         \n",
       "72014 38         017         0405.00             1009     237    NA         \n",
       "72015 06         073         0133.10              439     116    NA         \n",
       "72016 06         029         0032.06              317     213    NA         \n",
       "72017 48         339         6920.01              645     258    40         \n",
       "72018 48         121         0201.08              671     216    NA         \n",
       "72019 49         035         1131.07              465     184    NA         \n",
       "72020 04         013         4226.46              480     212    NA         \n",
       "72021 06         071         0023.04              293     155    NA         \n",
       "72022 47         187         0512.02              534     225    NA         \n",
       "72023 06         073         0133.13              487     147    NA         \n",
       "72024 06         067         0096.38              387     151    NA         \n",
       "72025 48         439         1141.03              729     334    NA         \n",
       "72026 06         061         0213.22              499     149    NA         \n",
       "72027 48         039         6606.02              729     268    NA         \n",
       "72028 32         003         0058.32              516     298    NA         \n",
       "72029 06         065         0406.09              417     157    NA         \n",
       "72030 06         077         0052.06              531     194    NA         \n",
       "72031 04         013         8160.00              764     259    NA         \n",
       "72032 48         157         6731.01             2329     363    NA         \n",
       "72033 48         157         6729.00             1145     504    NA         \n",
       "72034 48         141         0103.41             1159     591    NA         \n",
       "72035 NA         NA          NA                  9477    1932    NA         \n",
       "      AMT_ALL AMT_FHA PCT_AMT_FHA GEOID      \n",
       "1       271   0       0           21175950200\n",
       "2        79   0       0           32003002404\n",
       "3     33258   0       0           36061018300\n",
       "4      4663   0       0           51710004001\n",
       "5       127   0       0           NA         \n",
       "6        30   0       0           22093040500\n",
       "7       160   0       0           37063001501\n",
       "8       521   0       0           72071410300\n",
       "9       452   0       0           NA         \n",
       "10      704   0       0           22033005200\n",
       "11     6545   0       0           41051004900\n",
       "12     4920   0       0           12009065124\n",
       "13     1710   0       0           16031950200\n",
       "14     4792   0       0           36047058200\n",
       "15      664   0       0           21067001800\n",
       "16     1062   0       0           37157041200\n",
       "17       74   0       0           NA         \n",
       "18      409   0       0           21051950200\n",
       "19      191   0       0           20035494000\n",
       "20    11703   0       0           25017353800\n",
       "21     1917   0       0           50019952000\n",
       "22      709   0       0           40101000300\n",
       "23       68   0       0           48113018802\n",
       "24       67   0       0           NA         \n",
       "25    20299   0       0           6075010400 \n",
       "26      515   0       0           48027021602\n",
       "27      289   0       0           20163974600\n",
       "28     1749   0       0           15003002701\n",
       "29     7643   0       0           5119004202 \n",
       "30      915   0       0           5043490200 \n",
       "...   ...     ...     ...         ...        \n",
       "72006   74745  34669  NA          48439113927\n",
       "72007  105582  34733  NA          49035113020\n",
       "72008   71190  34776  NA          6067008705 \n",
       "72009  157102  35316  NA          51107611806\n",
       "72010  131611  35588  NA          48157673400\n",
       "72011   60680  36321  NA          6077003500 \n",
       "72012  159542  38069  NA          51107611802\n",
       "72013   83999  38551  NA          6107001003 \n",
       "72014  200789  38844  NA          38017040500\n",
       "72015  140477  39155  NA          6073013310 \n",
       "72016   56491  40690  NA          6029003206 \n",
       "72017  107070  40786  NA          48339692001\n",
       "72018  121125  41205  NA          48121020108\n",
       "72019  103593  42146  NA          49035113107\n",
       "72020   95027  43508  NA          4013422646 \n",
       "72021   76278  43897  NA          6071002304 \n",
       "72022  109581  44938  NA          47187051202\n",
       "72023  155114  45844  NA          6073013313 \n",
       "72024  110901  47696  NA          6067009638 \n",
       "72025  118654  50038  NA          48439114103\n",
       "72026  148030  50178  NA          6061021322 \n",
       "72027  142061  50868  NA          48039660602\n",
       "72028   85463  54029  NA          32003005832\n",
       "72029  139963  57956  NA          6065040609 \n",
       "72030  146652  60792  NA          6077005206 \n",
       "72031  193726  63581  NA          4013816000 \n",
       "72032  578838  76312  NA          48157673101\n",
       "72033  203086  86009  NA          48157672900\n",
       "72034  180263  87190  NA          48141010341\n",
       "72035 1575871 331515  NA          NA         "
      ]
     },
     "metadata": {},
     "output_type": "display_data"
    }
   ],
   "source": [
    "dtbystate = dt[order(State_Code)]\n",
    "dtbystate\n",
    "dtbyAMTFHA = dt[order(AMT_FHA)]\n",
    "dtbyAMTFHA"
   ]
  },
  {
   "cell_type": "markdown",
   "metadata": {
    "collapsed": true
   },
   "source": [
    "# Unique values"
   ]
  },
  {
   "cell_type": "code",
   "execution_count": 15,
   "metadata": {
    "collapsed": false,
    "scrolled": true
   },
   "outputs": [
    {
     "data": {
      "text/html": [
       "<table>\n",
       "<thead><tr><th scope=col>State_Code</th><th scope=col>County_Code</th><th scope=col>Census_Tract_Number</th><th scope=col>NUM_ALL</th><th scope=col>NUM_FHA</th><th scope=col>PCT_NUM_FHA</th><th scope=col>AMT_ALL</th><th scope=col>AMT_FHA</th><th scope=col>PCT_AMT_FHA</th><th scope=col>GEOID</th></tr></thead>\n",
       "<tbody>\n",
       "\t<tr><td>08         </td><td>075        </td><td>NA         </td><td>1          </td><td>1          </td><td>100        </td><td>258        </td><td>258        </td><td>100        </td><td>NA         </td></tr>\n",
       "\t<tr><td>28         </td><td>049        </td><td>0103.01    </td><td>1          </td><td>1          </td><td>100        </td><td> 71        </td><td> 71        </td><td>100        </td><td>28049010301</td></tr>\n",
       "\t<tr><td>40         </td><td>003        </td><td>NA         </td><td>1          </td><td>1          </td><td>100        </td><td>215        </td><td>215        </td><td>100        </td><td>NA         </td></tr>\n",
       "\t<tr><td>39         </td><td>113        </td><td>0603.00    </td><td>3          </td><td>3          </td><td>100        </td><td>206        </td><td>206        </td><td>100        </td><td>39113060300</td></tr>\n",
       "\t<tr><td>12         </td><td>105        </td><td>0124.04    </td><td>2          </td><td>2          </td><td>100        </td><td>303        </td><td>303        </td><td>100        </td><td>12105012404</td></tr>\n",
       "\t<tr><td>12         </td><td>086        </td><td>9808.00    </td><td>1          </td><td>1          </td><td>100        </td><td>188        </td><td>188        </td><td>100        </td><td>12086980800</td></tr>\n",
       "</tbody>\n",
       "</table>\n"
      ],
      "text/latex": [
       "\\begin{tabular}{r|llllllllll}\n",
       " State\\_Code & County\\_Code & Census\\_Tract\\_Number & NUM\\_ALL & NUM\\_FHA & PCT\\_NUM\\_FHA & AMT\\_ALL & AMT\\_FHA & PCT\\_AMT\\_FHA & GEOID\\\\\n",
       "\\hline\n",
       "\t 08          & 075         & NA          & 1           & 1           & 100         & 258         & 258         & 100         & NA         \\\\\n",
       "\t 28          & 049         & 0103.01     & 1           & 1           & 100         &  71         &  71         & 100         & 28049010301\\\\\n",
       "\t 40          & 003         & NA          & 1           & 1           & 100         & 215         & 215         & 100         & NA         \\\\\n",
       "\t 39          & 113         & 0603.00     & 3           & 3           & 100         & 206         & 206         & 100         & 39113060300\\\\\n",
       "\t 12          & 105         & 0124.04     & 2           & 2           & 100         & 303         & 303         & 100         & 12105012404\\\\\n",
       "\t 12          & 086         & 9808.00     & 1           & 1           & 100         & 188         & 188         & 100         & 12086980800\\\\\n",
       "\\end{tabular}\n"
      ],
      "text/plain": [
       "  State_Code County_Code Census_Tract_Number NUM_ALL NUM_FHA PCT_NUM_FHA\n",
       "1 08         075         NA                  1       1       100        \n",
       "2 28         049         0103.01             1       1       100        \n",
       "3 40         003         NA                  1       1       100        \n",
       "4 39         113         0603.00             3       3       100        \n",
       "5 12         105         0124.04             2       2       100        \n",
       "6 12         086         9808.00             1       1       100        \n",
       "  AMT_ALL AMT_FHA PCT_AMT_FHA GEOID      \n",
       "1 258     258     100         NA         \n",
       "2  71      71     100         28049010301\n",
       "3 215     215     100         NA         \n",
       "4 206     206     100         39113060300\n",
       "5 303     303     100         12105012404\n",
       "6 188     188     100         12086980800"
      ]
     },
     "metadata": {},
     "output_type": "display_data"
    },
    {
     "data": {
      "text/html": [
       "72035"
      ],
      "text/latex": [
       "72035"
      ],
      "text/markdown": [
       "72035"
      ],
      "text/plain": [
       "[1] 72035"
      ]
     },
     "metadata": {},
     "output_type": "display_data"
    }
   ],
   "source": [
    "head(unique(dt))\n",
    "nrow(unique(dt))"
   ]
  },
  {
   "cell_type": "markdown",
   "metadata": {
    "collapsed": true
   },
   "source": [
    "# Handling missing and NA data"
   ]
  },
  {
   "cell_type": "code",
   "execution_count": 16,
   "metadata": {
    "collapsed": false
   },
   "outputs": [
    {
     "name": "stderr",
     "output_type": "stream",
     "text": [
      "Warning message:\n",
      "\"package 'zoo' was built under R version 3.3.3\"\n",
      "Attaching package: 'zoo'\n",
      "\n",
      "The following objects are masked from 'package:base':\n",
      "\n",
      "    as.Date, as.Date.numeric\n",
      "\n"
     ]
    },
    {
     "data": {
      "text/html": [
       "<table>\n",
       "<thead><tr><th scope=col>GEOID</th></tr></thead>\n",
       "<tbody>\n",
       "\t<tr><td>NA         </td></tr>\n",
       "\t<tr><td>28049010301</td></tr>\n",
       "\t<tr><td>NA         </td></tr>\n",
       "\t<tr><td>39113060300</td></tr>\n",
       "\t<tr><td>12105012404</td></tr>\n",
       "\t<tr><td>12086980800</td></tr>\n",
       "\t<tr><td>39035120200</td></tr>\n",
       "\t<tr><td>12103020700</td></tr>\n",
       "\t<tr><td>36119003000</td></tr>\n",
       "\t<tr><td>NA         </td></tr>\n",
       "</tbody>\n",
       "</table>\n"
      ],
      "text/latex": [
       "\\begin{tabular}{r|l}\n",
       " GEOID\\\\\n",
       "\\hline\n",
       "\t NA         \\\\\n",
       "\t 28049010301\\\\\n",
       "\t NA         \\\\\n",
       "\t 39113060300\\\\\n",
       "\t 12105012404\\\\\n",
       "\t 12086980800\\\\\n",
       "\t 39035120200\\\\\n",
       "\t 12103020700\\\\\n",
       "\t 36119003000\\\\\n",
       "\t NA         \\\\\n",
       "\\end{tabular}\n"
      ],
      "text/plain": [
       "   GEOID      \n",
       "1  NA         \n",
       "2  28049010301\n",
       "3  NA         \n",
       "4  39113060300\n",
       "5  12105012404\n",
       "6  12086980800\n",
       "7  39035120200\n",
       "8  12103020700\n",
       "9  36119003000\n",
       "10 NA         "
      ]
     },
     "metadata": {},
     "output_type": "display_data"
    },
    {
     "data": {
      "text/html": [
       "<ol class=list-inline>\n",
       "\t<li>TRUE</li>\n",
       "\t<li>FALSE</li>\n",
       "\t<li>TRUE</li>\n",
       "\t<li>FALSE</li>\n",
       "\t<li>FALSE</li>\n",
       "\t<li>FALSE</li>\n",
       "\t<li>FALSE</li>\n",
       "\t<li>FALSE</li>\n",
       "\t<li>FALSE</li>\n",
       "\t<li>TRUE</li>\n",
       "</ol>\n"
      ],
      "text/latex": [
       "\\begin{enumerate*}\n",
       "\\item TRUE\n",
       "\\item FALSE\n",
       "\\item TRUE\n",
       "\\item FALSE\n",
       "\\item FALSE\n",
       "\\item FALSE\n",
       "\\item FALSE\n",
       "\\item FALSE\n",
       "\\item FALSE\n",
       "\\item TRUE\n",
       "\\end{enumerate*}\n"
      ],
      "text/markdown": [
       "1. TRUE\n",
       "2. FALSE\n",
       "3. TRUE\n",
       "4. FALSE\n",
       "5. FALSE\n",
       "6. FALSE\n",
       "7. FALSE\n",
       "8. FALSE\n",
       "9. FALSE\n",
       "10. TRUE\n",
       "\n",
       "\n"
      ],
      "text/plain": [
       " [1]  TRUE FALSE  TRUE FALSE FALSE FALSE FALSE FALSE FALSE  TRUE"
      ]
     },
     "metadata": {},
     "output_type": "display_data"
    },
    {
     "data": {
      "text/html": [
       "1"
      ],
      "text/latex": [
       "1"
      ],
      "text/markdown": [
       "1"
      ],
      "text/plain": [
       "[1] 1"
      ]
     },
     "metadata": {},
     "output_type": "display_data"
    },
    {
     "data": {
      "text/html": [
       "1"
      ],
      "text/latex": [
       "1"
      ],
      "text/markdown": [
       "1"
      ],
      "text/plain": [
       "[1] 1"
      ]
     },
     "metadata": {},
     "output_type": "display_data"
    },
    {
     "name": "stderr",
     "output_type": "stream",
     "text": [
      "Warning message in mean.default(dt$GEOID, na.rm = TRUE):\n",
      "\"argument is not numeric or logical: returning NA\"Warning message in `[<-.data.table`(x, j = name, value = value):\n",
      "\"Supplied 72034 items to be assigned to 72035 items of column 'FILL_inter' (recycled leaving remainder of 1 items).\"Warning message in `[<-.data.table`(x, j = name, value = value):\n",
      "\"Coerced 'double' RHS to 'character' to match the column's type; may have truncated precision. Either change the target column to 'double' first (by creating a new 'double' vector length 72035 (nrows of entire table) and assign that; i.e. 'replace' column), or coerce RHS to 'character' (e.g. 1L, NA_[real|integer]_, as.*, etc) to make your intent clear and for speed. Or, set the column type correctly up front when you create the table and stick to it, please.\""
     ]
    },
    {
     "data": {
      "text/html": [
       "<table>\n",
       "<thead><tr><th scope=col>GEOID</th><th scope=col>FILL0</th><th scope=col>FILL_mean</th><th scope=col>FILL_inter</th></tr></thead>\n",
       "<tbody>\n",
       "\t<tr><td>NA           </td><td>0            </td><td>NA           </td><td>28049010301  </td></tr>\n",
       "\t<tr><td>28049010301  </td><td>28049010301  </td><td>28049010301  </td><td>33581035300.5</td></tr>\n",
       "\t<tr><td>NA           </td><td>0            </td><td>NA           </td><td>39113060300  </td></tr>\n",
       "\t<tr><td>39113060300  </td><td>39113060300  </td><td>39113060300  </td><td>12105012404  </td></tr>\n",
       "\t<tr><td>12105012404  </td><td>12105012404  </td><td>12105012404  </td><td>12086980800  </td></tr>\n",
       "\t<tr><td>12086980800  </td><td>12086980800  </td><td>12086980800  </td><td>39035120200  </td></tr>\n",
       "\t<tr><td>39035120200  </td><td>39035120200  </td><td>39035120200  </td><td>12103020700  </td></tr>\n",
       "\t<tr><td>12103020700  </td><td>12103020700  </td><td>12103020700  </td><td>36119003000  </td></tr>\n",
       "\t<tr><td>36119003000  </td><td>36119003000  </td><td>36119003000  </td><td>42116005852  </td></tr>\n",
       "\t<tr><td>NA           </td><td>0            </td><td>NA           </td><td>48113008704  </td></tr>\n",
       "</tbody>\n",
       "</table>\n"
      ],
      "text/latex": [
       "\\begin{tabular}{r|llll}\n",
       " GEOID & FILL0 & FILL\\_mean & FILL\\_inter\\\\\n",
       "\\hline\n",
       "\t NA            & 0             & NA            & 28049010301  \\\\\n",
       "\t 28049010301   & 28049010301   & 28049010301   & 33581035300.5\\\\\n",
       "\t NA            & 0             & NA            & 39113060300  \\\\\n",
       "\t 39113060300   & 39113060300   & 39113060300   & 12105012404  \\\\\n",
       "\t 12105012404   & 12105012404   & 12105012404   & 12086980800  \\\\\n",
       "\t 12086980800   & 12086980800   & 12086980800   & 39035120200  \\\\\n",
       "\t 39035120200   & 39035120200   & 39035120200   & 12103020700  \\\\\n",
       "\t 12103020700   & 12103020700   & 12103020700   & 36119003000  \\\\\n",
       "\t 36119003000   & 36119003000   & 36119003000   & 42116005852  \\\\\n",
       "\t NA            & 0             & NA            & 48113008704  \\\\\n",
       "\\end{tabular}\n"
      ],
      "text/plain": [
       "   GEOID       FILL0       FILL_mean   FILL_inter   \n",
       "1  NA          0           NA          28049010301  \n",
       "2  28049010301 28049010301 28049010301 33581035300.5\n",
       "3  NA          0           NA          39113060300  \n",
       "4  39113060300 39113060300 39113060300 12105012404  \n",
       "5  12105012404 12105012404 12105012404 12086980800  \n",
       "6  12086980800 12086980800 12086980800 39035120200  \n",
       "7  39035120200 39035120200 39035120200 12103020700  \n",
       "8  12103020700 12103020700 12103020700 36119003000  \n",
       "9  36119003000 36119003000 36119003000 42116005852  \n",
       "10 NA          0           NA          48113008704  "
      ]
     },
     "metadata": {},
     "output_type": "display_data"
    }
   ],
   "source": [
    "library(zoo)\n",
    "dt[, c('GEOID')][1:10]\n",
    "is.na(dt[, c('GEOID')])[1:10]\n",
    "length(dt[, c('GEOID')])\n",
    "length(na.omit(dt[, c('GEOID')]))\n",
    "dt$FILL0 <- dt$GEOID\n",
    "dt$FILL0[which(is.na(dt$GEOID))] <- 0 #sostituisco Na con valore 0\n",
    "dt$FILL_mean <- dt$GEOID\n",
    "dt$FILL_mean[which(is.na(dt$GEOID))] <- mean(dt$GEOID, na.rm = TRUE)\n",
    "dt$FILL_inter <- dt$GEOID\n",
    "dt$FILL_inter <- na.approx(dt$FILL_inter)\n",
    "dt[, c('GEOID', 'FILL0', 'FILL_mean', 'FILL_inter')][1:10,]"
   ]
  },
  {
   "cell_type": "markdown",
   "metadata": {
    "collapsed": true
   },
   "source": [
    "# Manipulating strings"
   ]
  },
  {
   "cell_type": "code",
   "execution_count": 17,
   "metadata": {
    "collapsed": false
   },
   "outputs": [
    {
     "name": "stderr",
     "output_type": "stream",
     "text": [
      "Warning message:\n",
      "\"package 'stringr' was built under R version 3.3.3\"Warning message:\n",
      "\"package 'dplyr' was built under R version 3.3.3\"------------------------------------------------------------------------------\n",
      "data.table + dplyr code now lives in dtplyr.\n",
      "Please library(dtplyr)!\n",
      "------------------------------------------------------------------------------\n",
      "\n",
      "Attaching package: 'dplyr'\n",
      "\n",
      "The following objects are masked from 'package:data.table':\n",
      "\n",
      "    between, first, last\n",
      "\n",
      "The following objects are masked from 'package:stats':\n",
      "\n",
      "    filter, lag\n",
      "\n",
      "The following objects are masked from 'package:base':\n",
      "\n",
      "    intersect, setdiff, setequal, union\n",
      "\n"
     ]
    }
   ],
   "source": [
    "library(stringr)\n",
    "library(dplyr)\n",
    "dtstring = dt_joined %>% filter(str_detect(USPS, \"A\"))"
   ]
  },
  {
   "cell_type": "markdown",
   "metadata": {
    "collapsed": true
   },
   "source": [
    "# Indices in Pandas"
   ]
  },
  {
   "cell_type": "code",
   "execution_count": 18,
   "metadata": {
    "collapsed": false
   },
   "outputs": [
    {
     "data": {
      "text/html": [
       "<dl class=dl-horizontal>\n",
       "\t<dt>a</dt>\n",
       "\t\t<dd>4</dd>\n",
       "\t<dt>b</dt>\n",
       "\t\t<dd>4</dd>\n",
       "\t<dt>c</dt>\n",
       "\t\t<dd>4</dd>\n",
       "</dl>\n"
      ],
      "text/latex": [
       "\\begin{description*}\n",
       "\\item[a] 4\n",
       "\\item[b] 4\n",
       "\\item[c] 4\n",
       "\\end{description*}\n"
      ],
      "text/markdown": [
       "a\n",
       ":   4b\n",
       ":   4c\n",
       ":   4\n",
       "\n"
      ],
      "text/plain": [
       "a b c \n",
       "4 4 4 "
      ]
     },
     "metadata": {},
     "output_type": "display_data"
    },
    {
     "data": {
      "text/html": [
       "<dl class=dl-horizontal>\n",
       "\t<dt>a</dt>\n",
       "\t\t<dd>4</dd>\n",
       "\t<dt>b</dt>\n",
       "\t\t<dd>4</dd>\n",
       "\t<dt>c</dt>\n",
       "\t\t<dd>4</dd>\n",
       "</dl>\n"
      ],
      "text/latex": [
       "\\begin{description*}\n",
       "\\item[a] 4\n",
       "\\item[b] 4\n",
       "\\item[c] 4\n",
       "\\end{description*}\n"
      ],
      "text/markdown": [
       "a\n",
       ":   4b\n",
       ":   4c\n",
       ":   4\n",
       "\n"
      ],
      "text/plain": [
       "a b c \n",
       "4 4 4 "
      ]
     },
     "metadata": {},
     "output_type": "display_data"
    },
    {
     "data": {
      "text/html": [
       "<dl class=dl-horizontal>\n",
       "\t<dt>a</dt>\n",
       "\t\t<dd>1</dd>\n",
       "\t<dt>b</dt>\n",
       "\t\t<dd>2</dd>\n",
       "\t<dt>c</dt>\n",
       "\t\t<dd>3</dd>\n",
       "\t<dt>c</dt>\n",
       "\t\t<dd>3</dd>\n",
       "\t<dt>d</dt>\n",
       "\t\t<dd>2</dd>\n",
       "\t<dt>e</dt>\n",
       "\t\t<dd>1</dd>\n",
       "</dl>\n"
      ],
      "text/latex": [
       "\\begin{description*}\n",
       "\\item[a] 1\n",
       "\\item[b] 2\n",
       "\\item[c] 3\n",
       "\\item[c] 3\n",
       "\\item[d] 2\n",
       "\\item[e] 1\n",
       "\\end{description*}\n"
      ],
      "text/markdown": [
       "a\n",
       ":   1b\n",
       ":   2c\n",
       ":   3c\n",
       ":   3d\n",
       ":   2e\n",
       ":   1\n",
       "\n"
      ],
      "text/plain": [
       "a b c c d e \n",
       "1 2 3 3 2 1 "
      ]
     },
     "metadata": {},
     "output_type": "display_data"
    }
   ],
   "source": [
    "\n",
    "s1 <- c(1, 2, 3)\n",
    "names(s1) = c('a', 'b', 'c')\n",
    "s2 <- c(3, 2, 1)\n",
    "names(s2) = c('c', 'b', 'a')\n",
    "s1 + s2\n",
    "s3 <- c(3, 2, 1)\n",
    "names(s3) = c('c', 'd', 'e')\n",
    "s1 + s3\n",
    "append(s1, s3)"
   ]
  },
  {
   "cell_type": "markdown",
   "metadata": {
    "collapsed": true
   },
   "source": [
    "# Function application and mapping"
   ]
  },
  {
   "cell_type": "code",
   "execution_count": 19,
   "metadata": {
    "collapsed": false
   },
   "outputs": [
    {
     "data": {
      "text/html": [
       "<table>\n",
       "<thead><tr><th scope=col>V1</th><th scope=col>V2</th><th scope=col>V3</th><th scope=col>V4</th><th scope=col>V5</th><th scope=col>V6</th></tr></thead>\n",
       "<tbody>\n",
       "\t<tr><td>0.8414710   </td><td>0.9092974   </td><td>0.1411200   </td><td>-0.756802495</td><td>-0.9589243  </td><td>-0.2794155  </td></tr>\n",
       "\t<tr><td>0.6569866   </td><td>0.9893582   </td><td>0.4121185   </td><td>-0.544021111</td><td>-0.9999902  </td><td>-0.5365729  </td></tr>\n",
       "\t<tr><td>0.4201670   </td><td>0.9906074   </td><td>0.6502878   </td><td>-0.287903317</td><td>-0.9613975  </td><td>-0.7509872  </td></tr>\n",
       "\t<tr><td>0.1498772   </td><td>0.9129453   </td><td>0.8366556   </td><td>-0.008851309</td><td>-0.8462204  </td><td>-0.9055784  </td></tr>\n",
       "</tbody>\n",
       "</table>\n"
      ],
      "text/latex": [
       "\\begin{tabular}{r|llllll}\n",
       " V1 & V2 & V3 & V4 & V5 & V6\\\\\n",
       "\\hline\n",
       "\t 0.8414710    & 0.9092974    & 0.1411200    & -0.756802495 & -0.9589243   & -0.2794155  \\\\\n",
       "\t 0.6569866    & 0.9893582    & 0.4121185    & -0.544021111 & -0.9999902   & -0.5365729  \\\\\n",
       "\t 0.4201670    & 0.9906074    & 0.6502878    & -0.287903317 & -0.9613975   & -0.7509872  \\\\\n",
       "\t 0.1498772    & 0.9129453    & 0.8366556    & -0.008851309 & -0.8462204   & -0.9055784  \\\\\n",
       "\\end{tabular}\n"
      ],
      "text/plain": [
       "  V1        V2        V3        V4           V5         V6        \n",
       "1 0.8414710 0.9092974 0.1411200 -0.756802495 -0.9589243 -0.2794155\n",
       "2 0.6569866 0.9893582 0.4121185 -0.544021111 -0.9999902 -0.5365729\n",
       "3 0.4201670 0.9906074 0.6502878 -0.287903317 -0.9613975 -0.7509872\n",
       "4 0.1498772 0.9129453 0.8366556 -0.008851309 -0.8462204 -0.9055784"
      ]
     },
     "metadata": {},
     "output_type": "display_data"
    },
    {
     "data": {
      "text/html": [
       "<table>\n",
       "<thead><tr><th scope=col>V1</th><th scope=col>V2</th><th scope=col>V3</th><th scope=col>V4</th><th scope=col>V5</th><th scope=col>V6</th></tr></thead>\n",
       "<tbody>\n",
       "\t<tr><td> 1</td><td> 2</td><td> 3</td><td> 4</td><td> 5</td><td> 6</td></tr>\n",
       "\t<tr><td> 7</td><td> 8</td><td> 9</td><td>10</td><td>11</td><td>12</td></tr>\n",
       "\t<tr><td>13</td><td>14</td><td>15</td><td>16</td><td>17</td><td>18</td></tr>\n",
       "\t<tr><td>19</td><td>20</td><td>21</td><td>22</td><td>23</td><td>24</td></tr>\n",
       "</tbody>\n",
       "</table>\n"
      ],
      "text/latex": [
       "\\begin{tabular}{r|llllll}\n",
       " V1 & V2 & V3 & V4 & V5 & V6\\\\\n",
       "\\hline\n",
       "\t  1 &  2 &  3 &  4 &  5 &  6\\\\\n",
       "\t  7 &  8 &  9 & 10 & 11 & 12\\\\\n",
       "\t 13 & 14 & 15 & 16 & 17 & 18\\\\\n",
       "\t 19 & 20 & 21 & 22 & 23 & 24\\\\\n",
       "\\end{tabular}\n"
      ],
      "text/plain": [
       "  V1 V2 V3 V4 V5 V6\n",
       "1  1  2  3  4  5  6\n",
       "2  7  8  9 10 11 12\n",
       "3 13 14 15 16 17 18\n",
       "4 19 20 21 22 23 24"
      ]
     },
     "metadata": {},
     "output_type": "display_data"
    },
    {
     "data": {
      "text/html": [
       "<table>\n",
       "<thead><tr><th scope=col>V1</th><th scope=col>V2</th><th scope=col>V3</th><th scope=col>V4</th><th scope=col>V5</th><th scope=col>V6</th></tr></thead>\n",
       "<tbody>\n",
       "\t<tr><td>1.00 </td><td>2.00 </td><td>3.00 </td><td>4.00 </td><td>5.00 </td><td>6.00 </td></tr>\n",
       "\t<tr><td>7.00 </td><td>8.00 </td><td>9.00 </td><td>10.00</td><td>11.00</td><td>12.00</td></tr>\n",
       "\t<tr><td>13.00</td><td>14.00</td><td>15.00</td><td>16.00</td><td>17.00</td><td>18.00</td></tr>\n",
       "\t<tr><td>19.00</td><td>20.00</td><td>21.00</td><td>22.00</td><td>23.00</td><td>24.00</td></tr>\n",
       "</tbody>\n",
       "</table>\n"
      ],
      "text/latex": [
       "\\begin{tabular}{llllll}\n",
       " V1 & V2 & V3 & V4 & V5 & V6\\\\\n",
       "\\hline\n",
       "\t 1.00  & 2.00  & 3.00  & 4.00  & 5.00  & 6.00 \\\\\n",
       "\t 7.00  & 8.00  & 9.00  & 10.00 & 11.00 & 12.00\\\\\n",
       "\t 13.00 & 14.00 & 15.00 & 16.00 & 17.00 & 18.00\\\\\n",
       "\t 19.00 & 20.00 & 21.00 & 22.00 & 23.00 & 24.00\\\\\n",
       "\\end{tabular}\n"
      ],
      "text/markdown": [
       "1. '1.00'\n",
       "2. '7.00'\n",
       "3. '13.00'\n",
       "4. '19.00'\n",
       "5. '2.00'\n",
       "6. '8.00'\n",
       "7. '14.00'\n",
       "8. '20.00'\n",
       "9. '3.00'\n",
       "10. '9.00'\n",
       "11. '15.00'\n",
       "12. '21.00'\n",
       "13. '4.00'\n",
       "14. '10.00'\n",
       "15. '16.00'\n",
       "16. '22.00'\n",
       "17. '5.00'\n",
       "18. '11.00'\n",
       "19. '17.00'\n",
       "20. '23.00'\n",
       "21. '6.00'\n",
       "22. '12.00'\n",
       "23. '18.00'\n",
       "24. '24.00'\n",
       "\n",
       "\n"
      ],
      "text/plain": [
       "     V1    V2    V3    V4    V5    V6   \n",
       "[1,] 1.00  2.00  3.00  4.00  5.00  6.00 \n",
       "[2,] 7.00  8.00  9.00  10.00 11.00 12.00\n",
       "[3,] 13.00 14.00 15.00 16.00 17.00 18.00\n",
       "[4,] 19.00 20.00 21.00 22.00 23.00 24.00"
      ]
     },
     "metadata": {},
     "output_type": "display_data"
    },
    {
     "data": {
      "text/html": [
       "<dl class=dl-horizontal>\n",
       "\t<dt>V1</dt>\n",
       "\t\t<dd>18</dd>\n",
       "\t<dt>V2</dt>\n",
       "\t\t<dd>18</dd>\n",
       "\t<dt>V3</dt>\n",
       "\t\t<dd>18</dd>\n",
       "\t<dt>V4</dt>\n",
       "\t\t<dd>18</dd>\n",
       "\t<dt>V5</dt>\n",
       "\t\t<dd>18</dd>\n",
       "\t<dt>V6</dt>\n",
       "\t\t<dd>18</dd>\n",
       "</dl>\n"
      ],
      "text/latex": [
       "\\begin{description*}\n",
       "\\item[V1] 18\n",
       "\\item[V2] 18\n",
       "\\item[V3] 18\n",
       "\\item[V4] 18\n",
       "\\item[V5] 18\n",
       "\\item[V6] 18\n",
       "\\end{description*}\n"
      ],
      "text/markdown": [
       "V1\n",
       ":   18V2\n",
       ":   18V3\n",
       ":   18V4\n",
       ":   18V5\n",
       ":   18V6\n",
       ":   18\n",
       "\n"
      ],
      "text/plain": [
       "V1 V2 V3 V4 V5 V6 \n",
       "18 18 18 18 18 18 "
      ]
     },
     "metadata": {},
     "output_type": "display_data"
    },
    {
     "data": {
      "text/html": [
       "<ol class=list-inline>\n",
       "\t<li>5</li>\n",
       "\t<li>5</li>\n",
       "\t<li>5</li>\n",
       "\t<li>5</li>\n",
       "</ol>\n"
      ],
      "text/latex": [
       "\\begin{enumerate*}\n",
       "\\item 5\n",
       "\\item 5\n",
       "\\item 5\n",
       "\\item 5\n",
       "\\end{enumerate*}\n"
      ],
      "text/markdown": [
       "1. 5\n",
       "2. 5\n",
       "3. 5\n",
       "4. 5\n",
       "\n",
       "\n"
      ],
      "text/plain": [
       "[1] 5 5 5 5"
      ]
     },
     "metadata": {},
     "output_type": "display_data"
    }
   ],
   "source": [
    "dff <- as.data.frame(matrix(1:24, ncol = 6, nrow = 4, byrow = TRUE))\n",
    "head(sin(dff))\n",
    "dff\n",
    "apply(dff, 1:2, function(x) sprintf(\"%.2f\", x))\n",
    "apply(dff, 2, function(x) max(x) - min(x))\n",
    "apply(dff, 1, function(x) max(x) - min(x))"
   ]
  },
  {
   "cell_type": "markdown",
   "metadata": {
    "collapsed": true
   },
   "source": [
    "# Pandas HTML data import example   "
   ]
  },
  {
   "cell_type": "code",
   "execution_count": 20,
   "metadata": {
    "collapsed": false
   },
   "outputs": [
    {
     "name": "stderr",
     "output_type": "stream",
     "text": [
      "Warning message:\n",
      "\"package 'htmltab' was built under R version 3.3.3\""
     ]
    },
    {
     "data": {
      "text/html": [
       "<table>\n",
       "<thead><tr><th></th><th scope=col>Category</th><th scope=col>Structure</th><th scope=col>Country</th><th scope=col>City</th><th scope=col>Height (metres)</th><th scope=col>Height (feet)</th><th scope=col>Year built</th><th scope=col>Coordinates</th><th scope=col>Latitude</th><th scope=col>Longitude</th></tr></thead>\n",
       "<tbody>\n",
       "\t<tr><th scope=row>2</th><td>Mixed use                                                                                                                                       </td><td>Burj Khalifa                                                                                                                                    </td><td>Â United Arab Emirates                                                                                                                          </td><td>Dubai                                                                                                                                           </td><td>828.1                                                                                                                                           </td><td>2,717                                                                                                                                           </td><td>2010                                                                                                                                            </td><td>25Â°11â€²50.0â€³N55Â°16â€²26.6â€³Eï»¿ / ï»¿25.197222Â°N 55.274056Â°E                                                                            </td><td>25.197222                                                                                                                                       </td><td>55.274056                                                                                                                                       </td></tr>\n",
       "\t<tr><th scope=row>3</th><td>Self-supporting tower                                                                                                                           </td><td>Tokyo Skytree                                                                                                                                   </td><td>Â Japan                                                                                                                                         </td><td>Tokyo                                                                                                                                           </td><td>634                                                                                                                                             </td><td>2,080                                                                                                                                           </td><td>2011                                                                                                                                            </td><td>35Â°42â€²36.5â€³N139Â°48â€²39â€³Eï»¿ / ï»¿35.710139Â°N 139.81083Â°E                                                                             </td><td>35.710139                                                                                                                                       </td><td>139.81083                                                                                                                                       </td></tr>\n",
       "\t<tr><th scope=row>4</th><td>Guyed steel lattice mast                                                                                                                        </td><td>KVLY-TV mast                                                                                                                                    </td><td>Â United States                                                                                                                                 </td><td>Blanchard, North Dakota                                                                                                                         </td><td>628.8                                                                                                                                           </td><td>2,063                                                                                                                                           </td><td>1963                                                                                                                                            </td><td>47Â°20â€²32â€³N97Â°17â€²25â€³Wï»¿ / ï»¿47.34222Â°N 97.29028Â°W                                                                                  </td><td>47.34222                                                                                                                                        </td><td>97.29028                                                                                                                                        </td></tr>\n",
       "\t<tr><th scope=row>5</th><td>Clock building                                                                                                                                  </td><td>Abraj Al Bait Towers                                                                                                                            </td><td>Â Saudi Arabia                                                                                                                                  </td><td>Mecca                                                                                                                                           </td><td>601                                                                                                                                             </td><td>1,972                                                                                                                                           </td><td>2011                                                                                                                                            </td><td>21Â°25â€²08â€³N39Â°49â€²35â€³Eï»¿ / ï»¿21.41889Â°N 39.82639Â°E                                                                                  </td><td>21.41889                                                                                                                                        </td><td>39.82639                                                                                                                                        </td></tr>\n",
       "\t<tr><th scope=row>6</th><td>Office                                                                                                                                          </td><td>One World Trade Center                                                                                                                          </td><td>Â United States                                                                                                                                 </td><td>New York, NY                                                                                                                                    </td><td>541                                                                                                                                             </td><td>1,776                                                                                                                                           </td><td>2013                                                                                                                                            </td><td>40Â°42â€²46.8â€³N74Â°0â€²48.6â€³Wï»¿ / ï»¿40.713000Â°N 74.013500Â°W                                                                             </td><td>40.713000                                                                                                                                       </td><td>74.013500                                                                                                                                       </td></tr>\n",
       "\t<tr><th scope=row>7</th><td>Military structure                                                                                                                              </td><td>Large masts of INS Kattabomman                                                                                                                  </td><td>Â India                                                                                                                                         </td><td>Tirunelveli                                                                                                                                     </td><td>471                                                                                                                                             </td><td>1,545                                                                                                                                           </td><td>2014                                                                                                                                            </td><td>8Â°22â€²42.52â€³N77Â°44â€²38.45â€³Eï»¿ / ï»¿8.3784778Â°N 77.7440139Â°EÂ ; 8Â°22â€²30.13â€³N77Â°45â€²21.07â€³Eï»¿ / ï»¿8.3750361Â°N 77.7558528Â°E</td><td>8.375036                                                                                                                                        </td><td>77.755852                                                                                                                                       </td></tr>\n",
       "</tbody>\n",
       "</table>\n"
      ],
      "text/latex": [
       "\\begin{tabular}{r|llllllllll}\n",
       "  & Category & Structure & Country & City & Height (metres) & Height (feet) & Year built & Coordinates & Latitude & Longitude\\\\\n",
       "\\hline\n",
       "\t2 & Mixed use                                                                                                                                        & Burj Khalifa                                                                                                                                     & Â United Arab Emirates                                                                                                                           & Dubai                                                                                                                                            & 828.1                                                                                                                                            & 2,717                                                                                                                                            & 2010                                                                                                                                             & 25Â°11â€²50.0â€³N55Â°16â€²26.6â€³Eï»¿ / ï»¿25.197222Â°N 55.274056Â°E                                                                             & 25.197222                                                                                                                                        & 55.274056                                                                                                                                       \\\\\n",
       "\t3 & Self-supporting tower                                                                                                                            & Tokyo Skytree                                                                                                                                    & Â Japan                                                                                                                                          & Tokyo                                                                                                                                            & 634                                                                                                                                              & 2,080                                                                                                                                            & 2011                                                                                                                                             & 35Â°42â€²36.5â€³N139Â°48â€²39â€³Eï»¿ / ï»¿35.710139Â°N 139.81083Â°E                                                                              & 35.710139                                                                                                                                        & 139.81083                                                                                                                                       \\\\\n",
       "\t4 & Guyed steel lattice mast                                                                                                                         & KVLY-TV mast                                                                                                                                     & Â United States                                                                                                                                  & Blanchard, North Dakota                                                                                                                          & 628.8                                                                                                                                            & 2,063                                                                                                                                            & 1963                                                                                                                                             & 47Â°20â€²32â€³N97Â°17â€²25â€³Wï»¿ / ï»¿47.34222Â°N 97.29028Â°W                                                                                   & 47.34222                                                                                                                                         & 97.29028                                                                                                                                        \\\\\n",
       "\t5 & Clock building                                                                                                                                   & Abraj Al Bait Towers                                                                                                                             & Â Saudi Arabia                                                                                                                                   & Mecca                                                                                                                                            & 601                                                                                                                                              & 1,972                                                                                                                                            & 2011                                                                                                                                             & 21Â°25â€²08â€³N39Â°49â€²35â€³Eï»¿ / ï»¿21.41889Â°N 39.82639Â°E                                                                                   & 21.41889                                                                                                                                         & 39.82639                                                                                                                                        \\\\\n",
       "\t6 & Office                                                                                                                                           & One World Trade Center                                                                                                                           & Â United States                                                                                                                                  & New York, NY                                                                                                                                     & 541                                                                                                                                              & 1,776                                                                                                                                            & 2013                                                                                                                                             & 40Â°42â€²46.8â€³N74Â°0â€²48.6â€³Wï»¿ / ï»¿40.713000Â°N 74.013500Â°W                                                                              & 40.713000                                                                                                                                        & 74.013500                                                                                                                                       \\\\\n",
       "\t7 & Military structure                                                                                                                               & Large masts of INS Kattabomman                                                                                                                   & Â India                                                                                                                                          & Tirunelveli                                                                                                                                      & 471                                                                                                                                              & 1,545                                                                                                                                            & 2014                                                                                                                                             & 8Â°22â€²42.52â€³N77Â°44â€²38.45â€³Eï»¿ / ï»¿8.3784778Â°N 77.7440139Â°EÂ ; 8Â°22â€²30.13â€³N77Â°45â€²21.07â€³Eï»¿ / ï»¿8.3750361Â°N 77.7558528Â°E & 8.375036                                                                                                                                         & 77.755852                                                                                                                                       \\\\\n",
       "\\end{tabular}\n"
      ],
      "text/plain": [
       "  Category                 Structure                     \n",
       "2 Mixed use                Burj Khalifa                  \n",
       "3 Self-supporting tower    Tokyo Skytree                 \n",
       "4 Guyed steel lattice mast KVLY-TV mast                  \n",
       "5 Clock building           Abraj Al Bait Towers          \n",
       "6 Office                   One World Trade Center        \n",
       "7 Military structure       Large masts of INS Kattabomman\n",
       "  Country                City                    Height (metres) Height (feet)\n",
       "2 Â United Arab Emirates Dubai                   828.1           2,717        \n",
       "3 Â Japan                Tokyo                   634             2,080        \n",
       "4 Â United States        Blanchard, North Dakota 628.8           2,063        \n",
       "5 Â Saudi Arabia         Mecca                   601             1,972        \n",
       "6 Â United States        New York, NY            541             1,776        \n",
       "7 Â India                Tirunelveli             471             1,545        \n",
       "  Year built\n",
       "2 2010      \n",
       "3 2011      \n",
       "4 1963      \n",
       "5 2011      \n",
       "6 2013      \n",
       "7 2014      \n",
       "  Coordinates                                                                                                                                     \n",
       "2 25Â°11â²50.0â³N55Â°16â²26.6â³Eï»¿ / ï»¿25.197222Â°N 55.274056Â°E                                                                            \n",
       "3 35Â°42â²36.5â³N139Â°48â²39â³Eï»¿ / ï»¿35.710139Â°N 139.81083Â°E                                                                             \n",
       "4 47Â°20â²32â³N97Â°17â²25â³Wï»¿ / ï»¿47.34222Â°N 97.29028Â°W                                                                                  \n",
       "5 21Â°25â²08â³N39Â°49â²35â³Eï»¿ / ï»¿21.41889Â°N 39.82639Â°E                                                                                  \n",
       "6 40Â°42â²46.8â³N74Â°0â²48.6â³Wï»¿ / ï»¿40.713000Â°N 74.013500Â°W                                                                             \n",
       "7 8Â°22â²42.52â³N77Â°44â²38.45â³Eï»¿ / ï»¿8.3784778Â°N 77.7440139Â°EÂ ; 8Â°22â²30.13â³N77Â°45â²21.07â³Eï»¿ / ï»¿8.3750361Â°N 77.7558528Â°E\n",
       "  Latitude  Longitude\n",
       "2 25.197222 55.274056\n",
       "3 35.710139 139.81083\n",
       "4 47.34222  97.29028 \n",
       "5 21.41889  39.82639 \n",
       "6 40.713000 74.013500\n",
       "7 8.375036  77.755852"
      ]
     },
     "metadata": {},
     "output_type": "display_data"
    }
   ],
   "source": [
    "library(htmltab)\n",
    "library(stringi)\n",
    "require(data.table)\n",
    "url <- \"http://en.wikipedia.org/wiki/List_of_tallest_buildings_and_structures_in_the_world\"\n",
    "tallest <- htmltab(doc = url, which = 3)\n",
    "tl = t(as.data.table(stri_extract_all(tallest$Coordinates, regex = \"-?\\\\d{1,3}+\\\\.?\\\\d{4,6}\")))\n",
    "tallest$Latitude = tl[, 3]\n",
    "tallest$Longitude = tl[, 4]\n",
    "rm(tl)\n",
    "head(tallest)"
   ]
  },
  {
   "cell_type": "markdown",
   "metadata": {
    "collapsed": true
   },
   "source": [
    "# Pandas Timestamps"
   ]
  },
  {
   "cell_type": "code",
   "execution_count": 21,
   "metadata": {
    "collapsed": false
   },
   "outputs": [
    {
     "data": {
      "text/html": [
       "'C'"
      ],
      "text/latex": [
       "'C'"
      ],
      "text/markdown": [
       "'C'"
      ],
      "text/plain": [
       "[1] \"C\""
      ]
     },
     "metadata": {},
     "output_type": "display_data"
    },
    {
     "data": {
      "text/plain": [
       "[1] \"2016-07-04 CEST\""
      ]
     },
     "metadata": {},
     "output_type": "display_data"
    },
    {
     "data": {
      "text/plain": [
       "[1] \"2016-07-04 CEST\""
      ]
     },
     "metadata": {},
     "output_type": "display_data"
    },
    {
     "data": {
      "text/plain": [
       "[1] \"2016-07-04 CEST\""
      ]
     },
     "metadata": {},
     "output_type": "display_data"
    },
    {
     "data": {
      "text/plain": [
       "[1] \"2016-07-04 17:00:00 CEST\""
      ]
     },
     "metadata": {},
     "output_type": "display_data"
    },
    {
     "data": {
      "text/plain": [
       "[1] \"2016-07-04 17:20:13 CEST\""
      ]
     },
     "metadata": {},
     "output_type": "display_data"
    },
    {
     "data": {
      "text/plain": [
       "[1] \"2016-07-04\""
      ]
     },
     "metadata": {},
     "output_type": "display_data"
    },
    {
     "data": {
      "text/plain": [
       "Time difference of -56.20833 days"
      ]
     },
     "metadata": {},
     "output_type": "display_data"
    },
    {
     "name": "stderr",
     "output_type": "stream",
     "text": [
      "Warning message:\n",
      "\"package 'bizdays' was built under R version 3.3.3\"\n",
      "Attaching package: 'bizdays'\n",
      "\n",
      "The following object is masked from 'package:stats':\n",
      "\n",
      "    offset\n",
      "\n",
      "Warning message:\n",
      "\"package 'lubridate' was built under R version 3.3.3\"\n",
      "Attaching package: 'lubridate'\n",
      "\n",
      "The following objects are masked from 'package:data.table':\n",
      "\n",
      "    hour, isoweek, mday, minute, month, quarter, second, wday, week,\n",
      "    yday, year\n",
      "\n",
      "The following object is masked from 'package:base':\n",
      "\n",
      "    date\n",
      "\n"
     ]
    },
    {
     "data": {
      "text/plain": [
       "[1] \"2016-07-31\""
      ]
     },
     "metadata": {},
     "output_type": "display_data"
    },
    {
     "data": {
      "text/plain": [
       "[1] \"2016-07-11\""
      ]
     },
     "metadata": {},
     "output_type": "display_data"
    },
    {
     "data": {
      "text/plain": [
       "[1] \"2016-07-01\""
      ]
     },
     "metadata": {},
     "output_type": "display_data"
    },
    {
     "data": {
      "text/plain": [
       "[1] NA"
      ]
     },
     "metadata": {},
     "output_type": "display_data"
    },
    {
     "data": {
      "text/plain": [
       "  [1] \"2016-01-04\" \"2016-01-05\" \"2016-01-06\" \"2016-01-07\" \"2016-01-08\"\n",
       "  [6] \"2016-01-11\" \"2016-01-12\" \"2016-01-13\" \"2016-01-14\" \"2016-01-15\"\n",
       " [11] \"2016-01-18\" \"2016-01-19\" \"2016-01-20\" \"2016-01-21\" \"2016-01-22\"\n",
       " [16] \"2016-01-25\" \"2016-01-26\" \"2016-01-27\" \"2016-01-28\" \"2016-01-29\"\n",
       " [21] \"2016-02-01\" \"2016-02-02\" \"2016-02-03\" \"2016-02-04\" \"2016-02-05\"\n",
       " [26] \"2016-02-10\" \"2016-02-11\" \"2016-02-12\" \"2016-02-15\" \"2016-02-16\"\n",
       " [31] \"2016-02-17\" \"2016-02-18\" \"2016-02-19\" \"2016-02-22\" \"2016-02-23\"\n",
       " [36] \"2016-02-24\" \"2016-02-25\" \"2016-02-26\" \"2016-02-29\" \"2016-03-01\"\n",
       " [41] \"2016-03-02\" \"2016-03-03\" \"2016-03-04\" \"2016-03-07\" \"2016-03-08\"\n",
       " [46] \"2016-03-09\" \"2016-03-10\" \"2016-03-11\" \"2016-03-14\" \"2016-03-15\"\n",
       " [51] \"2016-03-16\" \"2016-03-17\" \"2016-03-18\" \"2016-03-21\" \"2016-03-22\"\n",
       " [56] \"2016-03-23\" \"2016-03-24\" \"2016-03-28\" \"2016-03-29\" \"2016-03-30\"\n",
       " [61] \"2016-03-31\" \"2016-04-01\" \"2016-04-04\" \"2016-04-05\" \"2016-04-06\"\n",
       " [66] \"2016-04-07\" \"2016-04-08\" \"2016-04-11\" \"2016-04-12\" \"2016-04-13\"\n",
       " [71] \"2016-04-14\" \"2016-04-15\" \"2016-04-18\" \"2016-04-19\" \"2016-04-20\"\n",
       " [76] \"2016-04-22\" \"2016-04-25\" \"2016-04-26\" \"2016-04-27\" \"2016-04-28\"\n",
       " [81] \"2016-04-29\" \"2016-05-02\" \"2016-05-03\" \"2016-05-04\" \"2016-05-05\"\n",
       " [86] \"2016-05-06\" \"2016-05-09\" \"2016-05-10\" \"2016-05-11\" \"2016-05-12\"\n",
       " [91] \"2016-05-13\" \"2016-05-16\" \"2016-05-17\" \"2016-05-18\" \"2016-05-19\"\n",
       " [96] \"2016-05-20\" \"2016-05-23\" \"2016-05-24\" \"2016-05-25\" \"2016-05-27\"\n",
       "[101] \"2016-05-30\" \"2016-05-31\" \"2016-06-01\" \"2016-06-02\" \"2016-06-03\"\n",
       "[106] \"2016-06-06\" \"2016-06-07\" \"2016-06-08\" \"2016-06-09\" \"2016-06-10\"\n",
       "[111] \"2016-06-13\" \"2016-06-14\" \"2016-06-15\" \"2016-06-16\" \"2016-06-17\"\n",
       "[116] \"2016-06-20\" \"2016-06-21\" \"2016-06-22\" \"2016-06-23\" \"2016-06-24\"\n",
       "[121] \"2016-06-27\" \"2016-06-28\" \"2016-06-29\" \"2016-06-30\" \"2016-07-01\"\n",
       "[126] \"2016-07-04\" \"2016-07-05\" \"2016-07-06\" \"2016-07-07\" \"2016-07-08\"\n",
       "[131] \"2016-07-11\" \"2016-07-12\" \"2016-07-13\" \"2016-07-14\" \"2016-07-15\"\n",
       "[136] \"2016-07-18\" \"2016-07-19\" \"2016-07-20\" \"2016-07-21\" \"2016-07-22\"\n",
       "[141] \"2016-07-25\" \"2016-07-26\" \"2016-07-27\" \"2016-07-28\" \"2016-07-29\"\n",
       "[146] \"2016-08-01\" \"2016-08-02\" \"2016-08-03\" \"2016-08-04\" \"2016-08-05\"\n",
       "[151] \"2016-08-08\" \"2016-08-09\" \"2016-08-10\" \"2016-08-11\" \"2016-08-12\"\n",
       "[156] \"2016-08-15\" \"2016-08-16\" \"2016-08-17\" \"2016-08-18\" \"2016-08-19\"\n",
       "[161] \"2016-08-22\" \"2016-08-23\" \"2016-08-24\" \"2016-08-25\" \"2016-08-26\"\n",
       "[166] \"2016-08-29\" \"2016-08-30\" \"2016-08-31\" \"2016-09-01\" \"2016-09-02\"\n",
       "[171] \"2016-09-05\" \"2016-09-06\" \"2016-09-08\" \"2016-09-09\" \"2016-09-12\"\n",
       "[176] \"2016-09-13\" \"2016-09-14\" \"2016-09-15\" \"2016-09-16\" \"2016-09-19\"\n",
       "[181] \"2016-09-20\" \"2016-09-21\" \"2016-09-22\" \"2016-09-23\" \"2016-09-26\"\n",
       "[186] \"2016-09-27\" \"2016-09-28\" \"2016-09-29\" \"2016-09-30\" \"2016-10-03\"\n",
       "[191] \"2016-10-04\" \"2016-10-05\" \"2016-10-06\" \"2016-10-07\" \"2016-10-10\"\n",
       "[196] \"2016-10-11\" \"2016-10-13\" \"2016-10-14\" \"2016-10-17\" \"2016-10-18\"\n",
       "[201] \"2016-10-19\" \"2016-10-20\" \"2016-10-21\" \"2016-10-24\" \"2016-10-25\"\n",
       "[206] \"2016-10-26\" \"2016-10-27\" \"2016-10-28\" \"2016-10-31\" \"2016-11-01\"\n",
       "[211] \"2016-11-03\" \"2016-11-04\" \"2016-11-07\" \"2016-11-08\" \"2016-11-09\"\n",
       "[216] \"2016-11-10\" \"2016-11-11\" \"2016-11-14\" \"2016-11-16\" \"2016-11-17\"\n",
       "[221] \"2016-11-18\" \"2016-11-21\" \"2016-11-22\" \"2016-11-23\" \"2016-11-24\"\n",
       "[226] \"2016-11-25\" \"2016-11-28\" \"2016-11-29\" \"2016-11-30\" \"2016-12-01\"\n",
       "[231] \"2016-12-02\" \"2016-12-05\" \"2016-12-06\" \"2016-12-07\" \"2016-12-08\"\n",
       "[236] \"2016-12-09\" \"2016-12-12\" \"2016-12-13\" \"2016-12-14\" \"2016-12-15\"\n",
       "[241] \"2016-12-16\" \"2016-12-19\" \"2016-12-20\" \"2016-12-21\" \"2016-12-22\"\n",
       "[246] \"2016-12-23\" \"2016-12-26\" \"2016-12-27\" \"2016-12-28\" \"2016-12-29\"\n",
       "[251] \"2016-12-30\""
      ]
     },
     "metadata": {},
     "output_type": "display_data"
    },
    {
     "data": {
      "text/html": [
       "<table>\n",
       "<thead><tr><th scope=col>US</th><th scope=col>UK</th></tr></thead>\n",
       "<tbody>\n",
       "\t<tr><td>2009-03-07 12:00:00</td><td>2009-03-07 20:00:00</td></tr>\n",
       "\t<tr><td>2009-03-08 12:00:00</td><td>2009-03-08 19:00:00</td></tr>\n",
       "\t<tr><td>2009-03-28 12:00:00</td><td>2009-03-28 19:00:00</td></tr>\n",
       "\t<tr><td>2009-03-29 12:00:00</td><td>2009-03-29 20:00:00</td></tr>\n",
       "\t<tr><td>2009-10-24 12:00:00</td><td>2009-10-24 20:00:00</td></tr>\n",
       "\t<tr><td>2009-10-25 12:00:00</td><td>2009-10-25 19:00:00</td></tr>\n",
       "\t<tr><td>2009-10-31 12:00:00</td><td>2009-10-31 19:00:00</td></tr>\n",
       "\t<tr><td>2009-11-01 12:00:00</td><td>2009-11-01 20:00:00</td></tr>\n",
       "</tbody>\n",
       "</table>\n"
      ],
      "text/latex": [
       "\\begin{tabular}{ll}\n",
       " US & UK\\\\\n",
       "\\hline\n",
       "\t 2009-03-07 12:00:00 & 2009-03-07 20:00:00\\\\\n",
       "\t 2009-03-08 12:00:00 & 2009-03-08 19:00:00\\\\\n",
       "\t 2009-03-28 12:00:00 & 2009-03-28 19:00:00\\\\\n",
       "\t 2009-03-29 12:00:00 & 2009-03-29 20:00:00\\\\\n",
       "\t 2009-10-24 12:00:00 & 2009-10-24 20:00:00\\\\\n",
       "\t 2009-10-25 12:00:00 & 2009-10-25 19:00:00\\\\\n",
       "\t 2009-10-31 12:00:00 & 2009-10-31 19:00:00\\\\\n",
       "\t 2009-11-01 12:00:00 & 2009-11-01 20:00:00\\\\\n",
       "\\end{tabular}\n"
      ],
      "text/markdown": [
       "1. '2009-03-07 12:00:00'\n",
       "2. '2009-03-08 12:00:00'\n",
       "3. '2009-03-28 12:00:00'\n",
       "4. '2009-03-29 12:00:00'\n",
       "5. '2009-10-24 12:00:00'\n",
       "6. '2009-10-25 12:00:00'\n",
       "7. '2009-10-31 12:00:00'\n",
       "8. '2009-11-01 12:00:00'\n",
       "9. '2009-03-07 20:00:00'\n",
       "10. '2009-03-08 19:00:00'\n",
       "11. '2009-03-28 19:00:00'\n",
       "12. '2009-03-29 20:00:00'\n",
       "13. '2009-10-24 20:00:00'\n",
       "14. '2009-10-25 19:00:00'\n",
       "15. '2009-10-31 19:00:00'\n",
       "16. '2009-11-01 20:00:00'\n",
       "\n",
       "\n"
      ],
      "text/plain": [
       "     US                  UK                 \n",
       "[1,] 2009-03-07 12:00:00 2009-03-07 20:00:00\n",
       "[2,] 2009-03-08 12:00:00 2009-03-08 19:00:00\n",
       "[3,] 2009-03-28 12:00:00 2009-03-28 19:00:00\n",
       "[4,] 2009-03-29 12:00:00 2009-03-29 20:00:00\n",
       "[5,] 2009-10-24 12:00:00 2009-10-24 20:00:00\n",
       "[6,] 2009-10-25 12:00:00 2009-10-25 19:00:00\n",
       "[7,] 2009-10-31 12:00:00 2009-10-31 19:00:00\n",
       "[8,] 2009-11-01 12:00:00 2009-11-01 20:00:00"
      ]
     },
     "metadata": {},
     "output_type": "display_data"
    }
   ],
   "source": [
    "Sys.setlocale(\"LC_TIME\", \"C\")\n",
    "as.POSIXlt(\"July 4, 2016\", format = \"%B %d, %Y\")\n",
    "as.POSIXlt('Monday, July 4, 2016', format = \"%A, %B %d, %Y\")\n",
    "as.POSIXlt('Tuesday, July 4th, 2016', format = \"%A, %B %dth, %Y\")\n",
    "as.POSIXlt('Monday, July 4th, 2016 05:00 PM', format = \"%A, %B %dth, %Y %I:%M %p\")\n",
    "as.POSIXlt('04/07/2016T17:20:13.123456', format = \"%d/%m/%YT%H:%M:%OS\")\n",
    "as.Date(as.POSIXlt(1467651600000000000 / 1000000000, origin = \"1970-01-01\"))\n",
    "\n",
    "july4 = as.POSIXct('Monday, July 4th, 2016 05:00 PM', format = \"%A, %B %dth, %Y %I:%M %p\", tz = \"US/Eastern\")\n",
    "labor_day = as.POSIXct('9/5/2016 12:00', format = \"%d/%m/%Y %H:%M\", tz = \"US/Eastern\")\n",
    "thanksgiving = as.POSIXct('11/24/2016 16:00', format = \"%m/%d/%Y %H:%M\")\n",
    "\n",
    "labor_day - july4\n",
    "library(bizdays)\n",
    "library(lubridate)\n",
    "last_day <- function(date) {\n",
    "    ceiling_date(date, \"month\") - days(1)\n",
    "}\n",
    "last_day(ymd(20160704))\n",
    "create.calendar(name = 'ANBIMA', holidays = holidaysANBIMA, weekdays = c('saturday', 'sunday'))\n",
    "bizdays.options$set(default.calendar = 'ANBIMA')\n",
    "cal = bizdays.options$get(\"default.calendar\")\n",
    "bizdays::offset(july4, 5, cal)\n",
    "bizdays::offset(july4, -1, cal)\n",
    "bizdays::offset(last_day(ymd(20160704)), 0, cal) # last business day of the month.\n",
    "\n",
    "require(bizdays)\n",
    "business_days = bizseq('2016-01-01', '2016-12-31', \"ANBIMA\")\n",
    "business_days\n",
    "\n",
    "dtimed = data.table(x = business_days, y = seq(1, length(business_days)))\n",
    "setkey(dtimed, x)\n",
    "\n",
    "d <- c(\"2009-03-07 12:00\", \"2009-03-08 12:00\", \"2009-03-28 12:00\", \"2009-03-29 12:00\", \"2009-10-24 12:00\", \"2009-10-25 12:00\", \"2009-10-31 12:00\", \"2009-11-01 12:00\")\n",
    "t1 <- as.POSIXct(d, \"America/Los_Angeles\")\n",
    "cbind(US = format(t1), UK = format(t1, tz = \"Europe/London\"))"
   ]
  },
  {
   "cell_type": "markdown",
   "metadata": {
    "collapsed": true
   },
   "source": [
    "# Multi-indices, stacking, and pivot tables"
   ]
  },
  {
   "cell_type": "code",
   "execution_count": 22,
   "metadata": {
    "collapsed": false
   },
   "outputs": [
    {
     "data": {
      "text/html": [
       "<table>\n",
       "<thead><tr><th scope=col>State_Code</th><th scope=col>County_Code</th><th scope=col>sum_NUM_ALL</th><th scope=col>sum_NUM_FHA</th></tr></thead>\n",
       "<tbody>\n",
       "\t<tr><td>10  </td><td>001 </td><td>1508</td><td> 328</td></tr>\n",
       "\t<tr><td>10  </td><td>003 </td><td>4620</td><td>1716</td></tr>\n",
       "\t<tr><td>10  </td><td>005 </td><td>2977</td><td> 229</td></tr>\n",
       "\t<tr><td>11  </td><td>001 </td><td>6605</td><td>1154</td></tr>\n",
       "\t<tr><td>12  </td><td>001 </td><td>1542</td><td> 439</td></tr>\n",
       "\t<tr><td>12  </td><td>003 </td><td>  99</td><td>  27</td></tr>\n",
       "</tbody>\n",
       "</table>\n"
      ],
      "text/latex": [
       "\\begin{tabular}{r|llll}\n",
       " State\\_Code & County\\_Code & sum\\_NUM\\_ALL & sum\\_NUM\\_FHA\\\\\n",
       "\\hline\n",
       "\t 10   & 001  & 1508 &  328\\\\\n",
       "\t 10   & 003  & 4620 & 1716\\\\\n",
       "\t 10   & 005  & 2977 &  229\\\\\n",
       "\t 11   & 001  & 6605 & 1154\\\\\n",
       "\t 12   & 001  & 1542 &  439\\\\\n",
       "\t 12   & 003  &   99 &   27\\\\\n",
       "\\end{tabular}\n"
      ],
      "text/plain": [
       "  State_Code County_Code sum_NUM_ALL sum_NUM_FHA\n",
       "1 10         001         1508         328       \n",
       "2 10         003         4620        1716       \n",
       "3 10         005         2977         229       \n",
       "4 11         001         6605        1154       \n",
       "5 12         001         1542         439       \n",
       "6 12         003           99          27       "
      ]
     },
     "metadata": {},
     "output_type": "display_data"
    },
    {
     "name": "stderr",
     "output_type": "stream",
     "text": [
      "Warning message:\n",
      "\"package 'reshape2' was built under R version 3.3.3\"\n",
      "Attaching package: 'reshape2'\n",
      "\n",
      "The following objects are masked from 'package:data.table':\n",
      "\n",
      "    dcast, melt\n",
      "\n"
     ]
    },
    {
     "data": {
      "text/html": [
       "<table>\n",
       "<thead><tr><th scope=col>State_Code</th><th scope=col>001</th><th scope=col>003</th><th scope=col>005</th><th scope=col>006</th><th scope=col>007</th><th scope=col>009</th><th scope=col>011</th><th scope=col>013</th><th scope=col>015</th><th scope=col>...</th><th scope=col>760</th><th scope=col>770</th><th scope=col>775</th><th scope=col>790</th><th scope=col>800</th><th scope=col>810</th><th scope=col>820</th><th scope=col>830</th><th scope=col>840</th><th scope=col>NA</th></tr></thead>\n",
       "<tbody>\n",
       "\t<tr><td>10  </td><td> 328</td><td>1716</td><td>229 </td><td>NA  </td><td>NA  </td><td>  NA</td><td>  NA</td><td> NA </td><td> NA </td><td>... </td><td>NA  </td><td>NA  </td><td>NA  </td><td>NA  </td><td>NA  </td><td>NA  </td><td>NA  </td><td>NA  </td><td>NA  </td><td>NA  </td></tr>\n",
       "\t<tr><td>11  </td><td>1154</td><td>  NA</td><td> NA </td><td>NA  </td><td>NA  </td><td>  NA</td><td>  NA</td><td> NA </td><td> NA </td><td>... </td><td>NA  </td><td>NA  </td><td>NA  </td><td>NA  </td><td>NA  </td><td>NA  </td><td>NA  </td><td>NA  </td><td>NA  </td><td>NA  </td></tr>\n",
       "\t<tr><td>12  </td><td> 439</td><td>  27</td><td>241 </td><td>NA  </td><td>11  </td><td>1514</td><td>5059</td><td>  3 </td><td>278 </td><td>... </td><td>NA  </td><td>NA  </td><td>NA  </td><td>NA  </td><td>NA  </td><td>NA  </td><td>NA  </td><td>NA  </td><td>NA  </td><td>NA  </td></tr>\n",
       "\t<tr><td>13  </td><td>  17</td><td>   2</td><td>  5 </td><td>NA  </td><td> 1  </td><td>  30</td><td>  16</td><td>209 </td><td>199 </td><td>... </td><td>NA  </td><td>NA  </td><td>NA  </td><td>NA  </td><td>NA  </td><td>NA  </td><td>NA  </td><td>NA  </td><td>NA  </td><td>NA  </td></tr>\n",
       "\t<tr><td>15  </td><td> 109</td><td> 259</td><td> NA </td><td>NA  </td><td>40  </td><td> 163</td><td>  NA</td><td> NA </td><td> NA </td><td>... </td><td>NA  </td><td>NA  </td><td>NA  </td><td>NA  </td><td>NA  </td><td>NA  </td><td>NA  </td><td>NA  </td><td>NA  </td><td>NA  </td></tr>\n",
       "\t<tr><td>16  </td><td>1426</td><td>   3</td><td>220 </td><td>NA  </td><td>12  </td><td>   7</td><td>  51</td><td> 31 </td><td> 11 </td><td>... </td><td>NA  </td><td>NA  </td><td>NA  </td><td>NA  </td><td>NA  </td><td>NA  </td><td>NA  </td><td>NA  </td><td>NA  </td><td>NA  </td></tr>\n",
       "</tbody>\n",
       "</table>\n"
      ],
      "text/latex": [
       "\\begin{tabular}{r|llllllllllllllllllllllllllllllllllllllllllllllllllllllllllllllllllllllllllllllllllllllllllllllllllllllllllllllllllllllllllllllllllllllllllllllllllllllllllllllllllllllllllllllllllllllllllllllllllllllllllllllllllllllllllllllllllllllllllllllllllllllllllllllllllllllllllllllllllllllllllllllllllllllllllllll}\n",
       " State\\_Code & 001 & 003 & 005 & 006 & 007 & 009 & 011 & 013 & 015 & ... & 760 & 770 & 775 & 790 & 800 & 810 & 820 & 830 & 840 & NA\\\\\n",
       "\\hline\n",
       "\t 10   &  328 & 1716 & 229  & NA   & NA   &   NA &   NA &  NA  &  NA  & ...  & NA   & NA   & NA   & NA   & NA   & NA   & NA   & NA   & NA   & NA  \\\\\n",
       "\t 11   & 1154 &   NA &  NA  & NA   & NA   &   NA &   NA &  NA  &  NA  & ...  & NA   & NA   & NA   & NA   & NA   & NA   & NA   & NA   & NA   & NA  \\\\\n",
       "\t 12   &  439 &   27 & 241  & NA   & 11   & 1514 & 5059 &   3  & 278  & ...  & NA   & NA   & NA   & NA   & NA   & NA   & NA   & NA   & NA   & NA  \\\\\n",
       "\t 13   &   17 &    2 &   5  & NA   &  1   &   30 &   16 & 209  & 199  & ...  & NA   & NA   & NA   & NA   & NA   & NA   & NA   & NA   & NA   & NA  \\\\\n",
       "\t 15   &  109 &  259 &  NA  & NA   & 40   &  163 &   NA &  NA  &  NA  & ...  & NA   & NA   & NA   & NA   & NA   & NA   & NA   & NA   & NA   & NA  \\\\\n",
       "\t 16   & 1426 &    3 & 220  & NA   & 12   &    7 &   51 &  31  &  11  & ...  & NA   & NA   & NA   & NA   & NA   & NA   & NA   & NA   & NA   & NA  \\\\\n",
       "\\end{tabular}\n"
      ],
      "text/plain": [
       "  State_Code 001  003  005 006 007 009  011  013 015 ... 760 770 775 790 800\n",
       "1 10          328 1716 229 NA  NA    NA   NA  NA  NA ... NA  NA  NA  NA  NA \n",
       "2 11         1154   NA  NA NA  NA    NA   NA  NA  NA ... NA  NA  NA  NA  NA \n",
       "3 12          439   27 241 NA  11  1514 5059   3 278 ... NA  NA  NA  NA  NA \n",
       "4 13           17    2   5 NA   1    30   16 209 199 ... NA  NA  NA  NA  NA \n",
       "5 15          109  259  NA NA  40   163   NA  NA  NA ... NA  NA  NA  NA  NA \n",
       "6 16         1426    3 220 NA  12     7   51  31  11 ... NA  NA  NA  NA  NA \n",
       "  810 820 830 840 NA\n",
       "1 NA  NA  NA  NA  NA\n",
       "2 NA  NA  NA  NA  NA\n",
       "3 NA  NA  NA  NA  NA\n",
       "4 NA  NA  NA  NA  NA\n",
       "5 NA  NA  NA  NA  NA\n",
       "6 NA  NA  NA  NA  NA"
      ]
     },
     "metadata": {},
     "output_type": "display_data"
    }
   ],
   "source": [
    "grouped = group_by(dt_joined, State_Code, County_Code)\n",
    "grouped_summ = summarise(grouped,\n",
    "                        sum_NUM_ALL = sum(NUM_ALL),\n",
    "                        sum_NUM_FHA = sum(NUM_FHA))\n",
    "\n",
    "head(grouped_summ)\n",
    "library(reshape2)\n",
    "unstacked = dcast(grouped_summ, State_Code ~ County_Code, value.var = \"sum_NUM_FHA\")\n",
    "head(unstacked)"
   ]
  }
 ],
 "metadata": {
  "kernelspec": {
   "display_name": "R",
   "language": "R",
   "name": "ir"
  },
  "language_info": {
   "codemirror_mode": "r",
   "file_extension": ".r",
   "mimetype": "text/x-r-source",
   "name": "R",
   "pygments_lexer": "r",
   "version": "3.3.2"
  }
 },
 "nbformat": 4,
 "nbformat_minor": 2
}
